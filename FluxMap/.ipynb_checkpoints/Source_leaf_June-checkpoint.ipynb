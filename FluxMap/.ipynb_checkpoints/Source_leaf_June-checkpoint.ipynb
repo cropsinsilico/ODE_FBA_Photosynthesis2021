{
 "cells": [
  {
   "cell_type": "code",
   "execution_count": 4,
   "metadata": {},
   "outputs": [
    {
     "name": "stdout",
     "output_type": "stream",
     "text": [
      "Read LP format model from file C:\\Users\\sanus\\AppData\\Local\\Temp\\tmpztx_5cca.lp\n",
      "Reading time = 0.02 seconds\n",
      ": 862 rows, 1784 columns, 8920 nonzeros\n",
      "Read LP format model from file C:\\Users\\sanus\\AppData\\Local\\Temp\\tmpqd08oyqi.lp\n",
      "Reading time = 0.02 seconds\n",
      ": 875 rows, 1818 columns, 9022 nonzeros\n",
      "Sucrose export rate =-0.951312780711277\n",
      "Extra APTase flux =0.002732975601105538\n",
      "ASPARTATE_SEMIALDEHYDE_DEHYDROGENASE_RXN_p\t-0.01463332106067452=0\n",
      "ACETOOHBUTREDUCTOISOM_RXN_p\t-0.002262581804080253=0\n",
      "N_ACETYLGLUTPREDUCT_RXN_p\t-0.0005436072533303178=0\n",
      "NADPHoxp_tx\t-0.8544444444444445=0\n",
      "ACETOLACTREDUCTOISOM_RXN_p\t-0.00627352203297275=0\n",
      "SHIKIMATE_5_DEHYDROGENASE_RXN_p\t-0.008492027506594182=0\n",
      "HOMOSERDEHYDROG_RXN_NADP_p\t-0.011753671416099674=0\n",
      "DIHYDROPICRED_RXN_NADP_p\t-0.0028796496445748485=0\n",
      "1_PERIOD_18_PERIOD_1_PERIOD_2_RXN_p\t-4.064629960330572=0\n",
      "GLUTATHIONE_REDUCT_NADPH_RXN_p\t-0.001087214506660204=0\n",
      "NADPH_source_from_ODE\t4.967=0\n",
      "MALATE_DEH_RXN_p\t0.0035210071645997943=0\n",
      "0.0035210071645997943\n",
      "PYRUVDEH_RXN_p\t0.003217567449205331=0.0035210071645997943\n",
      "PREPHENATEDEHYDROG_RXN_p\t0.0005436072533303175=0.0035210071645997943\n",
      "GLUTAMATE_SYNTHASE_NADH_RXN_p\t-0.7386057585817117=0.0035210071645997943\n",
      "GAPOXNPHOSPHN_RXN_p\t0.7275624020120423=0.0035210071645997943\n",
      "RXN_8001_p\t0.001087214506660635=0.0035210071645997943\n",
      "3_ISOPROPYLMALDEHYDROG_RXN_p\t0.0026739601958754447=0.0035210071645997943\n",
      "Extra NADPH flux =0.0035210071645997943\n"
     ]
    }
   ],
   "source": [
    "def addAllantoinMetabolism(backup):\n",
    "    model = backup.copy()\n",
    "    ############\n",
    "    # Nino-Gonzalez et al 2019\n",
    "    # Chen et al 2006\n",
    "    # Ritzel et al 2001\n",
    "    # Takagi et al 2018\n",
    "    met1 = Metabolite(\"S_ALLANTOIN_c\",name=\"S-ALLANTOIN:(S)-(+)-allantoin\",\n",
    "                      formula=\"C4H6N4O3\",compartment=\"c\",\n",
    "                      charge=0)\n",
    "    amet1 = Metabolite(\"aS_ALLANTOIN_c\",name=\"S-ALLANTOIN:(S)-(+)-allantoin\",\n",
    "                      formula=\"C4H5N4O3\",compartment=\"c\",\n",
    "                      charge=-1)\n",
    "\n",
    "    rxn1 = Reaction(\"Allantoin_tx\",name=\"Allantoin uptake\")\n",
    "    rxn1.add_metabolites({model.metabolites.PROTON_e:-1,\n",
    "                          model.metabolites.PROTON_c:1,met1:0.78,amet1:0.22})\n",
    "    rxn1.gene_reaction_rule='Glyma.15G066400'\n",
    "    rxn1.lower_bound = 0\n",
    "    rxn1.upper_bound = 1000\n",
    "    ##########\n",
    "    met2 = Metabolite(\"S_ALLANTOIN_r\",name=\"(S)-(+)-allantoin\",\n",
    "                      formula=\"C4H6N4O3\",compartment=\"r\",\n",
    "                      charge=0)\n",
    "    amet2 = Metabolite(\"aS_ALLANTOIN_r\",name=\"(S)-(+)-allantoin\",\n",
    "                      formula=\"C4H5N4O3\",compartment=\"r\",\n",
    "                      charge=-1)\n",
    "\n",
    "\n",
    "    proton_R = model.metabolites.PROTON_c.copy()\n",
    "    proton_R.id = \"PROTON_r\"\n",
    "    proton_R.compartment = \"r\"\n",
    "    rxnProton = Reaction(\"PROTON_rc\",name=\"ER proton exchange\")\n",
    "    rxnProton.add_metabolites({proton_R:-1,model.metabolites.PROTON_c:1})\n",
    "    rxnProton.lower_bound = -1000\n",
    "    rxnProton.upper_bound = 1000\n",
    "\n",
    "    rxn2 = Reaction(\"Allantoin_rc\",name=\"Allantoin peroxisome uptake/efflux\")\n",
    "    rxn2.add_metabolites({met1:-0.78,amet1:-0.22,proton_R:-0.12,met2:0.9,amet2:0.1})\n",
    "    rxn2.lower_bound = -1000\n",
    "    rxn2.upper_bound = 1000\n",
    "    ###########\n",
    "    met3 = Metabolite(\"ALLANTOATE_r\",name=\"allantoate\",\n",
    "                      formula=\"C4H7N4O4\",compartment=\"r\",\n",
    "                      charge=-1)\n",
    "\n",
    "    water_R = model.metabolites.WATER_c.copy()\n",
    "    water_R.id = \"WATER_r\"\n",
    "    water_R.compartment = \"r\"\n",
    "    rxnWater = Reaction(\"H2O_rc\",name=\"ER water exchange\")\n",
    "    rxnWater.add_metabolites({water_R:-1,model.metabolites.WATER_c:1})\n",
    "    rxnWater.lower_bound = -1000\n",
    "    rxnWater.upper_bound = 1000\n",
    "\n",
    "\n",
    "    rxn3 = Reaction(\"ALLANTOINASE_RXN_r\",name=\"ALLANTOINASE-RXN\")\n",
    "    rxn3.add_metabolites({met2:-0.9,amet2:-0.1,water_R:-1,\n",
    "                          met3:1,proton_R:0.9})\n",
    "    rxn3.gene_reaction_rule='Glyma.15G073000 or Glyma.15G072900 or Glyma.13G240500 or Glyma.13G240600'\n",
    "    #Glyma.15G073000 - cytoplasmic in Uniprot\n",
    "    #Glyma.15G072900 - cytoplasmic in Uniprot\n",
    "    #Glyma.13G240500 - cytoplasmic in Uniprot\n",
    "    #Glyma.13G240600 - cytoplasmic in Uniprot\n",
    "    #But according to Takagi et al 2018 ER\n",
    "\n",
    "    rxn3.lower_bound = 0\n",
    "    rxn3.upper_bound = 1000\n",
    "    ############\n",
    "    met4 = Metabolite(\"CPD0_2298_r\",name=\"CPD0-2298:(S)-ureidoglycine\",\n",
    "                      formula=\"C3H7N3O3\",compartment=\"r\",\n",
    "                      charge=0)\n",
    "    amet4 = Metabolite(\"aCPD0_2298_r\",name=\"CPD0-2298:(S)-ureidoglycine\",\n",
    "                      formula=\"C3H6N3O3\",compartment=\"r\",\n",
    "                      charge=-1)\n",
    "\n",
    "    met5 = model.metabolites.AMMONIUM_c.copy()\n",
    "    met5.id = \"AMMONIUM_r\"\n",
    "    met5.compartment = \"r\"\n",
    "    rxnNH4 = Reaction(\"NH4_rc\",name=\"Ammonium ER exchange\")\n",
    "    rxnNH4.add_metabolites({met5:-1,model.metabolites.AMMONIUM_c:1})\n",
    "    rxnNH4.lower_bound = -1000\n",
    "    rxnNH4.upper_bound = 1000\n",
    "\n",
    "    co2_R = model.metabolites.CARBON_DIOXIDE_c.copy()\n",
    "    co2_R.id = \"CARBON_DIOXIDE_r\"\n",
    "    co2_R.compartment = \"r\"\n",
    "    rxnCO2 = Reaction(\"CO2_rc\",name=\"CO2 ER exchange\")\n",
    "    rxnCO2.add_metabolites({co2_R:-1,model.metabolites.CARBON_DIOXIDE_c:1})\n",
    "    rxnCO2.lower_bound = -1000\n",
    "    rxnCO2.upper_bound = 1000\n",
    "\n",
    "    rxn4 = Reaction(\"ALLANTOATE_DEIMINASE_RXN_r\",name=\"ALLANTOATE-DEIMINASE-RXN:allantoate deiminase\")\n",
    "    rxn4.gene_reaction_rule='Glyma.15G156900 or Glyma.09G050800'\n",
    "    rxn4.add_metabolites({met3:-1,proton_R:-1.72,water_R:-1,\n",
    "                          met4:0.72,amet4:0.28,met5:1,co2_R:1})\n",
    "    #Glyma.15G156900 -ER in Uniprot\n",
    "    #Glyma.09G050800 -ER in Uniprot\n",
    "    rxn4.lower_bound = 0\n",
    "    rxn4.upper_bound = 1000\n",
    "    #############\n",
    "    met6 = Metabolite(\"CPD_1091_r\",name=\"CPD-1091:(S)-ureidoglycolate\",\n",
    "                      formula=\"C3H5N2O4\",compartment=\"r\",\n",
    "                      charge=-1)\n",
    "\n",
    "    water_R = model.metabolites.WATER_c.copy()\n",
    "    water_R.id = \"WATER_r\"\n",
    "    water_R.compartment = \"r\"\n",
    "    rxnWATER = Reaction(\"H2O_rc\",name=\"H2O ER exchange\")\n",
    "    rxnWATER.add_metabolites({water_R:-1,model.metabolites.WATER_c:1})\n",
    "    rxnWATER.lower_bound = -1000\n",
    "    rxnWATER.upper_bound = 1000\n",
    "\n",
    "    rxn5 = Reaction(\"URUR_RXN_r\",name=\"URUR-RXN:(S)-ureidoglycine aminohydrolase\")\n",
    "    rxn5.gene_reaction_rule='Glyma.17G148400 or Glyma.05G066500'\n",
    "    #Glyma.17G148400\n",
    "    #Glyma.05G066500\n",
    "    rxn5.add_metabolites({met4:-0.72,amet4:-0.28,proton_R:-0.28,water_R:-1,\n",
    "                          met6:1,met5:1})\n",
    "    rxn5.lower_bound = 0\n",
    "    rxn5.upper_bound = 1000\n",
    "    #############\n",
    "    # met7 = model.metabolites.UREA_c.copy()\n",
    "    # met7.id = \"UREA_r\"\n",
    "    # met7.compartment=\"r\"\n",
    "\n",
    "    # rxn6 = Reaction(\"ALLANTOICASE_RXN_r\",name=\"ALLANTOICASE-RXN:allantoicase\")\n",
    "    # rxn6.add_metabolites({met3:-1,model.metabolites.WATER_r:-1,\n",
    "    #                       met6:1,met7:1})\n",
    "    # rxn6.lower_bound = 0\n",
    "    # rxn6.lower_bound = 1000\n",
    "    #############\n",
    "\n",
    "    glyox_R = model.metabolites.GLYOX_x.copy()\n",
    "    glyox_R.id = \"GLYOX_r\"\n",
    "    glyox_R.compartment = \"r\"\n",
    "    rxnGlyox = Reaction(\"glyox_rx\",name=\"glyoxylate ER-peroxisome exchange\")\n",
    "    rxnGlyox.add_metabolites({glyox_R:-1,model.metabolites.GLYOX_x:1})\n",
    "\n",
    "    rxn7 = Reaction(\"UREIDOGLYCOLATE_HYDROLASE_RXN_r\",name=\"UREIDOGLYCOLATE-HYDROLASE-RXN:ureidoglycolate amidohydrolase\")\n",
    "    rxn7.gene_reaction_rule='Glyma.20G205500 or Glyma.10G184900'\n",
    "    #Glyma.20G205500 - ER in Uniprot\n",
    "    #Glyma.10G184900 - ER in Uniprot\n",
    "    rxn7.add_metabolites({met6:-1,proton_R:-2,water_R:-1,\n",
    "                          met5:2,co2_R:1,glyox_R:1})\n",
    "    rxn7.lower_bound = 0\n",
    "    rxn7.upper_bound = 1000\n",
    "    #############\n",
    "    # rxn8 = Reaction(\"UREIDOGLYCOLATE_LYASE_RXN_r\",name=\"UREIDOGLYCOLATE-LYASE-RXN:ureidoglycolate lyase\")\n",
    "    # rxn8.add_metabolites({met6:-1,\n",
    "    #                       met7:1,model.metabolites.GLYOX_r:1})\n",
    "    # rxn8.lower_bound = 0\n",
    "    # rxn8.lower_bound = 1000\n",
    "    ############\n",
    "    model.add_reactions([rxn1,rxn2,rxn3,rxn4,rxn5,rxn7,\n",
    "                         rxnCO2,rxnGlyox,rxnNH4,rxnProton,rxnWater])\n",
    "    return model\n",
    "\n",
    "\n",
    "\n",
    "from cobra import io,flux_analysis\n",
    "from cobra.core import Reaction, Metabolite\n",
    "\n",
    "#import model. Update file name and location in the next line\n",
    "cobra_model = io.sbml.read_sbml_model(\"./../Data/Soy_core_model_GA.sbml\")\n",
    "#cobra_model.solver=\"glpk\"\n",
    "cobra_model = addAllantoinMetabolism(cobra_model)\n",
    "\n",
    "#Remove all metabolites except sucrose from Phloem\n",
    "rxn = cobra_model.reactions.get_by_id(\"Phloem_output_tx\")\n",
    "mets2remove = list()\n",
    "\n",
    "#for met in rxn.metabolites.keys():\n",
    "    #if \"SUCROSE\" in met.id:# or \"GLC\" in met.id or \"FRU\" in met.id:\n",
    "    #    continue\n",
    "    #else:\n",
    "    #    mets2remove.append(met)\n",
    "#    mets2remove.append(met)\n",
    "\n",
    "#remove_metabolite_from_reaction(rxn,mets2remove)\n",
    "#rxn.add_metabolites({cobra_model.metabolites.get_by_id(\"sSUCROSE_b\"):-1})\n",
    "#rxn.add_metabolites({cobra_model.metabolites.get_by_id(\"GAP_c\"):-1})\n",
    "#coeff = sum(rxn.metabolites.values())\n",
    "#rxn.add_metabolites({cobra_model.metabolites.get_by_id(\"PROTON_c\"):-1*coeff,cobra_model.metabolites.get_by_id(\"PROTON_e\"):coeff})\n",
    "\n",
    "#no external sucrose or glucose\n",
    "cobra_model.reactions.get_by_id(\"Sucrose_tx\").lower_bound = 0\n",
    "cobra_model.reactions.get_by_id(\"Sucrose_tx\").upper_bound = 0\n",
    "cobra_model.reactions.get_by_id(\"GLC_tx\").lower_bound = 0\n",
    "cobra_model.reactions.get_by_id(\"GLC_tx\").upper_bound = 0\n",
    "cobra_model.reactions.get_by_id(\"NH4_tx\").lower_bound = 0\n",
    "cobra_model.reactions.get_by_id(\"NH4_tx\").upper_bound = 0\n",
    "cobra_model.reactions.get_by_id(\"Nitrate_tx\").lower_bound = 0\n",
    "cobra_model.reactions.get_by_id(\"Nitrate_tx\").upper_bound = 0\n",
    "\n",
    "#no external light energy\n",
    "cobra_model.reactions.get_by_id(\"Photon_tx\").lower_bound = 0\n",
    "cobra_model.reactions.get_by_id(\"Photon_tx\").upper_bound = 0\n",
    "\n",
    "#set export of sugars as objective\n",
    "cobra_model.reactions.get_by_id(\"Phloem_output_tx\").objective_coefficient=1\n",
    "\n",
    "#add source reaction for TP\n",
    "rxn = Reaction(\"GAP_tx\",name = \"TP source\")\n",
    "rxn.add_metabolites({cobra_model.metabolites.get_by_id(\"GAP_c\"):1})\n",
    "rxn.upper_bound = 1000\n",
    "rxn.lower_bound = 0\n",
    "cobra_model.add_reaction(rxn)\n",
    "\n",
    "rxn = Reaction(\"G3P_tx\",name = \"PGA source\")\n",
    "rxn.add_metabolites({cobra_model.metabolites.get_by_id(\"G3P_c\"):1})\n",
    "rxn.upper_bound = 1000\n",
    "rxn.lower_bound = 0\n",
    "cobra_model.add_reaction(rxn)\n",
    "\n",
    "#add source reaction for TP\n",
    "rxn = Reaction(\"GLYCOLATE_tx\",name = \"Glycolate source\")\n",
    "rxn.add_metabolites({cobra_model.metabolites.get_by_id(\"GLYCOLLATE_c\"):1})\n",
    "rxn.upper_bound = 1000\n",
    "rxn.lower_bound = 0\n",
    "cobra_model.add_reaction(rxn)\n",
    "\n",
    "#add source reaction for TP\n",
    "rxn = Reaction(\"GLYCERATE_tx\",name = \"Glycerate sink\")\n",
    "rxn.add_metabolites({cobra_model.metabolites.get_by_id(\"GLYCERATE_c\"):-1})\n",
    "rxn.upper_bound = 1000\n",
    "rxn.lower_bound = 0\n",
    "cobra_model.add_reaction(rxn)\n",
    "\n",
    "#remove mGS and cGS\n",
    "cobra_model.reactions.get_by_id(\"GLUTAMINESYN_RXN_m\").lower_bound = 0\n",
    "cobra_model.reactions.get_by_id(\"GLUTAMINESYN_RXN_m\").upper_bound = 0\n",
    "cobra_model.reactions.get_by_id(\"GLUTAMINESYN_RXN_c\").lower_bound = 0\n",
    "cobra_model.reactions.get_by_id(\"GLUTAMINESYN_RXN_c\").upper_bound = 0\n",
    "\n",
    "#remove glutamine synthetase and glutamate synthase\n",
    "#rxn = cobra_model.reactions.get_by_id(\"GLUTAMATE_SYNTHASE_FERREDOXIN_RXN_p\")\n",
    "#mets2remove=[cobra_model.metabolites.get_by_id(\"Reduced_ferredoxins_p\"),cobra_model.metabolites.get_by_id(\"Oxidized_ferredoxins_p\")]\n",
    "#remove_metabolite_from_reaction(rxn,mets2remove)\n",
    "#rxn = cobra_model.reactions.get_by_id(\"GLUTAMINESYN_RXN_p\")\n",
    "#mets2remove=[cobra_model.metabolites.get_by_id(\"ATP_p\"),cobra_model.metabolites.get_by_id(\"aATP_p\")]\n",
    "#remove_metabolite_from_reaction(rxn,mets2remove)\n",
    "\n",
    "#rxn = Reaction(\"NrefixationCostbypass\")\n",
    "#rxn.add_metabolites({cobra_model.metabolites.get_by_id(\"GLT_x\"):1,cobra_model.metabolites.get_by_id(\"2_KETOGLUTARATE_x\"):-1,cobra_model.metabolites.get_by_id(\"AMMONIUM_m\"):-1})\n",
    "#rxn.lower_bound = 0\n",
    "#rxn.upper_bound = 1000\n",
    "#cobra_model.add_reaction(rxn)\n",
    "\n",
    "#provide energy for N fixation\n",
    "#rxn = Reaction(\"NrefixationEnergy\")\n",
    "#rxn.add_metabolites({cobra_model.metabolites.get_by_id(\"ATP_p\"):0.9,cobra_model.metabolites.get_by_id(\"aATP_p\"):0.1,cobra_model.metabolites.get_by_id(\"ADP_p\"):-0.8,cobra_model.metabolites.get_by_id(\"aADP_p\"):-0.2,cobra_model.metabolites.get_by_id(\"Pi_p\"):-1,cobra_model.metabolites.get_by_id(\"Reduced_ferredoxins_p\"):2,cobra_model.metabolites.get_by_id(\"Oxidized_ferredoxins_p\"):-2})\n",
    "#rxn.lower_bound = 0\n",
    "#rxn.upper_bound = 1000\n",
    "#met = Metabolite(\"NrefixEnergyConstraint\")\n",
    "#rxn.add_metabolites({met:1})\n",
    "#cobra_model.add_reaction(rxn)\n",
    "#cobra_model.reactions.get_by_id(\"GCVMULTI_RXN_m\").add_metabolites({met:-1})\n",
    "\n",
    "#turn off phosphoserine transaminase\n",
    "#cobra_model.reactions.get_by_id(\"PSERTRANSAM_RXN_p\").lower_bound = 0\n",
    "#cobra_model.reactions.get_by_id(\"PSERTRANSAM_RXN_p\").upper_bound = 0\n",
    "\n",
    "\n",
    "cobra_model.reactions.get_by_id(\"Pi_ec\").lower_bound = -1000\n",
    "cobra_model.reactions.get_by_id(\"Pi_ec\").upper_bound = 1000\n",
    "\n",
    "#add malate and citrate accumulation reactions\n",
    "rxn = Reaction(\"MAL_v_accumulation\")\n",
    "rxn.add_metabolites({cobra_model.metabolites.MAL_v:-0.7,cobra_model.metabolites.aMAL_v:-0.3})\n",
    "rxn.lower_bound = -1000\n",
    "rxn.upper_bound = 1000\n",
    "cobra_model.add_reaction(rxn)\n",
    "rxn = Reaction(\"CIT_v_accumulation\")\n",
    "rxn.add_metabolites({cobra_model.metabolites.CIT_v:-0.5,cobra_model.metabolites.aCIT_v:-0.5})\n",
    "rxn.lower_bound = -1000\n",
    "rxn.upper_bound = 1000\n",
    "cobra_model.add_reaction(rxn)\n",
    "\n",
    "\n",
    "temp = cobra_model.copy()\n",
    "\n",
    "PPFD = 1000\n",
    "#constrain maintenace\n",
    "ATPase = (0.0049*PPFD) + 2.7851\n",
    "ATPase = round(ATPase,3)\n",
    "temp.reactions.get_by_id(\"ATPase_tx\").lower_bound = ATPase\n",
    "temp.reactions.get_by_id(\"ATPase_tx\").upper_bound = ATPase\n",
    "temp.reactions.get_by_id(\"NADPHoxc_tx\").lower_bound = ATPase/9\n",
    "temp.reactions.get_by_id(\"NADPHoxc_tx\").upper_bound = ATPase/9\n",
    "temp.reactions.get_by_id(\"NADPHoxp_tx\").lower_bound = ATPase/9\n",
    "temp.reactions.get_by_id(\"NADPHoxp_tx\").upper_bound = ATPase/9\n",
    "temp.reactions.get_by_id(\"NADPHoxm_tx\").lower_bound = ATPase/9\n",
    "temp.reactions.get_by_id(\"NADPHoxm_tx\").upper_bound = ATPase/9\n",
    "\n",
    "#temp.reactions.get_by_id(\"NrefixationCostbypass\").lower_bound = df270[\"Vt_glycolate\"][i]\n",
    "#temp.reactions.get_by_id(\"NrefixationCostbypass\").upper_bound = df270[\"Vt_glycolate\"][i]\n",
    "#temp.reactions.get_by_id(\"NrefixationEnergy\").lower_bound = df270[\"Vt_glycerate\"][i]\n",
    "#temp.reactions.get_by_id(\"NrefixationEnergy\").upper_bound = df270[\"Vt_glycerate\"][i]\n",
    "\n",
    "\n",
    "for rxn in cobra_model.reactions:\n",
    "    if rxn.lower_bound == -1000:\n",
    "        rxn.lower_boudn = -3000\n",
    "    if rxn.upper_bound == 1000:\n",
    "        rxn.upper_bound = 3000\n",
    "\n",
    "\n",
    "JATPase = 0\n",
    "rxn = Reaction(\"ATP_source_from_ODE\")\n",
    "rxn.add_metabolites({temp.metabolites.get_by_id(\"ADP_p\"):-0.8,\n",
    "                     temp.metabolites.get_by_id(\"aADP_p\"):-0.2,\n",
    "                     temp.metabolites.get_by_id(\"Pi_p\"):-1,\n",
    "                     temp.metabolites.get_by_id(\"PROTON_p\"):-0.9,\n",
    "                     temp.metabolites.get_by_id(\"ATP_p\"):0.9,\n",
    "                     temp.metabolites.get_by_id(\"aATP_p\"):0.1,\n",
    "                     temp.metabolites.get_by_id(\"WATER_p\"):1})\n",
    "rxn.lower_bound = JATPase\n",
    "rxn.upper_bound = JATPase\n",
    "temp.add_reaction(rxn)\n",
    "\n",
    "#ADD NADPH source reaction in FBA to represent NADPH from ODE\n",
    "JNADPHox = 0\n",
    "rxn = Reaction(\"NADPH_source_from_ODE\")\n",
    "rxn.add_metabolites({temp.metabolites.get_by_id(\"NADP_p\"):-1,\n",
    "                     temp.metabolites.get_by_id(\"WATER_p\"):-1,\n",
    "                     temp.metabolites.get_by_id(\"NADPH_p\"):1,\n",
    "                     temp.metabolites.get_by_id(\"OXYGEN_MOLECULE_p\"):1,\n",
    "                     temp.metabolites.get_by_id(\"PROTON_p\"):1})\n",
    "rxn.lower_bound = JNADPHox\n",
    "rxn.upper_bound = JNADPHox\n",
    "temp.add_reaction(rxn)\n",
    "\n",
    "\n",
    "#check if model works\n",
    "temp.solver=\"glpk\"\n",
    "\n",
    "\n",
    "sol = temp.optimize()\n",
    "sol.fluxes = dict()\n",
    "fin = open(\"./../Validations/Daytime_flux_MATURELEAF.csv\")\n",
    "for line in fin:\n",
    "    lineparts = line.replace(\"/n\",\"\").split(\",\")\n",
    "    sol.fluxes[lineparts[0]]=float(lineparts[2])\n",
    "\n",
    "#sol = custom_pFBA(temp)\n",
    "rxn =  temp.reactions.get_by_id(\"Phloem_output_tx\")\n",
    "met = temp.metabolites.sSUCROSE_b\n",
    "print(\"Sucrose export rate =\"+str(rxn.metabolites[met]*sol.fluxes[rxn.id]))\n",
    "\n",
    "total = JATPase\n",
    "for rxn in temp.metabolites.ATP_p.reactions:\n",
    "    if round(sol.fluxes[rxn.id],3) != 0:\n",
    "        coeff1 = rxn.metabolites[temp.metabolites.ATP_p]\n",
    "        coeff2 = rxn.metabolites[temp.metabolites.aATP_p]\n",
    "        ATPflux = sol.fluxes[rxn.id]*(coeff1+coeff2)\n",
    "        #print(rxn.id+\"\\t\"+str(ATPflux)+\"=\"+str(total))\n",
    "        if rxn.id == \"ATP_ADP_Pi_pc\":\n",
    "            total = total + ATPflux\n",
    "            #print(ATPflux)\n",
    "print(\"Extra APTase flux =\"+str(total))\n",
    "\n",
    "total = JNADPHox\n",
    "for rxn in temp.metabolites.NADPH_p.reactions:\n",
    "    if round(sol.fluxes[rxn.id],3) != 0:\n",
    "        coeff1 = rxn.metabolites[temp.metabolites.NADPH_p]\n",
    "        NADPHflux = sol.fluxes[rxn.id]*(coeff1)\n",
    "        print(rxn.id+\"\\t\"+str(NADPHflux)+\"=\"+str(total))\n",
    "        if rxn.id == \"MALATE_DEH_RXN_p\":\n",
    "            total = total + NADPHflux\n",
    "            print(NADPHflux)\n",
    "for rxn in temp.metabolites.NADH_p.reactions:\n",
    "    if round(sol.fluxes[rxn.id],3) != 0:\n",
    "        coeff1 = rxn.metabolites[temp.metabolites.NADH_p]\n",
    "        NADPHflux = sol.fluxes[rxn.id]*(coeff1)\n",
    "        print(rxn.id+\"\\t\"+str(NADPHflux)+\"=\"+str(total))\n",
    "        if rxn.id == \"MALATE_DEH_RXN_p\":\n",
    "            total = total + NADPHflux\n",
    "            print(NADPHflux)\n",
    "print(\"Extra NADPH flux =\"+str(total))\n",
    "\n"
   ]
  },
  {
   "cell_type": "code",
   "execution_count": 7,
   "metadata": {},
   "outputs": [
    {
     "data": {
      "text/plain": [
       "4.967"
      ]
     },
     "execution_count": 7,
     "metadata": {},
     "output_type": "execute_result"
    }
   ],
   "source": [
    "sol.fluxes[\"NADPH_source_from_ODE\"]"
   ]
  },
  {
   "cell_type": "code",
   "execution_count": 46,
   "metadata": {
    "scrolled": true
   },
   "outputs": [
    {
     "name": "stdout",
     "output_type": "stream",
     "text": [
      "3_PERIOD_2_PERIOD_1_PERIOD_48_RXN_c\t-0.08998904683632178\n",
      "SUCROSE_c + WATER_c --> FRU_c + GLC_c\n",
      "SUCROSE_PHOSPHATASE_RXN_c\t1.0541574056670737\n",
      "0.3 PROTON_c + SUCROSE_6P_c + WATER_c --> 0.7 Pi_c + SUCROSE_c + 0.3 aPi_c\n",
      "sSUCROSE_biomass\t-0.951312780711277\n",
      "sSUCROSE_b <-- SUCROSE_c\n",
      "SUCROSE_SYNTHASE_RXN_c\t-0.012855578119474792\n",
      "0.5 PROTON_c + SUCROSE_c + 0.5 UDP_c + 0.5 aUDP_c --> FRU_c + UDP_GLUCOSE_c\n"
     ]
    }
   ],
   "source": [
    "met = temp.metabolites.get_by_id(\"SUCROSE_c\")\n",
    "scale = 1\n",
    "for rxn in met.reactions:\n",
    "    if round(sol.fluxes[rxn.id],3)!=0:\n",
    "        print(rxn.id+\"\\t\"+str(sol.fluxes[rxn.id]*rxn.metabolites[met]/scale))\n",
    "        print(rxn.reaction)"
   ]
  },
  {
   "cell_type": "code",
   "execution_count": 9,
   "metadata": {},
   "outputs": [
    {
     "data": {
      "text/plain": [
       "-4.3770854600267235"
      ]
     },
     "execution_count": 9,
     "metadata": {},
     "output_type": "execute_result"
    }
   ],
   "source": [
    "-2.1885427300133617+-2.1885427300133617"
   ]
  },
  {
   "cell_type": "code",
   "execution_count": 48,
   "metadata": {},
   "outputs": [
    {
     "name": "stdout",
     "output_type": "stream",
     "text": [
      "Mitochondrial_ATP_Synthase_m\t7.239837688397468\n",
      "ADENYL_KIN_RXN_m\t-0.003041262387050222\n",
      "ATP_ADP_mc\t-8.353994904137531\n",
      "ATP_AMP_mc\t-0.003041262387050222\n",
      "SUCCCOASYN_RXN_m\t1.1202397405141649\n"
     ]
    }
   ],
   "source": [
    "met=temp.metabolites.get_by_id(\"ATP_m\")\n",
    "met2 = temp.metabolites.get_by_id(\"aATP_m\")\n",
    "for rxn in met.reactions:\n",
    "    if round(sol.fluxes[rxn.id],3)!=0:\n",
    "        print(rxn.id+\"\\t\"+str(sol.fluxes[rxn.id]*(rxn.metabolites[met]+\n",
    "                                        rxn.metabolites[met2])))\n",
    "        #print(rxn.reaction)"
   ]
  },
  {
   "cell_type": "code",
   "execution_count": 4,
   "metadata": {},
   "outputs": [
    {
     "name": "stdout",
     "output_type": "stream",
     "text": [
      "-0.07920792050000001\n",
      "-0.09893234904639718\n"
     ]
    }
   ],
   "source": [
    "tot = 0\n",
    "rxn = temp.reactions.Phloem_output_tx\n",
    "for met in rxn.metabolites.keys():\n",
    "    if \"PROTON\" in met.id or \"SUCROSE\" in met.id or \"GLC\" in met.id or \"FRU\" in met.id:\n",
    "        continue\n",
    "    tot = tot+(rxn.metabolites[met])\n",
    "print(tot)\n",
    "print(sol.fluxes[rxn.id]*tot)"
   ]
  },
  {
   "cell_type": "code",
   "execution_count": 5,
   "metadata": {},
   "outputs": [
    {
     "data": {
      "text/plain": [
       "4.351756796910012"
      ]
     },
     "execution_count": 5,
     "metadata": {},
     "output_type": "execute_result"
    }
   ],
   "source": [
    "2.175878398455006+2.175878398455006"
   ]
  },
  {
   "cell_type": "code",
   "execution_count": 6,
   "metadata": {},
   "outputs": [
    {
     "name": "stdout",
     "output_type": "stream",
     "text": [
      "GAP_tx\t5.0201\n",
      " --> GAP_c\n",
      "GAP_3PGA_pc\t-0.6683432030899698\n",
      "G3P_c + GAP_p <=> G3P_p + GAP_c\n",
      "F16ALDOLASE_RXN_c\t-2.1758783984550125\n",
      "FRUCTOSE_16_DIPHOSPHATE_c <=> DIHYDROXY_ACETONE_PHOSPHATE_c + GAP_c\n",
      "TRIOSEPISOMERIZATION_RXN_c\t-2.1758783984550125\n",
      "GAP_c <=> DIHYDROXY_ACETONE_PHOSPHATE_c\n"
     ]
    }
   ],
   "source": [
    "met = temp.metabolites.get_by_id(\"GAP_c\")\n",
    "scale = 3\n",
    "for rxn in met.reactions:\n",
    "    if round(rxn.flux,3)!=0:\n",
    "        print(rxn.id+\"\\t\"+str(sol.fluxes[rxn.id]*rxn.metabolites[met]*met.elements[\"C\"]/scale))\n",
    "        print(rxn.reaction)"
   ]
  },
  {
   "cell_type": "code",
   "execution_count": 7,
   "metadata": {},
   "outputs": [
    {
     "data": {
      "text/plain": [
       "4.351756796910012"
      ]
     },
     "execution_count": 7,
     "metadata": {},
     "output_type": "execute_result"
    }
   ],
   "source": [
    "2.175878398455006*2"
   ]
  },
  {
   "cell_type": "code",
   "execution_count": 8,
   "metadata": {},
   "outputs": [
    {
     "name": "stdout",
     "output_type": "stream",
     "text": [
      "-0.39452333629999997\n"
     ]
    }
   ],
   "source": [
    "tot = 0\n",
    "rxn = temp.reactions.Phloem_output_tx\n",
    "for met in rxn.metabolites.keys():\n",
    "    if \"PROTON\" in met.id or \"SUCROSE\" in met.id or \"GLC\" in met.id or \"FRU\" in met.id:\n",
    "        continue\n",
    "    tot = tot+(rxn.metabolites[met]*met.elements[\"C\"])\n",
    "print(tot)"
   ]
  },
  {
   "cell_type": "code",
   "execution_count": 9,
   "metadata": {},
   "outputs": [
    {
     "data": {
      "text/plain": [
       "0.4927678970410633"
      ]
     },
     "execution_count": 9,
     "metadata": {},
     "output_type": "execute_result"
    }
   ],
   "source": [
    "sol.fluxes[rxn.id]*0.39452333629999997"
   ]
  },
  {
   "cell_type": "code",
   "execution_count": 10,
   "metadata": {},
   "outputs": [
    {
     "name": "stdout",
     "output_type": "stream",
     "text": [
      "ATP_AMP_mc\t-0.002925570814096648\n",
      "ASNSYNA_RXN_c\t0.0018797146449962656\n",
      "AMP_ATP_xc\t0.0010458561690964252\n"
     ]
    }
   ],
   "source": [
    "met = temp.metabolites.AMP_c\n",
    "for rxn in met.reactions:\n",
    "    if round(rxn.flux,3)!=0:\n",
    "        print(rxn.id+\"\\t\"+str(rxn.flux*rxn.metabolites[met]))\n",
    "        #print(rxn.reaction)"
   ]
  },
  {
   "cell_type": "code",
   "execution_count": 11,
   "metadata": {},
   "outputs": [
    {
     "name": "stdout",
     "output_type": "stream",
     "text": [
      "H_pc\n",
      "0.7850295479365751\n",
      "HS_pc\n",
      "0.0005229280845492557\n",
      "H2O_pc\n",
      "0.036641672564954715\n",
      "GAP_3PGA_pc\n",
      "-0.6683432030899698\n",
      "CO2_pc\n",
      "0.024294958173154732\n",
      "NH3_pc\n",
      "-4.807570261974103\n",
      "LEU_pc\n",
      "0.0025722410339886364\n",
      "LYS_pc\n",
      "0.0027701058057865054\n",
      "FUM_pc\n",
      "0.0010458561690985112\n",
      "L_ASPARTATE_pc\n",
      "-0.015645444271850245\n",
      "THF_pc\n",
      "0.0005229280845492258\n",
      "O2_pc\n",
      "4.418955555555556\n",
      "TRP_pc\n",
      "0.0005229280845492556\n",
      "PYRUVATE_pc\n",
      "0.12329414866579017\n",
      "ILE_pc\n",
      "0.0021765117402227623\n",
      "X5P_Pi_pc\n",
      "-0.4701346400808973\n",
      "GLT_MAL_pc\n",
      "4.750945625736218\n",
      "HIS_pc\n",
      "0.0005229280845492556\n",
      "THR_pc\n",
      "0.0086071143876454\n",
      "OAA_MAL_pc\n",
      "0.0013516266651043124\n",
      "HOMO_CYS_pc\n",
      "0.0005229280845469239\n",
      "PEP_Pi_pc\n",
      "-0.015264383868945944\n",
      "ARG_pc\n",
      "0.0005229280845492556\n",
      "10_FORMYL_THF_pc\n",
      "-0.0005229280845492558\n",
      "TYR_pc\n",
      "0.0005229280845492555\n",
      "G6P_Pi_pc\n",
      "0.31000286083106154\n",
      "VAL_pc\n",
      "0.0034626321947660347\n",
      "GLN_GLU_pc\n",
      "0.03007543419503815\n",
      "ACET_pc\n",
      "0.0005229280845471696\n",
      "2KG_MAL_pc\n",
      "-4.751468553820768\n",
      "PHE_pc\n",
      "0.007123129161317096\n",
      "SO4_pc\n",
      "-0.0010458561690964252\n",
      "SER_pc\n",
      "0.0069605972551444375\n"
     ]
    }
   ],
   "source": [
    "for rxn in temp.reactions:\n",
    "    compSet = set()\n",
    "    for met in rxn.metabolites.keys():\n",
    "        compSet.add(met.compartment)\n",
    "    if compSet == {\"c\",\"p\"}:\n",
    "        if round(rxn.flux,3)!=0:\n",
    "            print(rxn.id)\n",
    "            print(rxn.flux)"
   ]
  },
  {
   "cell_type": "code",
   "execution_count": 12,
   "metadata": {},
   "outputs": [
    {
     "data": {
      "image/png": "[encoded data removed]",
      "text/plain": [
       "<Figure size 216x288 with 1 Axes>"
      ]
     },
     "metadata": {
      "needs_background": "light"
     },
     "output_type": "display_data"
    }
   ],
   "source": [
    "from sweetlovegroup.analysis import generateATPbudget\n",
    "generateATPbudget(temp,sol.fluxes,day_or_night_tag=\"\",outfile=\"temp.csv\")"
   ]
  },
  {
   "cell_type": "code",
   "execution_count": 13,
   "metadata": {},
   "outputs": [],
   "source": [
    "production ={\"ATP synthesis\":116.3282}\n",
    "consumption={\"Photosynthesis1\":69.39382+37.0387,\n",
    "             \"Starch\":1.33355,\n",
    "             \"Photorespiration\":4.673108,\n",
    "             \"FBA\":3.889}"
   ]
  },
  {
   "cell_type": "code",
   "execution_count": 14,
   "metadata": {},
   "outputs": [
    {
     "data": {
      "text/plain": [
       "2.1999999987087904e-05"
      ]
     },
     "execution_count": 14,
     "metadata": {},
     "output_type": "execute_result"
    }
   ],
   "source": [
    "sum(production.values())-sum(consumption.values())"
   ]
  },
  {
   "cell_type": "code",
   "execution_count": 15,
   "metadata": {},
   "outputs": [
    {
     "data": {
      "text/plain": [
       "106.43252000000001"
      ]
     },
     "execution_count": 15,
     "metadata": {},
     "output_type": "execute_result"
    }
   ],
   "source": [
    "69.39382+37.0387"
   ]
  },
  {
   "cell_type": "code",
   "execution_count": 16,
   "metadata": {},
   "outputs": [
    {
     "name": "stdout",
     "output_type": "stream",
     "text": [
      "ACETOOHBUTSYN_RXN_p\t0.0021765117402227623\n",
      "CARBOXYCYCLOHEXADIENYL_DEHYDRATASE_RXN_p\t0.007123129161317096\n",
      "IGPSYN_RXN_p\t0.0005229280845492557\n",
      "CARBAMATE_KINASE_RXN_p\t-0.0005229280845492557\n",
      "CO2_pc\t-0.024294958173154732\n",
      "PYRUVDEH_RXN_p\t0.0030951691185358053\n",
      "DIAMINOPIMDECARB_RXN_p\t0.0027701058057865054\n",
      "PREPHENATEDEHYDROG_RXN_p\t0.0005229280845492554\n",
      "RXN_7800_p\t0.002572241033988636\n",
      "ACETOLACTSYN_RXN_p\t0.00603487322875467\n"
     ]
    }
   ],
   "source": [
    "met=temp.metabolites.get_by_id(\"CARBON_DIOXIDE_p\")\n",
    "for rxn in met.reactions:\n",
    "    if round(rxn.flux,3)!=0:\n",
    "        print(rxn.id+\"\\t\"+str(rxn.flux*rxn.metabolites[met]))\n",
    "        #print(rxn.reaction)"
   ]
  },
  {
   "cell_type": "code",
   "execution_count": 17,
   "metadata": {},
   "outputs": [
    {
     "name": "stdout",
     "output_type": "stream",
     "text": [
      "Mitochondrial_ATP_Synthase_m\t-7.401177455786219\n",
      "Pi_PROTON_mc\t8.119163246006778\n",
      "SUCCCOASYN_RXN_m\t-0.7179857902205601\n"
     ]
    }
   ],
   "source": [
    "met=temp.metabolites.get_by_id(\"Pi_m\")\n",
    "for rxn in met.reactions:\n",
    "    if round(rxn.flux,3)!=0:\n",
    "        print(rxn.id+\"\\t\"+str(rxn.flux*rxn.metabolites[met]))\n",
    "        #print(rxn.reaction+\"\\n\")"
   ]
  },
  {
   "cell_type": "code",
   "execution_count": 18,
   "metadata": {},
   "outputs": [
    {
     "name": "stdout",
     "output_type": "stream",
     "text": [
      "H_tx\t13.889053694886682\n",
      "H2O_tx\t-3.314930809338774\n",
      "CO2_tx\t-7.259180952095128\n",
      "O2_tx\t2.485160067341818\n",
      "Pi_tx\t-5.030581999999982\n",
      "NH4_tx\t0.13679517219949938\n",
      "unlProtHYPO_c\t18.449088562660823\n",
      "GAP_tx\t5.0201\n",
      "G3P_tx\t0.010482\n",
      "GLYCOLATE_tx\t9.3462\n",
      "GLYCERATE_tx\t4.6731\n",
      "MAL_v_accumulation\t0.09234611777536343\n",
      "CIT_v_accumulation\t-0.07516117257812269\n"
     ]
    }
   ],
   "source": [
    "for rxn in temp.reactions:\n",
    "    if len(rxn.reactants)==0 or len(rxn.products)==0:\n",
    "        if round(rxn.flux,2)!=0:\n",
    "            print(rxn.id+\"\\t\"+str(rxn.flux))"
   ]
  },
  {
   "cell_type": "code",
   "execution_count": 19,
   "metadata": {},
   "outputs": [
    {
     "data": {
      "text/plain": [
       "'2.4 ADP_p + 14.0 PROTON_l + 3.0 Pi_p + 0.6 aADP_p --> 2.7 ATP_p + 11.3 PROTON_p + 3.0 WATER_p + 0.3 aATP_p'"
      ]
     },
     "execution_count": 19,
     "metadata": {},
     "output_type": "execute_result"
    }
   ],
   "source": [
    "temp.reactions.Plastidial_ATP_Synthase_p.reaction"
   ]
  },
  {
   "cell_type": "code",
   "execution_count": 20,
   "metadata": {},
   "outputs": [],
   "source": [
    "rxn = Reaction(\"ATP source from ODE\")\n",
    "rxn.add_metabolites({temp.metabolites.get_by_id(\"ADP_p\"):-0.8,\n",
    "                     temp.metabolites.get_by_id(\"aADP_p\"):-0.2,\n",
    "                     temp.metabolites.get_by_id(\"Pi_p\"):-1,\n",
    "                     temp.metabolites.get_by_id(\"PROTON_p\"):-0.9,\n",
    "                     temp.metabolites.get_by_id(\"ATP_p\"):0.9,\n",
    "                     temp.metabolites.get_by_id(\"aATP_p\"):0.1,\n",
    "                     temp.metabolites.get_by_id(\"WATER_p\"):1})\n"
   ]
  },
  {
   "cell_type": "code",
   "execution_count": 21,
   "metadata": {},
   "outputs": [
    {
     "data": {
      "text/plain": [
       "{'charge': 6.661338147750939e-16,\n",
       " 'H': -8.881784197001252e-16,\n",
       " 'O': 1.1102230246251565e-15,\n",
       " 'P': 2.220446049250313e-16}"
      ]
     },
     "execution_count": 21,
     "metadata": {},
     "output_type": "execute_result"
    }
   ],
   "source": [
    "rxn.check_mass_balance()"
   ]
  },
  {
   "cell_type": "code",
   "execution_count": 22,
   "metadata": {},
   "outputs": [
    {
     "name": "stdout",
     "output_type": "stream",
     "text": [
      "RXN_3422_c\t-0.0\n",
      "5_HYDROXY_FERULIC_ACID_c + S_ADENOSYLMETHIONINE_c --> ADENOSYL_HOMO_CYS_c + SINAPATE_c\n",
      "RXN_1104_c\t-0.0\n",
      "CPD_676_c + S_ADENOSYLMETHIONINE_c --> ADENOSYL_HOMO_CYS_c + FERULIC_ACID_c + PROTON_c\n",
      "2_PERIOD_1_PERIOD_1_PERIOD_103_RXN_c\t-0.0\n",
      "0.87 PHOSPHORYL_ETHANOLAMINE_c + S_ADENOSYLMETHIONINE_c + 0.13 aPHOSPHORYL_ETHANOLAMINE_c --> ADENOSYL_HOMO_CYS_c + 0.88 CPD_406_c + 0.01 PROTON_c + 0.12 aCPD_406_c\n",
      "S_ADENMETSYN_RXN_c\t0.0\n",
      "0.65 ATP_c + MET_c + WATER_c + 0.35 aATP_c --> 0.65 PPI_c + 0.7 PROTON_c + 0.7 Pi_c + S_ADENOSYLMETHIONINE_c + 0.35 aPPI_c + 0.3 aPi_c\n",
      "RXN_8873_c\t-0.0\n",
      "0.42 CPD_7616_c + 0.2 PROTON_c + S_ADENOSYLMETHIONINE_c + 0.58 aCPD_7616_c --> ADENOSYL_HOMO_CYS_c + 0.62 VANILLIN_c + 0.38 aVANILLIN_c\n",
      "ACETOSYRINGONE_BIOSYNTHESIS_c\t-0.0\n",
      "0.88 5_HYDROXY_ACETOVANILLONE_c + S_ADENOSYLMETHIONINE_c + 0.12 a5_HYDROXY_ACETOVANILLONE_c --> 0.56 ACETOSYRINGONE_c + ADENOSYL_HOMO_CYS_c + 0.32 PROTON_c + 0.44 aACETOSYRINGONE_c\n",
      "RXN_5643_c\t-0.0\n",
      "0.88 CPD_5441_c + S_ADENOSYLMETHIONINE_c + 0.12 aCPD_5441_c --> ADENOSYL_HOMO_CYS_c + 0.94 PHOSPHORYL_CHOLINE_c + 0.06 PROTON_c + 0.06 aPHOSPHORYL_CHOLINE_c\n",
      "RXN_5642_c\t-0.0\n",
      "0.88 CPD_406_c + S_ADENOSYLMETHIONINE_c + 0.12 aCPD_406_c --> ADENOSYL_HOMO_CYS_c + 0.88 CPD_5441_c + 0.12 aCPD_5441_c\n"
     ]
    }
   ],
   "source": [
    "met=temp.metabolites.get_by_id(\"S_ADENOSYLMETHIONINE_c\")\n",
    "for rxn in met.reactions:\n",
    "    print(rxn.id+\"\\t\"+str(rxn.flux*rxn.metabolites[met]))\n",
    "    print(rxn.reaction)"
   ]
  },
  {
   "cell_type": "code",
   "execution_count": 23,
   "metadata": {},
   "outputs": [],
   "source": [
    "fout = open(\"TC_FBAfluxes_MATUREFig5A.csv\",\"w\")\n",
    "for rxn in temp.reactions:\n",
    "    fout.write(rxn.id+\"\\t\"+rxn.reaction+\"\\t\"+str(rxn.flux)+\"\\n\")\n",
    "fout.close()"
   ]
  },
  {
   "cell_type": "code",
   "execution_count": 55,
   "metadata": {},
   "outputs": [],
   "source": [
    "import pandas as pd\n",
    "df3 = pd.DataFrame(data={\"Light intensity\":[1000],\n",
    "                        \"Vc\":[27.6917],\n",
    "                        \"Vo\":[9.3459],\n",
    "                        \"VPGA\":[0.010483],\n",
    "                        \"VT3P\":[5.0202],\n",
    "                        \"Vstarch\":[1.3205],\n",
    "                        \"Vt_glycerate\":[4.673],\n",
    "                        \"Vt_glycolate\":[9.3459]})"
   ]
  },
  {
   "cell_type": "code",
   "execution_count": 58,
   "metadata": {},
   "outputs": [
    {
     "name": "stdout",
     "output_type": "stream",
     "text": [
      "Read LP format model from file C:\\Users\\sanus\\AppData\\Local\\Temp\\tmp392ysxtg.lp\n",
      "Reading time = 0.02 seconds\n",
      ": 875 rows, 1818 columns, 9022 nonzeros\n",
      "Sucrose export rate =-0.3445285448712463\n"
     ]
    }
   ],
   "source": [
    "temp = cobra_model.copy()\n",
    "\n",
    "PPFD = df3[\"Light intensity\"][0]\n",
    "#constrain maintenace\n",
    "ATPase = (0.0049*1000) + 2.7851\n",
    "temp.reactions.get_by_id(\"ATPase_tx\").lower_bound = ATPase\n",
    "temp.reactions.get_by_id(\"ATPase_tx\").upper_bound = ATPase\n",
    "temp.reactions.get_by_id(\"NADPHoxc_tx\").lower_bound = ATPase/9\n",
    "temp.reactions.get_by_id(\"NADPHoxc_tx\").upper_bound = ATPase/9\n",
    "temp.reactions.get_by_id(\"NADPHoxp_tx\").lower_bound = ATPase/9\n",
    "temp.reactions.get_by_id(\"NADPHoxp_tx\").upper_bound = ATPase/9\n",
    "temp.reactions.get_by_id(\"NADPHoxm_tx\").lower_bound = ATPase/9\n",
    "temp.reactions.get_by_id(\"NADPHoxm_tx\").upper_bound = ATPase/9\n",
    "\n",
    "#constraint TP flux\n",
    "temp.reactions.get_by_id(\"GAP_tx\").lower_bound = 0\n",
    "temp.reactions.get_by_id(\"GAP_tx\").upper_bound = 0\n",
    "temp.reactions.get_by_id(\"G3P_tx\").lower_bound = 0\n",
    "temp.reactions.get_by_id(\"G3P_tx\").upper_bound = 0\n",
    "\n",
    "#constraint glycollate and glycerate fluxes flux\n",
    "temp.reactions.get_by_id(\"GLYCOLATE_tx\").lower_bound = 0\n",
    "temp.reactions.get_by_id(\"GLYCOLATE_tx\").upper_bound = 0\n",
    "temp.reactions.get_by_id(\"GLYCERATE_tx\").lower_bound = 0\n",
    "temp.reactions.get_by_id(\"GLYCERATE_tx\").upper_bound = 0\n",
    "\n",
    "temp.reactions.get_by_id(\"2PGADEHYDRAT_RXN_p\").lower_bound = 0\n",
    "temp.reactions.get_by_id(\"2PGADEHYDRAT_RXN_p\").upper_bound = 0\n",
    "\n",
    "temp.reactions.get_by_id(\"G6P_Pi_pc\").lower_bound=0\n",
    "temp.reactions.get_by_id(\"G6P_Pi_pc\").upper_bound=0\n",
    "\n",
    "#temp.reactions.get_by_id(\"RXN_1827_p\").lower_bound=0\n",
    "#temp.reactions.get_by_id(\"RXN_1827_p\").upper_bound=0\n",
    "#temp.reactions.get_by_id(\"MALTODEXGLUCOSID_RXN_p\").lower_bound=0\n",
    "#temp.reactions.get_by_id(\"MALTODEXGLUCOSID_RXN_p\").upper_bound=0\n",
    "\n",
    "temp.metabolites.get_by_id(\"Starch_b\").remove_from_model()\n",
    "temp.reactions.get_by_id(\"Starch_biomass\").lower_bound = df3[\"Vstarch\"][0]\n",
    "temp.reactions.get_by_id(\"Starch_biomass\").upper_bound = df3[\"Vstarch\"][0]\n",
    "\n",
    "temp.reactions.get_by_id(\"MAL_v_accumulation\").lower_bound = -0.71*df3[\"Vstarch\"][0]\n",
    "temp.reactions.get_by_id(\"MAL_v_accumulation\").upper_bound = -0.71*df3[\"Vstarch\"][0]\n",
    "\n",
    "temp.reactions.get_by_id(\"CIT_v_accumulation\").lower_bound = 0.56*df3[\"Vstarch\"][0]\n",
    "temp.reactions.get_by_id(\"CIT_v_accumulation\").upper_bound = 0.56*df3[\"Vstarch\"][0]\n",
    "\n",
    "#for rxn in cobra_model.reactions:\n",
    "#    if rxn.lower_bound == -1000:\n",
    "#        rxn.lower_boudn = -3000\n",
    "#    if rxn.upper_bound == 1000:\n",
    "#        rxn.upper_bound = 3000\n",
    "\n",
    "#check if model works\n",
    "temp.solver=\"gurobi\"\n",
    "sol = flux_analysis.parsimonious.pfba(temp)\n",
    "#sol.fluxes = dict()\n",
    "#fin = open(\"./../Validations/Nighttime_flux_MATURELEAF.csv\")\n",
    "#for line in fin:\n",
    "#    lineparts = line.replace(\"/n\",\"\").split(\",\")\n",
    "#    sol.fluxes[lineparts[0]]=float(lineparts[2])\n",
    "#sol = custom_pFBA(temp)\n",
    "#sol = temp.slim_optimize()\n",
    "rxn =  temp.reactions.get_by_id(\"Phloem_output_tx\")\n",
    "met = temp.metabolites.sSUCROSE_b\n",
    "print(\"Sucrose export rate =\"+str(rxn.metabolites[met]*sol.fluxes[rxn.id]))"
   ]
  },
  {
   "cell_type": "code",
   "execution_count": 89,
   "metadata": {},
   "outputs": [
    {
     "name": "stdout",
     "output_type": "stream",
     "text": [
      "CIT_ISOCITRATE_mc\t0.6887739999365778\n",
      "CIT_m + THREO_DS_ISO_CITRATE_c <=> CIT_c + THREO_DS_ISO_CITRATE_m\n",
      "MAL_CIT_vc\t-0.73948\n",
      "CIT_c + 0.7 MAL_v + 0.5 PROTON_v + 0.3 aMAL_v --> 0.5 CIT_v + MAL_c + 0.3 PROTON_c + 0.5 aCIT_v\n",
      "MAL_CIT_mc\t0.05090287349955047\n",
      "CIT_c + MAL_m + PROTON_c <=> CIT_m + MAL_c + PROTON_m\n",
      "ATP_CITRATE_PRO_S_LYASE_RXN_c\t-0.00019687343612824978\n",
      "0.65 ATP_c + CIT_c + CO_A_c + 0.45 PROTON_c + 0.35 aATP_c --> ACETYL_COA_c + 0.5 ADP_c + OXALACETIC_ACID_c + 0.7 Pi_c + 0.5 aADP_c + 0.3 aPi_c\n"
     ]
    }
   ],
   "source": [
    "met = temp.metabolites.get_by_id(\"CIT_c\")\n",
    "for rxn in met.reactions:\n",
    "    if rxn.id in sol.fluxes.keys():\n",
    "        if round(sol.fluxes[rxn.id],5)!=0:\n",
    "            print(rxn.id+\"\\t\"+str(sol.fluxes[rxn.id]*rxn.metabolites[met]))\n",
    "            print(rxn.reaction)"
   ]
  },
  {
   "cell_type": "code",
   "execution_count": 91,
   "metadata": {},
   "outputs": [
    {
     "data": {
      "text/plain": [
       "7.685099999999999"
      ]
     },
     "execution_count": 91,
     "metadata": {},
     "output_type": "execute_result"
    }
   ],
   "source": [
    "sol.fluxes[\"ATPase_tx\"]"
   ]
  },
  {
   "cell_type": "code",
   "execution_count": 92,
   "metadata": {},
   "outputs": [
    {
     "name": "stdout",
     "output_type": "stream",
     "text": [
      "Mitochondrial_ATP_Synthase_m\t8.256218717982541\n",
      "2.4 ADP_m + 10.0 PROTON_i + 3.0 Pi_m + 0.6 aADP_m --> 2.7 ATP_m + 7.3 PROTON_m + 3.0 WATER_m + 0.3 aATP_m\n",
      "ADENYL_KIN_RXN_m\t-0.0011014271289407536\n",
      "AMP_m + 0.9 ATP_m + 0.3 PROTON_m + 0.1 aATP_m <=> 1.6 ADP_m + 0.4 aADP_m\n",
      "ATP_ADP_mc\t-8.400497415613689\n",
      "0.5 ADP_c + 0.9 ATP_m + 0.1 PROTON_m + 0.5 aADP_c + 0.1 aATP_m <=> 0.8 ADP_m + 0.65 ATP_c + 0.15 PROTON_c + 0.2 aADP_m + 0.35 aATP_c\n",
      "ATP_AMP_mc\t-0.0011014271289407536\n",
      "AMP_c + 0.9 ATP_m + 0.35 PROTON_c + 0.1 aATP_m <=> AMP_m + 0.65 ATP_c + 0.1 PROTON_m + 0.35 aATP_c\n",
      "SUCCCOASYN_RXN_m\t0.1464815518890304\n",
      "0.8 ADP_m + Pi_m + SUC_COA_m + 0.2 aADP_m --> 0.9 ATP_m + CO_A_m + 0.1 PROTON_m + SUC_m + 0.1 aATP_m\n"
     ]
    }
   ],
   "source": [
    "met1 = temp.metabolites.get_by_id(\"ATP_m\")\n",
    "met2 = temp.metabolites.get_by_id(\"aATP_m\")\n",
    "for rxn in met1.reactions:\n",
    "    if round(sol.fluxes[rxn.id],5)!=0:\n",
    "        print(rxn.id+\"\\t\"+str(sol.fluxes[rxn.id]*(rxn.metabolites[met1]+rxn.metabolites[met2])))\n",
    "        print(rxn.reaction)"
   ]
  },
  {
   "cell_type": "code",
   "execution_count": 94,
   "metadata": {},
   "outputs": [],
   "source": [
    "fout = open(\"TC_FBAfluxes_MATUREFig5C.csv\",\"w\")\n",
    "for rxn in temp.reactions:\n",
    "    fout.write(rxn.id+\"\\t\"+rxn.reaction+\"\\t\"+str(sol.fluxes[rxn.id])+\"\\n\")\n",
    "fout.close()"
   ]
  },
  {
   "cell_type": "code",
   "execution_count": 78,
   "metadata": {},
   "outputs": [
    {
     "ename": "KeyboardInterrupt",
     "evalue": "",
     "output_type": "error",
     "traceback": [
      "\u001b[1;31m---------------------------------------------------------------------------\u001b[0m",
      "\u001b[1;31mKeyboardInterrupt\u001b[0m                         Traceback (most recent call last)",
      "\u001b[1;32m<ipython-input-78-7a1dca362972>\u001b[0m in \u001b[0;36m<module>\u001b[1;34m\u001b[0m\n\u001b[0;32m      4\u001b[0m \u001b[1;33m\u001b[0m\u001b[0m\n\u001b[0;32m      5\u001b[0m \u001b[1;32mfrom\u001b[0m \u001b[0mcobra\u001b[0m\u001b[1;33m.\u001b[0m\u001b[0mflux_analysis\u001b[0m \u001b[1;32mimport\u001b[0m \u001b[0mflux_variability_analysis\u001b[0m\u001b[1;33m\u001b[0m\u001b[1;33m\u001b[0m\u001b[0m\n\u001b[1;32m----> 6\u001b[1;33m \u001b[0mfva_result\u001b[0m \u001b[1;33m=\u001b[0m \u001b[0mflux_variability_analysis\u001b[0m\u001b[1;33m(\u001b[0m\u001b[0mtemp\u001b[0m\u001b[1;33m,\u001b[0m \u001b[0mreaction_list\u001b[0m\u001b[1;33m=\u001b[0m\u001b[0mrxnlist\u001b[0m\u001b[1;33m)\u001b[0m\u001b[1;33m\u001b[0m\u001b[1;33m\u001b[0m\u001b[0m\n\u001b[0m",
      "\u001b[1;32mC:\\ProgramData\\Anaconda3\\lib\\site-packages\\cobra\\flux_analysis\\variability.py\u001b[0m in \u001b[0;36mflux_variability_analysis\u001b[1;34m(model, reaction_list, loopless, fraction_of_optimum, pfba_factor, processes)\u001b[0m\n\u001b[0;32m    208\u001b[0m                 \u001b[1;31m# slight overhead but seems the most clean.\u001b[0m\u001b[1;33m\u001b[0m\u001b[1;33m\u001b[0m\u001b[1;33m\u001b[0m\u001b[0m\n\u001b[0;32m    209\u001b[0m                 \u001b[0mchunk_size\u001b[0m \u001b[1;33m=\u001b[0m \u001b[0mlen\u001b[0m\u001b[1;33m(\u001b[0m\u001b[0mreaction_ids\u001b[0m\u001b[1;33m)\u001b[0m \u001b[1;33m//\u001b[0m \u001b[0mprocesses\u001b[0m\u001b[1;33m\u001b[0m\u001b[1;33m\u001b[0m\u001b[0m\n\u001b[1;32m--> 210\u001b[1;33m                 pool = multiprocessing.Pool(\n\u001b[0m\u001b[0;32m    211\u001b[0m                     \u001b[0mprocesses\u001b[0m\u001b[1;33m,\u001b[0m\u001b[1;33m\u001b[0m\u001b[1;33m\u001b[0m\u001b[0m\n\u001b[0;32m    212\u001b[0m                     \u001b[0minitializer\u001b[0m\u001b[1;33m=\u001b[0m\u001b[0m_init_worker\u001b[0m\u001b[1;33m,\u001b[0m\u001b[1;33m\u001b[0m\u001b[1;33m\u001b[0m\u001b[0m\n",
      "\u001b[1;32mC:\\ProgramData\\Anaconda3\\lib\\multiprocessing\\context.py\u001b[0m in \u001b[0;36mPool\u001b[1;34m(self, processes, initializer, initargs, maxtasksperchild)\u001b[0m\n\u001b[0;32m    117\u001b[0m         \u001b[1;34m'''Returns a process pool object'''\u001b[0m\u001b[1;33m\u001b[0m\u001b[1;33m\u001b[0m\u001b[0m\n\u001b[0;32m    118\u001b[0m         \u001b[1;32mfrom\u001b[0m \u001b[1;33m.\u001b[0m\u001b[0mpool\u001b[0m \u001b[1;32mimport\u001b[0m \u001b[0mPool\u001b[0m\u001b[1;33m\u001b[0m\u001b[1;33m\u001b[0m\u001b[0m\n\u001b[1;32m--> 119\u001b[1;33m         return Pool(processes, initializer, initargs, maxtasksperchild,\n\u001b[0m\u001b[0;32m    120\u001b[0m                     context=self.get_context())\n\u001b[0;32m    121\u001b[0m \u001b[1;33m\u001b[0m\u001b[0m\n",
      "\u001b[1;32mC:\\ProgramData\\Anaconda3\\lib\\multiprocessing\\pool.py\u001b[0m in \u001b[0;36m__init__\u001b[1;34m(self, processes, initializer, initargs, maxtasksperchild, context)\u001b[0m\n\u001b[0;32m    210\u001b[0m         \u001b[0mself\u001b[0m\u001b[1;33m.\u001b[0m\u001b[0m_processes\u001b[0m \u001b[1;33m=\u001b[0m \u001b[0mprocesses\u001b[0m\u001b[1;33m\u001b[0m\u001b[1;33m\u001b[0m\u001b[0m\n\u001b[0;32m    211\u001b[0m         \u001b[1;32mtry\u001b[0m\u001b[1;33m:\u001b[0m\u001b[1;33m\u001b[0m\u001b[1;33m\u001b[0m\u001b[0m\n\u001b[1;32m--> 212\u001b[1;33m             \u001b[0mself\u001b[0m\u001b[1;33m.\u001b[0m\u001b[0m_repopulate_pool\u001b[0m\u001b[1;33m(\u001b[0m\u001b[1;33m)\u001b[0m\u001b[1;33m\u001b[0m\u001b[1;33m\u001b[0m\u001b[0m\n\u001b[0m\u001b[0;32m    213\u001b[0m         \u001b[1;32mexcept\u001b[0m \u001b[0mException\u001b[0m\u001b[1;33m:\u001b[0m\u001b[1;33m\u001b[0m\u001b[1;33m\u001b[0m\u001b[0m\n\u001b[0;32m    214\u001b[0m             \u001b[1;32mfor\u001b[0m \u001b[0mp\u001b[0m \u001b[1;32min\u001b[0m \u001b[0mself\u001b[0m\u001b[1;33m.\u001b[0m\u001b[0m_pool\u001b[0m\u001b[1;33m:\u001b[0m\u001b[1;33m\u001b[0m\u001b[1;33m\u001b[0m\u001b[0m\n",
      "\u001b[1;32mC:\\ProgramData\\Anaconda3\\lib\\multiprocessing\\pool.py\u001b[0m in \u001b[0;36m_repopulate_pool\u001b[1;34m(self)\u001b[0m\n\u001b[0;32m    301\u001b[0m \u001b[1;33m\u001b[0m\u001b[0m\n\u001b[0;32m    302\u001b[0m     \u001b[1;32mdef\u001b[0m \u001b[0m_repopulate_pool\u001b[0m\u001b[1;33m(\u001b[0m\u001b[0mself\u001b[0m\u001b[1;33m)\u001b[0m\u001b[1;33m:\u001b[0m\u001b[1;33m\u001b[0m\u001b[1;33m\u001b[0m\u001b[0m\n\u001b[1;32m--> 303\u001b[1;33m         return self._repopulate_pool_static(self._ctx, self.Process,\n\u001b[0m\u001b[0;32m    304\u001b[0m                                             \u001b[0mself\u001b[0m\u001b[1;33m.\u001b[0m\u001b[0m_processes\u001b[0m\u001b[1;33m,\u001b[0m\u001b[1;33m\u001b[0m\u001b[1;33m\u001b[0m\u001b[0m\n\u001b[0;32m    305\u001b[0m                                             \u001b[0mself\u001b[0m\u001b[1;33m.\u001b[0m\u001b[0m_pool\u001b[0m\u001b[1;33m,\u001b[0m \u001b[0mself\u001b[0m\u001b[1;33m.\u001b[0m\u001b[0m_inqueue\u001b[0m\u001b[1;33m,\u001b[0m\u001b[1;33m\u001b[0m\u001b[1;33m\u001b[0m\u001b[0m\n",
      "\u001b[1;32mC:\\ProgramData\\Anaconda3\\lib\\multiprocessing\\pool.py\u001b[0m in \u001b[0;36m_repopulate_pool_static\u001b[1;34m(ctx, Process, processes, pool, inqueue, outqueue, initializer, initargs, maxtasksperchild, wrap_exception)\u001b[0m\n\u001b[0;32m    324\u001b[0m             \u001b[0mw\u001b[0m\u001b[1;33m.\u001b[0m\u001b[0mname\u001b[0m \u001b[1;33m=\u001b[0m \u001b[0mw\u001b[0m\u001b[1;33m.\u001b[0m\u001b[0mname\u001b[0m\u001b[1;33m.\u001b[0m\u001b[0mreplace\u001b[0m\u001b[1;33m(\u001b[0m\u001b[1;34m'Process'\u001b[0m\u001b[1;33m,\u001b[0m \u001b[1;34m'PoolWorker'\u001b[0m\u001b[1;33m)\u001b[0m\u001b[1;33m\u001b[0m\u001b[1;33m\u001b[0m\u001b[0m\n\u001b[0;32m    325\u001b[0m             \u001b[0mw\u001b[0m\u001b[1;33m.\u001b[0m\u001b[0mdaemon\u001b[0m \u001b[1;33m=\u001b[0m \u001b[1;32mTrue\u001b[0m\u001b[1;33m\u001b[0m\u001b[1;33m\u001b[0m\u001b[0m\n\u001b[1;32m--> 326\u001b[1;33m             \u001b[0mw\u001b[0m\u001b[1;33m.\u001b[0m\u001b[0mstart\u001b[0m\u001b[1;33m(\u001b[0m\u001b[1;33m)\u001b[0m\u001b[1;33m\u001b[0m\u001b[1;33m\u001b[0m\u001b[0m\n\u001b[0m\u001b[0;32m    327\u001b[0m             \u001b[0mpool\u001b[0m\u001b[1;33m.\u001b[0m\u001b[0mappend\u001b[0m\u001b[1;33m(\u001b[0m\u001b[0mw\u001b[0m\u001b[1;33m)\u001b[0m\u001b[1;33m\u001b[0m\u001b[1;33m\u001b[0m\u001b[0m\n\u001b[0;32m    328\u001b[0m             \u001b[0mutil\u001b[0m\u001b[1;33m.\u001b[0m\u001b[0mdebug\u001b[0m\u001b[1;33m(\u001b[0m\u001b[1;34m'added worker'\u001b[0m\u001b[1;33m)\u001b[0m\u001b[1;33m\u001b[0m\u001b[1;33m\u001b[0m\u001b[0m\n",
      "\u001b[1;32mC:\\ProgramData\\Anaconda3\\lib\\multiprocessing\\process.py\u001b[0m in \u001b[0;36mstart\u001b[1;34m(self)\u001b[0m\n\u001b[0;32m    119\u001b[0m                \u001b[1;34m'daemonic processes are not allowed to have children'\u001b[0m\u001b[1;33m\u001b[0m\u001b[1;33m\u001b[0m\u001b[0m\n\u001b[0;32m    120\u001b[0m         \u001b[0m_cleanup\u001b[0m\u001b[1;33m(\u001b[0m\u001b[1;33m)\u001b[0m\u001b[1;33m\u001b[0m\u001b[1;33m\u001b[0m\u001b[0m\n\u001b[1;32m--> 121\u001b[1;33m         \u001b[0mself\u001b[0m\u001b[1;33m.\u001b[0m\u001b[0m_popen\u001b[0m \u001b[1;33m=\u001b[0m \u001b[0mself\u001b[0m\u001b[1;33m.\u001b[0m\u001b[0m_Popen\u001b[0m\u001b[1;33m(\u001b[0m\u001b[0mself\u001b[0m\u001b[1;33m)\u001b[0m\u001b[1;33m\u001b[0m\u001b[1;33m\u001b[0m\u001b[0m\n\u001b[0m\u001b[0;32m    122\u001b[0m         \u001b[0mself\u001b[0m\u001b[1;33m.\u001b[0m\u001b[0m_sentinel\u001b[0m \u001b[1;33m=\u001b[0m \u001b[0mself\u001b[0m\u001b[1;33m.\u001b[0m\u001b[0m_popen\u001b[0m\u001b[1;33m.\u001b[0m\u001b[0msentinel\u001b[0m\u001b[1;33m\u001b[0m\u001b[1;33m\u001b[0m\u001b[0m\n\u001b[0;32m    123\u001b[0m         \u001b[1;31m# Avoid a refcycle if the target function holds an indirect\u001b[0m\u001b[1;33m\u001b[0m\u001b[1;33m\u001b[0m\u001b[1;33m\u001b[0m\u001b[0m\n",
      "\u001b[1;32mC:\\ProgramData\\Anaconda3\\lib\\multiprocessing\\context.py\u001b[0m in \u001b[0;36m_Popen\u001b[1;34m(process_obj)\u001b[0m\n\u001b[0;32m    324\u001b[0m         \u001b[1;32mdef\u001b[0m \u001b[0m_Popen\u001b[0m\u001b[1;33m(\u001b[0m\u001b[0mprocess_obj\u001b[0m\u001b[1;33m)\u001b[0m\u001b[1;33m:\u001b[0m\u001b[1;33m\u001b[0m\u001b[1;33m\u001b[0m\u001b[0m\n\u001b[0;32m    325\u001b[0m             \u001b[1;32mfrom\u001b[0m \u001b[1;33m.\u001b[0m\u001b[0mpopen_spawn_win32\u001b[0m \u001b[1;32mimport\u001b[0m \u001b[0mPopen\u001b[0m\u001b[1;33m\u001b[0m\u001b[1;33m\u001b[0m\u001b[0m\n\u001b[1;32m--> 326\u001b[1;33m             \u001b[1;32mreturn\u001b[0m \u001b[0mPopen\u001b[0m\u001b[1;33m(\u001b[0m\u001b[0mprocess_obj\u001b[0m\u001b[1;33m)\u001b[0m\u001b[1;33m\u001b[0m\u001b[1;33m\u001b[0m\u001b[0m\n\u001b[0m\u001b[0;32m    327\u001b[0m \u001b[1;33m\u001b[0m\u001b[0m\n\u001b[0;32m    328\u001b[0m     \u001b[1;32mclass\u001b[0m \u001b[0mSpawnContext\u001b[0m\u001b[1;33m(\u001b[0m\u001b[0mBaseContext\u001b[0m\u001b[1;33m)\u001b[0m\u001b[1;33m:\u001b[0m\u001b[1;33m\u001b[0m\u001b[1;33m\u001b[0m\u001b[0m\n",
      "\u001b[1;32mC:\\ProgramData\\Anaconda3\\lib\\multiprocessing\\popen_spawn_win32.py\u001b[0m in \u001b[0;36m__init__\u001b[1;34m(self, process_obj)\u001b[0m\n\u001b[0;32m     91\u001b[0m             \u001b[1;32mtry\u001b[0m\u001b[1;33m:\u001b[0m\u001b[1;33m\u001b[0m\u001b[1;33m\u001b[0m\u001b[0m\n\u001b[0;32m     92\u001b[0m                 \u001b[0mreduction\u001b[0m\u001b[1;33m.\u001b[0m\u001b[0mdump\u001b[0m\u001b[1;33m(\u001b[0m\u001b[0mprep_data\u001b[0m\u001b[1;33m,\u001b[0m \u001b[0mto_child\u001b[0m\u001b[1;33m)\u001b[0m\u001b[1;33m\u001b[0m\u001b[1;33m\u001b[0m\u001b[0m\n\u001b[1;32m---> 93\u001b[1;33m                 \u001b[0mreduction\u001b[0m\u001b[1;33m.\u001b[0m\u001b[0mdump\u001b[0m\u001b[1;33m(\u001b[0m\u001b[0mprocess_obj\u001b[0m\u001b[1;33m,\u001b[0m \u001b[0mto_child\u001b[0m\u001b[1;33m)\u001b[0m\u001b[1;33m\u001b[0m\u001b[1;33m\u001b[0m\u001b[0m\n\u001b[0m\u001b[0;32m     94\u001b[0m             \u001b[1;32mfinally\u001b[0m\u001b[1;33m:\u001b[0m\u001b[1;33m\u001b[0m\u001b[1;33m\u001b[0m\u001b[0m\n\u001b[0;32m     95\u001b[0m                 \u001b[0mset_spawning_popen\u001b[0m\u001b[1;33m(\u001b[0m\u001b[1;32mNone\u001b[0m\u001b[1;33m)\u001b[0m\u001b[1;33m\u001b[0m\u001b[1;33m\u001b[0m\u001b[0m\n",
      "\u001b[1;32mC:\\ProgramData\\Anaconda3\\lib\\multiprocessing\\reduction.py\u001b[0m in \u001b[0;36mdump\u001b[1;34m(obj, file, protocol)\u001b[0m\n\u001b[0;32m     58\u001b[0m \u001b[1;32mdef\u001b[0m \u001b[0mdump\u001b[0m\u001b[1;33m(\u001b[0m\u001b[0mobj\u001b[0m\u001b[1;33m,\u001b[0m \u001b[0mfile\u001b[0m\u001b[1;33m,\u001b[0m \u001b[0mprotocol\u001b[0m\u001b[1;33m=\u001b[0m\u001b[1;32mNone\u001b[0m\u001b[1;33m)\u001b[0m\u001b[1;33m:\u001b[0m\u001b[1;33m\u001b[0m\u001b[1;33m\u001b[0m\u001b[0m\n\u001b[0;32m     59\u001b[0m     \u001b[1;34m'''Replacement for pickle.dump() using ForkingPickler.'''\u001b[0m\u001b[1;33m\u001b[0m\u001b[1;33m\u001b[0m\u001b[0m\n\u001b[1;32m---> 60\u001b[1;33m     \u001b[0mForkingPickler\u001b[0m\u001b[1;33m(\u001b[0m\u001b[0mfile\u001b[0m\u001b[1;33m,\u001b[0m \u001b[0mprotocol\u001b[0m\u001b[1;33m)\u001b[0m\u001b[1;33m.\u001b[0m\u001b[0mdump\u001b[0m\u001b[1;33m(\u001b[0m\u001b[0mobj\u001b[0m\u001b[1;33m)\u001b[0m\u001b[1;33m\u001b[0m\u001b[1;33m\u001b[0m\u001b[0m\n\u001b[0m\u001b[0;32m     61\u001b[0m \u001b[1;33m\u001b[0m\u001b[0m\n\u001b[0;32m     62\u001b[0m \u001b[1;31m#\u001b[0m\u001b[1;33m\u001b[0m\u001b[1;33m\u001b[0m\u001b[1;33m\u001b[0m\u001b[0m\n",
      "\u001b[1;31mKeyboardInterrupt\u001b[0m: "
     ]
    }
   ],
   "source": [
    "rxnlist =list()\n",
    "for rxn in temp.metabolites.STARCH_p.reactions:\n",
    "    rxnlist.append(rxn)\n",
    "    \n",
    "from cobra.flux_analysis import flux_variability_analysis\n",
    "fva_result = flux_variability_analysis(temp, reaction_list=rxnlist)"
   ]
  },
  {
   "cell_type": "code",
   "execution_count": null,
   "metadata": {},
   "outputs": [],
   "source": [
    "fva_result"
   ]
  }
 ],
 "metadata": {
  "kernelspec": {
   "display_name": "Python 3",
   "language": "python",
   "name": "python3"
  },
  "language_info": {
   "codemirror_mode": {
    "name": "ipython",
    "version": 3
   },
   "file_extension": ".py",
   "mimetype": "text/x-python",
   "name": "python",
   "nbconvert_exporter": "python",
   "pygments_lexer": "ipython3",
   "version": "3.8.3"
  }
 },
 "nbformat": 4,
 "nbformat_minor": 4
}
