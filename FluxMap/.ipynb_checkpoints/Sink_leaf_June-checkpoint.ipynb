{
 "cells": [
  {
   "cell_type": "code",
   "execution_count": 1,
   "metadata": {},
   "outputs": [
    {
     "name": "stderr",
     "output_type": "stream",
     "text": [
      "C:\\ProgramData\\Anaconda3\\lib\\site-packages\\pandas\\compat\\_optional.py:106: UserWarning: Pandas requires version '1.2.1' or newer of 'bottleneck' (version '0+unknown' currently installed).\n",
      "  warnings.warn(msg, UserWarning)\n"
     ]
    },
    {
     "name": "stdout",
     "output_type": "stream",
     "text": [
      "Academic license - for non-commercial use only - expires 2021-08-06\n",
      "Using license file C:\\Users\\sanus\\gurobi.lic\n",
      "Read LP format model from file C:\\Users\\sanus\\AppData\\Local\\Temp\\tmp2yof71jz.lp\n",
      "Reading time = 0.02 seconds\n",
      ": 861 rows, 1792 columns, 8932 nonzeros\n",
      "Read LP format model from file C:\\Users\\sanus\\AppData\\Local\\Temp\\tmp_pieulur.lp\n",
      "Reading time = 0.02 seconds\n",
      ": 859 rows, 1792 columns, 8918 nonzeros\n",
      "Read LP format model from file C:\\Users\\sanus\\AppData\\Local\\Temp\\tmp0bp0c3dk.lp\n",
      "Reading time = 0.02 seconds\n",
      ": 859 rows, 1798 columns, 9046 nonzeros\n"
     ]
    },
    {
     "name": "stderr",
     "output_type": "stream",
     "text": [
      "C:\\ProgramData\\Anaconda3\\lib\\site-packages\\cobra\\core\\metabolite.py:103: UserWarning: 17.75575928966914 is not an integer (in formula C17.75575928966914H32.755759289669136O0.15472810256968023X1.0)\n",
      "  warn(\n",
      "C:\\ProgramData\\Anaconda3\\lib\\site-packages\\cobra\\core\\metabolite.py:103: UserWarning: 32.755759289669136 is not an integer (in formula C17.75575928966914H32.755759289669136O0.15472810256968023X1.0)\n",
      "  warn(\n",
      "C:\\ProgramData\\Anaconda3\\lib\\site-packages\\cobra\\core\\metabolite.py:103: UserWarning: 0.15472810256968023 is not an integer (in formula C17.75575928966914H32.755759289669136O0.15472810256968023X1.0)\n",
      "  warn(\n",
      "C:\\ProgramData\\Anaconda3\\lib\\site-packages\\cobra\\core\\metabolite.py:103: UserWarning: 17.75575928966914 is not an integer (in formula C17.75575928966914H32.86279801549386O2.0)\n",
      "  warn(\n",
      "C:\\ProgramData\\Anaconda3\\lib\\site-packages\\cobra\\core\\metabolite.py:103: UserWarning: 32.86279801549386 is not an integer (in formula C17.75575928966914H32.86279801549386O2.0)\n",
      "  warn(\n",
      "C:\\ProgramData\\Anaconda3\\lib\\site-packages\\cobra\\core\\metabolite.py:103: UserWarning: 20.75575928966914 is not an integer (in formula C20.75575928966914H38.755759289669136O6.15472810256968P1.0)\n",
      "  warn(\n",
      "C:\\ProgramData\\Anaconda3\\lib\\site-packages\\cobra\\core\\metabolite.py:103: UserWarning: 38.755759289669136 is not an integer (in formula C20.75575928966914H38.755759289669136O6.15472810256968P1.0)\n",
      "  warn(\n",
      "C:\\ProgramData\\Anaconda3\\lib\\site-packages\\cobra\\core\\metabolite.py:103: UserWarning: 6.15472810256968 is not an integer (in formula C20.75575928966914H38.755759289669136O6.15472810256968P1.0)\n",
      "  warn(\n",
      "C:\\ProgramData\\Anaconda3\\lib\\site-packages\\cobra\\core\\metabolite.py:103: UserWarning: 38.51151857933828 is not an integer (in formula C38.51151857933828H70.51151857933827O6.309456205139361P1.0)\n",
      "  warn(\n",
      "C:\\ProgramData\\Anaconda3\\lib\\site-packages\\cobra\\core\\metabolite.py:103: UserWarning: 70.51151857933827 is not an integer (in formula C38.51151857933828H70.51151857933827O6.309456205139361P1.0)\n",
      "  warn(\n",
      "C:\\ProgramData\\Anaconda3\\lib\\site-packages\\cobra\\core\\metabolite.py:103: UserWarning: 6.309456205139361 is not an integer (in formula C38.51151857933828H70.51151857933827O6.309456205139361P1.0)\n",
      "  warn(\n",
      "C:\\ProgramData\\Anaconda3\\lib\\site-packages\\cobra\\core\\metabolite.py:103: UserWarning: 38.51151857933828 is not an integer (in formula C38.51151857933828H71.51151857933827O3.3094562051393606)\n",
      "  warn(\n",
      "C:\\ProgramData\\Anaconda3\\lib\\site-packages\\cobra\\core\\metabolite.py:103: UserWarning: 71.51151857933827 is not an integer (in formula C38.51151857933828H71.51151857933827O3.3094562051393606)\n",
      "  warn(\n",
      "C:\\ProgramData\\Anaconda3\\lib\\site-packages\\cobra\\core\\metabolite.py:103: UserWarning: 3.3094562051393606 is not an integer (in formula C38.51151857933828H71.51151857933827O3.3094562051393606)\n",
      "  warn(\n",
      "C:\\ProgramData\\Anaconda3\\lib\\site-packages\\cobra\\core\\metabolite.py:103: UserWarning: 38.75575928966914 is not an integer (in formula C38.75575928966914H67.86279801549385N7.0O17.0P3.0S1.0)\n",
      "  warn(\n",
      "C:\\ProgramData\\Anaconda3\\lib\\site-packages\\cobra\\core\\metabolite.py:103: UserWarning: 67.86279801549385 is not an integer (in formula C38.75575928966914H67.86279801549385N7.0O17.0P3.0S1.0)\n",
      "  warn(\n",
      "C:\\ProgramData\\Anaconda3\\lib\\site-packages\\cobra\\core\\metabolite.py:103: UserWarning: 47.51151857933828 is not an integer (in formula C47.51151857933828H82.51151857933827N3.0O13.309456205139362P2.0)\n",
      "  warn(\n",
      "C:\\ProgramData\\Anaconda3\\lib\\site-packages\\cobra\\core\\metabolite.py:103: UserWarning: 82.51151857933827 is not an integer (in formula C47.51151857933828H82.51151857933827N3.0O13.309456205139362P2.0)\n",
      "  warn(\n",
      "C:\\ProgramData\\Anaconda3\\lib\\site-packages\\cobra\\core\\metabolite.py:103: UserWarning: 13.309456205139362 is not an integer (in formula C47.51151857933828H82.51151857933827N3.0O13.309456205139362P2.0)\n",
      "  warn(\n",
      "C:\\ProgramData\\Anaconda3\\lib\\site-packages\\cobra\\core\\metabolite.py:103: UserWarning: 41.51151857933828 is not an integer (in formula C41.51151857933828H76.51151857933827O11.309456205139362P2.0)\n",
      "  warn(\n",
      "C:\\ProgramData\\Anaconda3\\lib\\site-packages\\cobra\\core\\metabolite.py:103: UserWarning: 76.51151857933827 is not an integer (in formula C41.51151857933828H76.51151857933827O11.309456205139362P2.0)\n",
      "  warn(\n",
      "C:\\ProgramData\\Anaconda3\\lib\\site-packages\\cobra\\core\\metabolite.py:103: UserWarning: 11.309456205139362 is not an integer (in formula C41.51151857933828H76.51151857933827O11.309456205139362P2.0)\n",
      "  warn(\n",
      "C:\\ProgramData\\Anaconda3\\lib\\site-packages\\cobra\\core\\metabolite.py:103: UserWarning: 44.51151857933828 is not an integer (in formula C44.51151857933828H81.51151857933827O8.309456205139362)\n",
      "  warn(\n",
      "C:\\ProgramData\\Anaconda3\\lib\\site-packages\\cobra\\core\\metabolite.py:103: UserWarning: 81.51151857933827 is not an integer (in formula C44.51151857933828H81.51151857933827O8.309456205139362)\n",
      "  warn(\n",
      "C:\\ProgramData\\Anaconda3\\lib\\site-packages\\cobra\\core\\metabolite.py:103: UserWarning: 8.309456205139362 is not an integer (in formula C44.51151857933828H81.51151857933827O8.309456205139362)\n",
      "  warn(\n",
      "C:\\ProgramData\\Anaconda3\\lib\\site-packages\\cobra\\core\\metabolite.py:103: UserWarning: 43.51151857933828 is not an integer (in formula C43.51151857933828H83.51151857933827N1.0O6.309456205139361P1.0)\n",
      "  warn(\n",
      "C:\\ProgramData\\Anaconda3\\lib\\site-packages\\cobra\\core\\metabolite.py:103: UserWarning: 83.51151857933827 is not an integer (in formula C43.51151857933828H83.51151857933827N1.0O6.309456205139361P1.0)\n",
      "  warn(\n",
      "C:\\ProgramData\\Anaconda3\\lib\\site-packages\\cobra\\core\\metabolite.py:103: UserWarning: 6.309456205139361 is not an integer (in formula C43.51151857933828H83.51151857933827N1.0O6.309456205139361P1.0)\n",
      "  warn(\n"
     ]
    }
   ],
   "source": [
    "def addAllantoinMetabolism(backup):\n",
    "    model = backup.copy()\n",
    "    ############\n",
    "    # Nino-Gonzalez et al 2019\n",
    "    # Chen et al 2006\n",
    "    # Ritzel et al 2001\n",
    "    # Takagi et al 2018\n",
    "    met1 = Metabolite(\"S_ALLANTOIN_c\",name=\"S-ALLANTOIN:(S)-(+)-allantoin\",\n",
    "                      formula=\"C4H6N4O3\",compartment=\"c\",\n",
    "                      charge=0)\n",
    "    amet1 = Metabolite(\"aS_ALLANTOIN_c\",name=\"S-ALLANTOIN:(S)-(+)-allantoin\",\n",
    "                      formula=\"C4H5N4O3\",compartment=\"c\",\n",
    "                      charge=-1)\n",
    "\n",
    "    rxn1 = Reaction(\"Allantoin_tx\",name=\"Allantoin uptake\")\n",
    "    rxn1.add_metabolites({model.metabolites.PROTON_e:-1,\n",
    "                          model.metabolites.PROTON_c:1,met1:0.78,amet1:0.22})\n",
    "    rxn1.gene_reaction_rule='Glyma.15G066400'\n",
    "    rxn1.lower_bound = 0\n",
    "    rxn1.upper_bound = 1000\n",
    "    ##########\n",
    "    met2 = Metabolite(\"S_ALLANTOIN_r\",name=\"(S)-(+)-allantoin\",\n",
    "                      formula=\"C4H6N4O3\",compartment=\"r\",\n",
    "                      charge=0)\n",
    "    amet2 = Metabolite(\"aS_ALLANTOIN_r\",name=\"(S)-(+)-allantoin\",\n",
    "                      formula=\"C4H5N4O3\",compartment=\"r\",\n",
    "                      charge=-1)\n",
    "\n",
    "\n",
    "    proton_R = model.metabolites.PROTON_c.copy()\n",
    "    proton_R.id = \"PROTON_r\"\n",
    "    proton_R.compartment = \"r\"\n",
    "    rxnProton = Reaction(\"PROTON_rc\",name=\"ER proton exchange\")\n",
    "    rxnProton.add_metabolites({proton_R:-1,model.metabolites.PROTON_c:1})\n",
    "    rxnProton.lower_bound = -1000\n",
    "    rxnProton.upper_bound = 1000\n",
    "\n",
    "    rxn2 = Reaction(\"Allantoin_rc\",name=\"Allantoin peroxisome uptake/efflux\")\n",
    "    rxn2.add_metabolites({met1:-0.78,amet1:-0.22,proton_R:-0.12,met2:0.9,amet2:0.1})\n",
    "    rxn2.lower_bound = -1000\n",
    "    rxn2.upper_bound = 1000\n",
    "    ###########\n",
    "    met3 = Metabolite(\"ALLANTOATE_r\",name=\"allantoate\",\n",
    "                      formula=\"C4H7N4O4\",compartment=\"r\",\n",
    "                      charge=-1)\n",
    "\n",
    "    water_R = model.metabolites.WATER_c.copy()\n",
    "    water_R.id = \"WATER_r\"\n",
    "    water_R.compartment = \"r\"\n",
    "    rxnWater = Reaction(\"H2O_rc\",name=\"ER water exchange\")\n",
    "    rxnWater.add_metabolites({water_R:-1,model.metabolites.WATER_c:1})\n",
    "    rxnWater.lower_bound = -1000\n",
    "    rxnWater.upper_bound = 1000\n",
    "\n",
    "\n",
    "    rxn3 = Reaction(\"ALLANTOINASE_RXN_r\",name=\"ALLANTOINASE-RXN\")\n",
    "    rxn3.add_metabolites({met2:-0.9,amet2:-0.1,water_R:-1,\n",
    "                          met3:1,proton_R:0.9})\n",
    "    rxn3.gene_reaction_rule='Glyma.15G073000 or Glyma.15G072900 or Glyma.13G240500 or Glyma.13G240600'\n",
    "    #Glyma.15G073000 - cytoplasmic in Uniprot\n",
    "    #Glyma.15G072900 - cytoplasmic in Uniprot\n",
    "    #Glyma.13G240500 - cytoplasmic in Uniprot\n",
    "    #Glyma.13G240600 - cytoplasmic in Uniprot\n",
    "    #But according to Takagi et al 2018 ER\n",
    "\n",
    "    rxn3.lower_bound = 0\n",
    "    rxn3.upper_bound = 1000\n",
    "    ############\n",
    "    met4 = Metabolite(\"CPD0_2298_r\",name=\"CPD0-2298:(S)-ureidoglycine\",\n",
    "                      formula=\"C3H7N3O3\",compartment=\"r\",\n",
    "                      charge=0)\n",
    "    amet4 = Metabolite(\"aCPD0_2298_r\",name=\"CPD0-2298:(S)-ureidoglycine\",\n",
    "                      formula=\"C3H6N3O3\",compartment=\"r\",\n",
    "                      charge=-1)\n",
    "\n",
    "    met5 = model.metabolites.AMMONIUM_c.copy()\n",
    "    met5.id = \"AMMONIUM_r\"\n",
    "    met5.compartment = \"r\"\n",
    "    rxnNH4 = Reaction(\"NH4_rc\",name=\"Ammonium ER exchange\")\n",
    "    rxnNH4.add_metabolites({met5:-1,model.metabolites.AMMONIUM_c:1})\n",
    "    rxnNH4.lower_bound = -1000\n",
    "    rxnNH4.upper_bound = 1000\n",
    "\n",
    "    co2_R = model.metabolites.CARBON_DIOXIDE_c.copy()\n",
    "    co2_R.id = \"CARBON_DIOXIDE_r\"\n",
    "    co2_R.compartment = \"r\"\n",
    "    rxnCO2 = Reaction(\"CO2_rc\",name=\"CO2 ER exchange\")\n",
    "    rxnCO2.add_metabolites({co2_R:-1,model.metabolites.CARBON_DIOXIDE_c:1})\n",
    "    rxnCO2.lower_bound = -1000\n",
    "    rxnCO2.upper_bound = 1000\n",
    "\n",
    "    rxn4 = Reaction(\"ALLANTOATE_DEIMINASE_RXN_r\",name=\"ALLANTOATE-DEIMINASE-RXN:allantoate deiminase\")\n",
    "    rxn4.gene_reaction_rule='Glyma.15G156900 or Glyma.09G050800'\n",
    "    rxn4.add_metabolites({met3:-1,proton_R:-1.72,water_R:-1,\n",
    "                          met4:0.72,amet4:0.28,met5:1,co2_R:1})\n",
    "    #Glyma.15G156900 -ER in Uniprot\n",
    "    #Glyma.09G050800 -ER in Uniprot\n",
    "    rxn4.lower_bound = 0\n",
    "    rxn4.upper_bound = 1000\n",
    "    #############\n",
    "    met6 = Metabolite(\"CPD_1091_r\",name=\"CPD-1091:(S)-ureidoglycolate\",\n",
    "                      formula=\"C3H5N2O4\",compartment=\"r\",\n",
    "                      charge=-1)\n",
    "\n",
    "    water_R = model.metabolites.WATER_c.copy()\n",
    "    water_R.id = \"WATER_r\"\n",
    "    water_R.compartment = \"r\"\n",
    "    rxnWATER = Reaction(\"H2O_rc\",name=\"H2O ER exchange\")\n",
    "    rxnWATER.add_metabolites({water_R:-1,model.metabolites.WATER_c:1})\n",
    "    rxnWATER.lower_bound = -1000\n",
    "    rxnWATER.upper_bound = 1000\n",
    "\n",
    "    rxn5 = Reaction(\"URUR_RXN_r\",name=\"URUR-RXN:(S)-ureidoglycine aminohydrolase\")\n",
    "    rxn5.gene_reaction_rule='Glyma.17G148400 or Glyma.05G066500'\n",
    "    #Glyma.17G148400\n",
    "    #Glyma.05G066500\n",
    "    rxn5.add_metabolites({met4:-0.72,amet4:-0.28,proton_R:-0.28,water_R:-1,\n",
    "                          met6:1,met5:1})\n",
    "    rxn5.lower_bound = 0\n",
    "    rxn5.upper_bound = 1000\n",
    "    #############\n",
    "    # met7 = model.metabolites.UREA_c.copy()\n",
    "    # met7.id = \"UREA_r\"\n",
    "    # met7.compartment=\"r\"\n",
    "\n",
    "    # rxn6 = Reaction(\"ALLANTOICASE_RXN_r\",name=\"ALLANTOICASE-RXN:allantoicase\")\n",
    "    # rxn6.add_metabolites({met3:-1,model.metabolites.WATER_r:-1,\n",
    "    #                       met6:1,met7:1})\n",
    "    # rxn6.lower_bound = 0\n",
    "    # rxn6.lower_bound = 1000\n",
    "    #############\n",
    "\n",
    "    glyox_R = model.metabolites.GLYOX_x.copy()\n",
    "    glyox_R.id = \"GLYOX_r\"\n",
    "    glyox_R.compartment = \"r\"\n",
    "    rxnGlyox = Reaction(\"glyox_rx\",name=\"glyoxylate ER-peroxisome exchange\")\n",
    "    rxnGlyox.add_metabolites({glyox_R:-1,model.metabolites.GLYOX_x:1})\n",
    "\n",
    "    rxn7 = Reaction(\"UREIDOGLYCOLATE_HYDROLASE_RXN_r\",name=\"UREIDOGLYCOLATE-HYDROLASE-RXN:ureidoglycolate amidohydrolase\")\n",
    "    rxn7.gene_reaction_rule='Glyma.20G205500 or Glyma.10G184900'\n",
    "    #Glyma.20G205500 - ER in Uniprot\n",
    "    #Glyma.10G184900 - ER in Uniprot\n",
    "    rxn7.add_metabolites({met6:-1,proton_R:-2,water_R:-1,\n",
    "                          met5:2,co2_R:1,glyox_R:1})\n",
    "    rxn7.lower_bound = 0\n",
    "    rxn7.upper_bound = 1000\n",
    "    #############\n",
    "    # rxn8 = Reaction(\"UREIDOGLYCOLATE_LYASE_RXN_r\",name=\"UREIDOGLYCOLATE-LYASE-RXN:ureidoglycolate lyase\")\n",
    "    # rxn8.add_metabolites({met6:-1,\n",
    "    #                       met7:1,model.metabolites.GLYOX_r:1})\n",
    "    # rxn8.lower_bound = 0\n",
    "    # rxn8.lower_bound = 1000\n",
    "    ############\n",
    "    model.add_reactions([rxn1,rxn2,rxn3,rxn4,rxn5,rxn7,\n",
    "                         rxnCO2,rxnGlyox,rxnNH4,rxnProton,rxnWater])\n",
    "    return model\n",
    "\n",
    "\n",
    "def custom_pFBA(model):\n",
    "    sol = model.optimize()\n",
    "    for rxn in model.reactions:\n",
    "        if rxn.objective_coefficient != 0:\n",
    "            rxn.lower_buond = round(sol.fluxes[rxn.id],3)\n",
    "            rxn.upper_bound = round(sol.fluxes[rxn.id],3)\n",
    "    from sweetlovegroup import FBA\n",
    "    Irrev_model = FBA.rev2irrev(model)\n",
    "    for rxn in Irrev_model.reactions:\n",
    "        if rxn.upper_bound > 0:\n",
    "            rxn.objective_coefficient = -1\n",
    "        else:\n",
    "            rxn.objective_coefficient = 1\n",
    "    sol2 = Irrev_model.optimize()\n",
    "    rxnSet=set()\n",
    "    fluxDict = dict()\n",
    "    for rxn in Irrev_model.reactions.query(\"_reverse\"):\n",
    "        rxnSet.add(rxn.id)\n",
    "        rxnSet.add(rxn.id.replace(\"_reverse\",\"\"))\n",
    "        fluxDict[rxn.id.replace(\"_reverse\",\"\")]=sol2.fluxes[rxn.id]+sol2.fluxes[rxn.id.replace(\"_reverse\",\"\")]\n",
    "    for rxn in Irrev_model.reactions:\n",
    "        if rxn.id in rxnSet:\n",
    "            continue\n",
    "        else:\n",
    "            fluxDict[rxn.id]=sol2.fluxes[rxn.id]\n",
    "    sol3 = sol2\n",
    "    sol3.fluxes = fluxDict\n",
    "    return sol3\n",
    "\n",
    "\n",
    "import pandas as pd\n",
    "\n",
    "\n",
    "\n",
    "df2 = pd.DataFrame(data={\"Light intensity\":[1000],\n",
    "                        \"Vc\":[27.6936],\n",
    "                        \"Vo\":[9.3466],\n",
    "                        \"VPGA\":[0.010476],\n",
    "                        \"VT3P\":[5.0188],\n",
    "                        \"Vstarch\":[1.3221],\n",
    "                        \"Vt_glycerate\":[4.6733],\n",
    "                        \"Vt_glycolate\":[9.3466]})\n",
    "\n",
    "\n",
    "from cobra import io,flux_analysis\n",
    "from cobra.core import Reaction, Metabolite\n",
    "\n",
    "#import model. Update file name and location in the next line\n",
    "cobra_model = io.sbml.read_sbml_model(\"C:\\\\Users\\\\sanus\\\\Scripts\\\\git\\\\ODE-FBA\\\\Data\\\\PlantCoreMetabolism_v2_0_0.xml\")\n",
    "#cobra_model.solver=\"glpk\"\n",
    "\n",
    "\n",
    "#no external sucrose or glucose\n",
    "cobra_model.reactions.get_by_id(\"Sucrose_tx\").lower_bound = 0\n",
    "cobra_model.reactions.get_by_id(\"Sucrose_tx\").upper_bound = 0\n",
    "cobra_model.reactions.get_by_id(\"GLC_tx\").lower_bound = 0\n",
    "cobra_model.reactions.get_by_id(\"GLC_tx\").upper_bound = 0\n",
    "\n",
    "#no external light energy\n",
    "cobra_model.reactions.get_by_id(\"Photon_tx\").lower_bound = 0\n",
    "cobra_model.reactions.get_by_id(\"Photon_tx\").upper_bound = 0\n",
    "\n",
    "#set export of sugars as objective\n",
    "cobra_model.reactions.get_by_id(\"Phloem_output_tx\").objective_coefficient=0\n",
    "\n",
    "#add source reaction for TP\n",
    "rxn = Reaction(\"GAP_tx\",name = \"TP source\")\n",
    "rxn.add_metabolites({cobra_model.metabolites.get_by_id(\"GAP_c\"):1})\n",
    "rxn.upper_bound = 1000\n",
    "rxn.lower_bound = 0\n",
    "cobra_model.add_reaction(rxn)\n",
    "\n",
    "\n",
    "rxn = Reaction(\"G3P_tx\",name = \"PGA source\")\n",
    "rxn.add_metabolites({cobra_model.metabolites.get_by_id(\"G3P_c\"):1})\n",
    "rxn.upper_bound = 1000\n",
    "rxn.lower_bound = 0\n",
    "cobra_model.add_reaction(rxn)\n",
    "\n",
    "#add source reaction for TP\n",
    "rxn = Reaction(\"GLYCOLATE_tx\",name = \"Glycolate source\")\n",
    "rxn.add_metabolites({cobra_model.metabolites.get_by_id(\"GLYCOLLATE_c\"):1})\n",
    "rxn.upper_bound = 1000\n",
    "rxn.lower_bound = 0\n",
    "cobra_model.add_reaction(rxn)\n",
    "\n",
    "#add source reaction for TP\n",
    "rxn = Reaction(\"GLYCERATE_tx\",name = \"Glycerate sink\")\n",
    "rxn.add_metabolites({cobra_model.metabolites.get_by_id(\"GLYCERATE_c\"):-1})\n",
    "rxn.upper_bound = 1000\n",
    "rxn.lower_bound = 0\n",
    "cobra_model.add_reaction(rxn)\n",
    "\n",
    "#remove mGS and cGS\n",
    "cobra_model.reactions.get_by_id(\"GLUTAMINESYN_RXN_m\").lower_bound = 0\n",
    "cobra_model.reactions.get_by_id(\"GLUTAMINESYN_RXN_m\").upper_bound = 0\n",
    "cobra_model.reactions.get_by_id(\"GLUTAMINESYN_RXN_c\").lower_bound = 0\n",
    "cobra_model.reactions.get_by_id(\"GLUTAMINESYN_RXN_c\").upper_bound = 0\n",
    "\n",
    "#settingup model\n",
    "model = cobra_model.copy()\n",
    "model.metabolites.get_by_id(\"aL_1_PHOSPHATIDYL_GLYCEROL_P_m\").remove_from_model()\n",
    "model.metabolites.get_by_id(\"aL_1_PHOSPHATIDYL_GLYCEROL_P_p\").remove_from_model()\n",
    "\n",
    "model.reactions.get_by_id(\"PGPPHOSPHA_RXN_m\").add_metabolites({model.metabolites.get_by_id(\"L_1_PHOSPHATIDYL_GLYCEROL_P_m\"):-0.03,\n",
    "                                                               model.metabolites.get_by_id(\"PROTON_m\"):-0.03})\n",
    "model.reactions.get_by_id(\"PHOSPHAGLYPSYN_RXN_m\").add_metabolites({model.metabolites.get_by_id(\"L_1_PHOSPHATIDYL_GLYCEROL_P_m\"):0.03,\n",
    "                                                                   model.metabolites.get_by_id(\"PROTON_m\"):0.03})\n",
    "model.reactions.get_by_id(\"PGPPHOSPHA_RXN_p\").add_metabolites({model.metabolites.get_by_id(\"L_1_PHOSPHATIDYL_GLYCEROL_P_p\"):-0.03,\n",
    "                                                               model.metabolites.get_by_id(\"PROTON_p\"):-0.03})\n",
    "model.reactions.get_by_id(\"PHOSPHAGLYPSYN_RXN_p\").add_metabolites({model.metabolites.get_by_id(\"L_1_PHOSPHATIDYL_GLYCEROL_P_p\"):0.03,\n",
    "                                                                   model.metabolites.get_by_id(\"PROTON_p\"):0.03})\n",
    "model.reactions.get_by_id(\"LPG_biosynthesis_c\").add_metabolites({model.metabolites.get_by_id(\"L_1_PHOSPHATIDYL_GLYCEROL_P_p\"):-0.03})\n",
    "\n",
    "import pandas as pd\n",
    "\n",
    "df = pd.read_csv(\"C:\\\\Users\\\\sanus\\\\Scripts\\\\git\\\\tissue-specific-FBA-models\\\\Data\\\\biomass_soy.csv\")\n",
    "\n",
    "FA=[\"PALMITATE_p\",\"CPD_9245_p\",\"CPD_17412_p\",\"CPD_17291_p\",\"STEARIC_ACID_p\",\"OLEATE_CPD_p\",\n",
    "    \"Octadecadienoate_p\",\"LINOLENIC_ACID_p\",\"ARACHIDIC_ACID_p\",\"CPD_16709_p\",\"DOCOSANOATE_p\"]\n",
    "FACP = {\"PALMITATE_p\":\"Palmitoyl_ACPs_p\",\n",
    "        \"CPD_9245_p\":\"Palmitoleoyl_ACP_p\",\n",
    "        \"CPD_17412_p\":\"hexadecadienoate_ACP_p\",\n",
    "        \"CPD_17291_p\":\"hexadecatrienoate_ACP_p\",\n",
    "        \"STEARIC_ACID_p\":\"Stearoyl_ACPs_p\",\n",
    "        \"OLEATE_CPD_p\":\"Oleoyl_ACPs_p\",\n",
    "        \"Octadecadienoate_p\":\"Octadecadienoyl_ACP_p\",\n",
    "        \"LINOLENIC_ACID_p\":\"Octadecatrienoyl_ACP_p\",\n",
    "        \"ARACHIDIC_ACID_p\":\"Arachidoyl_ACPs_p\",\n",
    "        \"CPD_16709_p\":\"Eicosenoyl_ACP_p\",\n",
    "        \"DOCOSANOATE_p\":\"Behenoyl_ACPs_p\"}\n",
    "\n",
    "\n",
    "PLs = [\"ACYL_SN_GLYCEROL_3P_p\",\n",
    "       \"L_PHOSPHATIDATE_p\",\"L_PHOSPHATIDATE_m\",\"DIACYLGLYCEROL_p\",\n",
    "       \"DIACYLGLYCEROL_r\",\"Triacylglycerols_p\",\"PHOSPHATIDYL_CHOLINE_r\",\n",
    "       \"L_1_PHOSPHATIDYL_ETHANOLAMINE_r\",\"L_1_PHOSPHATIDYL_GLYCEROL_p\",\n",
    "       \"L_1_PHOSPHATIDYL_GLYCEROL_P_p\",\"L_1_PHOSPHATIDYL_GLYCEROL_P_m\",\n",
    "       \"L_1_PHOSPHATIDYL_GLYCEROL_m\",\"2_Lysophosphatidylcholines_r\",\n",
    "       \"Lysophosphatidylglycerols_r\",\"CDPDIACYLGLYCEROL_p\",\"CDPDIACYLGLYCEROL_m\",\n",
    "       \"D_Galactosyl_12_diacyl_glycerols_p\",\"Galactosyl_galactosyl_diacyl_glycerols_p\"]\n",
    "\n",
    "\n",
    "for met in PLs:\n",
    "    met=model.metabolites.get_by_id(met)\n",
    "    met.formula=\"\"\n",
    "\n",
    "def generateMissingFormula(model,debug=False):\n",
    "    loop_counter = 0\n",
    "    former = 0\n",
    "    for met in model.metabolites:\n",
    "        if met.formula == \"\" or met.formula == \"NA\":\n",
    "            former = former +1\n",
    "    latter = 1\n",
    "    while True:\n",
    "        loop_counter = loop_counter+1\n",
    "        if debug:\n",
    "            print(\"Loop = \"+str(loop_counter))\n",
    "        former = latter\n",
    "        for rxn in model.reactions:\n",
    "            count = 0\n",
    "            for met in rxn.metabolites:\n",
    "                if met.formula==\"\" or met.formula==\"NA\" or met.formula == None:\n",
    "                    if met.formula == \"NA\" or met.formula == None:\n",
    "                        met.formula = \"\"\n",
    "                    count = count + 1\n",
    "                    coeff = rxn.metabolites[met]\n",
    "            if count == 1:\n",
    "                unb = rxn.check_mass_balance()\n",
    "                eqn = rxn.reaction\n",
    "                eqn = \" \"+eqn+\" \"\n",
    "                for met in rxn.metabolites.keys():\n",
    "                    formula = met.formula\n",
    "                    if formula == None:\n",
    "                        formula = \"0\"\n",
    "                        NF_list.add(rxn.id)\n",
    "                    eqn=eqn.replace(\" \"+met.id+\" \",\"(\"+formula+\")\")\n",
    "                if debug:\n",
    "                    print(eqn)\n",
    "                    print(unb)\n",
    "                for met in rxn.metabolites:\n",
    "                    if met.formula == \"\":\n",
    "                        tempForm = \"\"\n",
    "                        for a in sorted(unb.keys()):\n",
    "                            if a==\"charge\" or round(unb[a],2)==0:\n",
    "                                continue\n",
    "                            num = float(abs(unb[a]))/abs(coeff)\n",
    "                            if str(round(num))==str(num):\n",
    "                                tempForm = tempForm+a+str(int(round(num)))\n",
    "                            else:\n",
    "                                tempForm = tempForm+a+str(num)\n",
    "                                #print(a)\n",
    "                                #print(round(num)==num)\n",
    "                                #print(round(num))\n",
    "                                #print(num)\n",
    "                                #print(type(round(num)))\n",
    "                                #print(type(num))\n",
    "                        met.formula = tempForm\n",
    "                        if debug:\n",
    "                            print(met.id)\n",
    "                            print(tempForm)\n",
    "        latter = 0\n",
    "        for met in model.metabolites:\n",
    "            if met.formula == \"\" or met.formula == \"NA\":\n",
    "                latter = latter +1\n",
    "        if former == latter:\n",
    "            break\n",
    "\n",
    "\n",
    "leaf_model = model.copy()\n",
    "\n",
    "k = \"leaf\"\n",
    "RXN1 = Reaction(\"Fatty_acid_mix_\"+k)\n",
    "RXN2 = Reaction(\"Fatty_acid_ACP_\"+k)\n",
    "tot = 0\n",
    "for met in df[\"Unnamed: 0\"]:\n",
    "    #print met\n",
    "    if met in FA:\n",
    "        RXN1.add_metabolites({leaf_model.metabolites.get_by_id(met):-1*float(df[df[\"Unnamed: 0\"]==met][k])})\n",
    "        RXN2.add_metabolites({leaf_model.metabolites.get_by_id(FACP[met]):-1*float(df[df[\"Unnamed: 0\"]==met][k])})\n",
    "        tot = tot+(float(df[df[\"Unnamed: 0\"]==met][k]))\n",
    "if tot==0:\n",
    "    RXN1.add_metabolites({leaf_model.metabolites.PALMITATE_p:-1})\n",
    "    RXN2.add_metabolites({leaf_model.metabolites.Palmitoyl_ACPs_p:-1})\n",
    "    tot = 1\n",
    "RXN1.add_metabolites({leaf_model.metabolites.Fatty_Acids_p:tot})\n",
    "RXN1.lower_bound = 0\n",
    "RXN1.upper_bound = 1000\n",
    "leaf_model.add_reaction(RXN1)\n",
    "\n",
    "RXN2.add_metabolites({leaf_model.metabolites.Fatty_acyl_ACP_p:tot})\n",
    "RXN2.lower_bound = 0\n",
    "RXN2.upper_bound = 1000\n",
    "leaf_model.add_reaction(RXN2)\n",
    "\n",
    "\n",
    "generateMissingFormula(leaf_model)\n",
    "\n",
    "rxn = Reaction(\"Biomass_leaf_tx\")\n",
    "for met in df[\"Unnamed: 0\"]:\n",
    "    if met in FA or float(df[df[\"Unnamed: 0\"]==met][k])==0:\n",
    "        continue\n",
    "    rxn.add_metabolites({leaf_model.metabolites.get_by_id(met):-1*float(df[df[\"Unnamed: 0\"]==met][k])})\n",
    "\n",
    "rxn.lower_bound = 0\n",
    "rxn.upper_bound = 1000\n",
    "leaf_model.add_reaction(rxn)\n",
    "\n",
    "rxn.objective_coefficient=1\n",
    "\n",
    "\n",
    "cobra_model = leaf_model.copy()\n",
    "\n",
    "\n",
    "cobra_model.reactions.get_by_id(\"Pi_ec\").lower_bound = -1000\n",
    "cobra_model.reactions.get_by_id(\"Pi_ec\").upper_bound = 1000\n",
    "\n",
    "#add malate and citrate accumulation reactions\n",
    "rxn = Reaction(\"MAL_v_accumulation\")\n",
    "rxn.add_metabolites({cobra_model.metabolites.MAL_v:-0.7,cobra_model.metabolites.aMAL_v:-0.3})\n",
    "rxn.lower_bound = -1000\n",
    "rxn.upper_bound = 1000\n",
    "cobra_model.add_reaction(rxn)\n",
    "rxn = Reaction(\"CIT_v_accumulation\")\n",
    "rxn.add_metabolites({cobra_model.metabolites.CIT_v:-0.5,cobra_model.metabolites.aCIT_v:-0.5})\n",
    "rxn.lower_bound = -1000\n",
    "rxn.upper_bound = 1000\n",
    "cobra_model.add_reaction(rxn)\n",
    "\n",
    "\n"
   ]
  },
  {
   "cell_type": "code",
   "execution_count": 2,
   "metadata": {},
   "outputs": [
    {
     "name": "stdout",
     "output_type": "stream",
     "text": [
      "Read LP format model from file C:\\Users\\sanus\\AppData\\Local\\Temp\\tmppp56b8u9.lp\n",
      "Reading time = 0.02 seconds\n",
      ": 859 rows, 1802 columns, 9054 nonzeros\n",
      "Biomass C accumulation rate =10.765446979550125\n",
      "0.03139380726043939\n",
      "Extra APTase flux =3.6479938072604394\n",
      "3_ISOPROPYLMALDEHYDROG_RXN_p\t0.05825601761379979=4.68\n",
      "PYRUVDEH_RXN_p\t0.0907489867645795=4.68\n",
      "PREPHENATEDEHYDROG_RXN_p\t0.05125850208130016=4.68\n",
      "GLUTAMATE_SYNTHASE_NADH_RXN_p\t-4.79277810017975=4.68\n",
      "GAPOXNPHOSPHN_RXN_p\t4.425370166389124=4.68\n",
      "PGLYCDEHYDROG_RXN_p\t0.16714826279733686=4.68\n",
      "Extra NADPH flux =4.68\n"
     ]
    }
   ],
   "source": [
    "temp = cobra_model.copy()\n",
    "\n",
    "PPFD = df2[\"Light intensity\"][0]\n",
    "#constrain maintenace\n",
    "ATPase = (0.0049*PPFD) + 2.7851\n",
    "temp.reactions.get_by_id(\"ATPase_tx\").lower_bound = ATPase\n",
    "temp.reactions.get_by_id(\"ATPase_tx\").upper_bound = ATPase\n",
    "temp.reactions.get_by_id(\"NADPHoxc_tx\").lower_bound = ATPase/9\n",
    "temp.reactions.get_by_id(\"NADPHoxc_tx\").upper_bound = ATPase/9\n",
    "temp.reactions.get_by_id(\"NADPHoxp_tx\").lower_bound = ATPase/9\n",
    "temp.reactions.get_by_id(\"NADPHoxp_tx\").upper_bound = ATPase/9\n",
    "temp.reactions.get_by_id(\"NADPHoxm_tx\").lower_bound = ATPase/9\n",
    "temp.reactions.get_by_id(\"NADPHoxm_tx\").upper_bound = ATPase/9\n",
    "\n",
    "#constraint TP flux\n",
    "temp.reactions.get_by_id(\"GAP_tx\").lower_bound = df2[\"VT3P\"][0]\n",
    "temp.reactions.get_by_id(\"GAP_tx\").upper_bound = df2[\"VT3P\"][0]\n",
    "temp.reactions.get_by_id(\"G3P_tx\").lower_bound = df2[\"VPGA\"][0]\n",
    "temp.reactions.get_by_id(\"G3P_tx\").upper_bound = df2[\"VPGA\"][0]\n",
    "\n",
    "#constraint glycollate and glycerate fluxes flux\n",
    "temp.reactions.get_by_id(\"GLYCOLATE_tx\").lower_bound = df2[\"Vt_glycolate\"][0]\n",
    "temp.reactions.get_by_id(\"GLYCOLATE_tx\").upper_bound = df2[\"Vt_glycolate\"][0]\n",
    "temp.reactions.get_by_id(\"GLYCERATE_tx\").lower_bound = df2[\"Vt_glycerate\"][0]\n",
    "temp.reactions.get_by_id(\"GLYCERATE_tx\").upper_bound = df2[\"Vt_glycerate\"][0]\n",
    "\n",
    "#temp.reactions.get_by_id(\"NrefixationCostbypass\").lower_bound = df270[\"Vt_glycolate\"][i]\n",
    "#temp.reactions.get_by_id(\"NrefixationCostbypass\").upper_bound = df270[\"Vt_glycolate\"][i]\n",
    "#temp.reactions.get_by_id(\"NrefixationEnergy\").lower_bound = df270[\"Vt_glycerate\"][i]\n",
    "#temp.reactions.get_by_id(\"NrefixationEnergy\").upper_bound = df270[\"Vt_glycerate\"][i]\n",
    "temp.reactions.get_by_id(\"2PGADEHYDRAT_RXN_p\").lower_bound = 0\n",
    "temp.reactions.get_by_id(\"2PGADEHYDRAT_RXN_p\").upper_bound = 0\n",
    "\n",
    "temp.reactions.get_by_id(\"G6P_Pi_pc\").lower_bound=0\n",
    "temp.reactions.get_by_id(\"G6P_Pi_pc\").upper_bound=0\n",
    "\n",
    "temp.reactions.get_by_id(\"MAL_v_accumulation\").lower_bound = 0.0698903487288*df2[\"Vstarch\"][0]\n",
    "temp.reactions.get_by_id(\"MAL_v_accumulation\").upper_bound = 0.0698903487288*df2[\"Vstarch\"][0]\n",
    "\n",
    "temp.reactions.get_by_id(\"CIT_v_accumulation\").lower_bound = -0.056884259879*df2[\"Vstarch\"][0]\n",
    "temp.reactions.get_by_id(\"CIT_v_accumulation\").upper_bound = -0.056884259879*df2[\"Vstarch\"][0]\n",
    "\n",
    "\n",
    "\n",
    "\n",
    "for rxn in cobra_model.reactions:\n",
    "    if rxn.lower_bound == -1000:\n",
    "        rxn.lower_boudn = -3000\n",
    "    if rxn.upper_bound == 1000:\n",
    "        rxn.upper_bound = 3000\n",
    "\n",
    "\n",
    "\n",
    "#ADD ATP source reaction in FBA to represent ATP from JATPase\n",
    "JATPase = 3.6166\n",
    "rxn = Reaction(\"ATP_source_from_ODE\")\n",
    "rxn.add_metabolites({temp.metabolites.get_by_id(\"ADP_p\"):-0.8,\n",
    "                     temp.metabolites.get_by_id(\"aADP_p\"):-0.2,\n",
    "                     temp.metabolites.get_by_id(\"Pi_p\"):-1,\n",
    "                     temp.metabolites.get_by_id(\"PROTON_p\"):-0.9,\n",
    "                     temp.metabolites.get_by_id(\"ATP_p\"):0.9,\n",
    "                     temp.metabolites.get_by_id(\"aATP_p\"):0.1,\n",
    "                     temp.metabolites.get_by_id(\"WATER_p\"):1})\n",
    "rxn.lower_bound = JATPase\n",
    "\n",
    "rxn.upper_bound = JATPase\n",
    "temp.add_reaction(rxn)\n",
    "\n",
    "#ADD NADPH source reaction in FBA to represent NADPH from ODE\n",
    "JNADPHox = 4.68\n",
    "rxn = Reaction(\"NADPH_source_from_ODE\")\n",
    "rxn.add_metabolites({temp.metabolites.get_by_id(\"NADP_p\"):-1,\n",
    "                     temp.metabolites.get_by_id(\"WATER_p\"):-1,\n",
    "                     temp.metabolites.get_by_id(\"NADPH_p\"):1,\n",
    "                     temp.metabolites.get_by_id(\"OXYGEN_MOLECULE_p\"):1,\n",
    "                     temp.metabolites.get_by_id(\"PROTON_p\"):1})\n",
    "rxn.lower_bound = JNADPHox\n",
    "rxn.upper_bound = JNADPHox\n",
    "temp.add_reaction(rxn)\n",
    "\n",
    "temp.reactions.Phloem_output_tx.lower_bound = 0\n",
    "temp.reactions.Phloem_output_tx.upper_bound = 0\n",
    "\n",
    "#check if model works\n",
    "temp.solver=\"glpk\"\n",
    "#sol = custom_pFBA(temp)\n",
    "#sol = flux_analysis.parsimonious.optimize_minimal_flux(temp)\n",
    "try:\n",
    "    sol = flux_analysis.parsimonious.optimize_minimal_flux(temp)\n",
    "except:\n",
    "    sol = custom_pFBA(temp)\n",
    "rxn =  temp.reactions.get_by_id(\"Biomass_leaf_tx\")\n",
    "print(\"Biomass C accumulation rate =\"+str(rxn.flux*595.7664799294965))\n",
    "\n",
    "total = JATPase\n",
    "for rxn in temp.metabolites.ATP_p.reactions:\n",
    "    if round(sol.fluxes[rxn.id],3) != 0:\n",
    "        coeff1 = rxn.metabolites[temp.metabolites.ATP_p]\n",
    "        coeff2 = rxn.metabolites[temp.metabolites.aATP_p]\n",
    "        ATPflux = sol.fluxes[rxn.id]*(coeff1+coeff2)\n",
    "        #print(rxn.id+\"\\t\"+str(ATPflux)+\"=\"+str(total))\n",
    "        if rxn.id == \"ATP_ADP_Pi_pc\":\n",
    "            total = total + ATPflux\n",
    "            print(ATPflux)\n",
    "print(\"Extra APTase flux =\"+str(total))\n",
    "\n",
    "\n",
    "total = JNADPHox\n",
    "for rxn in temp.metabolites.NADPH_p.reactions:\n",
    "    if round(sol.fluxes[rxn.id],3) != 0:\n",
    "        coeff1 = rxn.metabolites[temp.metabolites.NADPH_p]\n",
    "        NADPHflux = sol.fluxes[rxn.id]*(coeff1)\n",
    "        #print(rxn.id+\"\\t\"+str(NADPHflux)+\"=\"+str(total))\n",
    "        if rxn.id == \"MALATE_DEH_RXN_p\":\n",
    "            total = total + NADPHflux\n",
    "            print(NADPHflux)\n",
    "for rxn in temp.metabolites.NADH_p.reactions:\n",
    "    if round(sol.fluxes[rxn.id],3) != 0:\n",
    "        coeff1 = rxn.metabolites[temp.metabolites.NADH_p]\n",
    "        NADPHflux = sol.fluxes[rxn.id]*(coeff1)\n",
    "        print(rxn.id+\"\\t\"+str(NADPHflux)+\"=\"+str(total))\n",
    "        if rxn.id == \"MALATE_DEH_RXN_p\":\n",
    "            total = total + NADPHflux\n",
    "            print(NADPHflux)\n",
    "print(\"Extra NADPH flux =\"+str(total))"
   ]
  },
  {
   "cell_type": "code",
   "execution_count": 3,
   "metadata": {},
   "outputs": [
    {
     "name": "stdout",
     "output_type": "stream",
     "text": [
      "pGLN_b\t-0.7846224529883405\n",
      "pLYS_b\t-0.43277516838456587\n"
     ]
    }
   ],
   "source": [
    "rxn = temp.reactions.Biomass_leaf_tx\n",
    "for met in rxn.metabolites.keys():\n",
    "    if rxn.metabolites[met]*sol.fluxes[rxn.id] < -0.1:\n",
    "        print(met.id+\"\\t\"+str(rxn.metabolites[met]*sol.fluxes[rxn.id]))"
   ]
  },
  {
   "cell_type": "code",
   "execution_count": 4,
   "metadata": {},
   "outputs": [
    {
     "data": {
      "text/plain": [
       "-0.0005631452550730829"
      ]
     },
     "execution_count": 4,
     "metadata": {},
     "output_type": "execute_result"
    }
   ],
   "source": [
    "sol.fluxes[\"Biomass_leaf_tx\"]*rxn.metabolites[met]"
   ]
  },
  {
   "cell_type": "code",
   "execution_count": 5,
   "metadata": {},
   "outputs": [
    {
     "name": "stdout",
     "output_type": "stream",
     "text": [
      "0.018069910471988096\n"
     ]
    }
   ],
   "source": [
    "temp2 = temp.copy()\n",
    "temp2.optimize()\n",
    "print(temp2.reactions.Biomass_leaf_tx.flux)"
   ]
  },
  {
   "cell_type": "code",
   "execution_count": 6,
   "metadata": {},
   "outputs": [
    {
     "data": {
      "text/plain": [
       "38.68706666666667"
      ]
     },
     "execution_count": 6,
     "metadata": {},
     "output_type": "execute_result"
    }
   ],
   "source": [
    "116.0612/3"
   ]
  },
  {
   "cell_type": "code",
   "execution_count": 7,
   "metadata": {},
   "outputs": [
    {
     "name": "stdout",
     "output_type": "stream",
     "text": [
      "PHOSPHOGLUCMUT_RXN_c\t0.06978738397823953\n",
      "GLC_1_P_c <=> GLC_6_P_c\n",
      "GLUC1PURIDYLTRANS_RXN_c\t-0.06978738397823953\n",
      "GLC_1_P_c + 0.85 PROTON_c + 0.5 UTP_c + 0.5 aUTP_c <=> 0.65 PPI_c + UDP_GLUCOSE_c + 0.35 aPPI_c\n"
     ]
    }
   ],
   "source": [
    "met = temp.metabolites.get_by_id(\"GLC_1_P_c\")\n",
    "for rxn in met.reactions:\n",
    "    if round(sol.fluxes[rxn.id],3)!=0:\n",
    "        print(rxn.id+\"\\t\"+str(sol.fluxes[rxn.id]*rxn.metabolites[met]))\n",
    "        print(rxn.reaction)"
   ]
  },
  {
   "cell_type": "code",
   "execution_count": 8,
   "metadata": {},
   "outputs": [
    {
     "name": "stdout",
     "output_type": "stream",
     "text": [
      "SERINE_TRNA_LIGASE_RXN_c\t0.05581789972174166\n",
      "0.65 ATP_c + PROTON_c + SER_c + SER_tRNAs_c + 0.35 aATP_c --> AMP_c + Charged_SER_tRNAs_c + 0.65 PPI_c + 0.35 aPPI_c\n",
      "TYROSINE_TRNA_LIGASE_RXN_c\t0.05125737114523177\n",
      "0.65 ATP_c + PROTON_c + TYR_c + TYR_tRNAs_c + 0.35 aATP_c --> AMP_c + Charged_TYR_tRNAs_c + 0.65 PPI_c + 0.35 aPPI_c\n",
      "ASPARAGINE_TRNA_LIGASE_RXN_c\t0.0034486874846532322\n",
      "ASN_c + ASN_tRNAs_c + 0.65 ATP_c + PROTON_c + 0.35 aATP_c --> AMP_c + Charged_ASN_tRNAs_c + 0.65 PPI_c + 0.35 aPPI_c\n",
      "METHIONINE_TRNA_LIGASE_RXN_c\t0.03248808678751085\n",
      "0.65 ATP_c + MET_c + MET_tRNAs_c + PROTON_c + 0.35 aATP_c --> AMP_c + Charged_MET_tRNAs_c + 0.65 PPI_c + 0.35 aPPI_c\n",
      "PRO_TRNA_LIGASE_RXN_c\t0.046148880021676414\n",
      "0.65 ATP_c + PRO_c + PRO_tRNAs_c + 0.35 aATP_c --> AMP_c + Charged_PRO_tRNAs_c + 0.65 PPI_c + PROTON_c + 0.35 aPPI_c\n",
      "CYS_TRNA_LIGASE_RXN_c\t0.0069575405127880905\n",
      "0.65 ATP_c + CYS_c + CYS_tRNAs_c + 0.35 aATP_c --> AMP_c + Charged_CYS_tRNAs_c + 0.65 PPI_c + PROTON_c + 0.35 aPPI_c\n",
      "ATP_AMP_mc\t-1.991249140146459\n",
      "AMP_c + 0.9 ATP_m + 0.35 PROTON_c + 0.1 aATP_m <=> AMP_m + 0.65 ATP_c + 0.1 PROTON_m + 0.35 aATP_c\n",
      "GLUTAMINE_TRNA_LIGASE_RXN_c\t0.7846224529883405\n",
      "0.65 ATP_c + GLN_c + GLN_tRNAs_c + PROTON_c + 0.35 aATP_c --> AMP_c + Charged_GLN_tRNAs_c + 0.65 PPI_c + 0.35 aPPI_c\n",
      "LEUCINE_TRNA_LIGASE_RXN_c\t0.058254091779191663\n",
      "0.65 ATP_c + LEU_c + LEU_tRNAs_c + PROTON_c + 0.35 aATP_c --> AMP_c + Charged_LEU_tRNAs_c + 0.65 PPI_c + 0.35 aPPI_c\n",
      "TRP_TRNA_LIGASE_RXN_c\t0.0005631452550730825\n",
      "0.65 ATP_c + TRP_c + TRP_tRNAs_c + 0.35 aATP_c --> AMP_c + Charged_TRP_tRNAs_c + 0.65 PPI_c + PROTON_c + 0.35 aPPI_c\n",
      "THREONINE_TRNA_LIGASE_RXN_c\t0.07270126702605272\n",
      "0.65 ATP_c + PROTON_c + THR_c + THR_tRNAs_c + 0.35 aATP_c --> AMP_c + Charged_THR_tRNAs_c + 0.65 PPI_c + 0.35 aPPI_c\n",
      "ASPARTATE_TRNA_LIGASE_RXN_c\t0.06654561348443844\n",
      "ASP_tRNAs_c + 0.65 ATP_c + L_ASPARTATE_c + PROTON_c + 0.35 aATP_c --> AMP_c + Charged_ASP_tRNAs_c + 0.65 PPI_c + 0.35 aPPI_c\n",
      "ALANINE_TRNA_LIGASE_RXN_c\t0.07225930653652746\n",
      "ALA_tRNAs_c + 0.65 ATP_c + L_ALPHA_ALANINE_c + PROTON_c + 0.35 aATP_c --> AMP_c + Charged_ALA_tRNAs_c + 0.65 PPI_c + 0.35 aPPI_c\n",
      "ASNSYNA_RXN_c\t0.0034486874846532322\n",
      "AMMONIUM_c + 0.65 ATP_c + L_ASPARTATE_c + 0.35 aATP_c --> AMP_c + ASN_c + 0.65 PPI_c + PROTON_c + 0.35 aPPI_c\n",
      "ISOLEUCINE_TRNA_LIGASE_RXN_c\t0.033447063618127645\n",
      "0.65 ATP_c + ILE_c + ILE_tRNAs_c + PROTON_c + 0.35 aATP_c --> AMP_c + Charged_ILE_tRNAs_c + 0.65 PPI_c + 0.35 aPPI_c\n",
      "LYSINE_TRNA_LIGASE_RXN_c\t0.4327751683845658\n",
      "0.65 ATP_c + LYS_c + LYS_tRNAs_c + PROTON_c + 0.35 aATP_c --> AMP_c + Charged_LYS_tRNAs_c + 0.65 PPI_c + 0.35 aPPI_c\n",
      "GLURS_RXN_c\t0.06720764456881288\n",
      "0.65 ATP_c + GLT_c + GLT_tRNAs_c + PROTON_c + 0.35 aATP_c --> AMP_c + Charged_GLT_tRNAs_c + 0.65 PPI_c + 0.35 aPPI_c\n",
      "VALINE_TRNA_LIGASE_RXN_c\t0.05091445196799275\n",
      "0.65 ATP_c + PROTON_c + VAL_c + VAL_tRNAs_c + 0.35 aATP_c --> AMP_c + Charged_VAL_tRNAs_c + 0.65 PPI_c + 0.35 aPPI_c\n",
      "PHENYLALANINE_TRNA_LIGASE_RXN_c\t0.042248083957077756\n",
      "0.65 ATP_c + PHE_c + PHE_tRNAs_c + PROTON_c + 0.35 aATP_c --> AMP_c + Charged_PHE_tRNAs_c + 0.65 PPI_c + 0.35 aPPI_c\n",
      "AMP_ATP_xc\t0.039449137215980104\n",
      "AMP_x + 0.65 ATP_c + 0.35 PROTON_x + 0.35 aATP_c <=> AMP_c + 0.65 ATP_x + 0.35 PROTON_c + 0.35 aATP_x\n",
      "GLYCINE_TRNA_LIGASE_RXN_c\t0.0706945602060161\n",
      "0.65 ATP_c + GLY_c + GLY_tRNAs_c + PROTON_c + 0.35 aATP_c --> AMP_c + Charged_GLY_tRNAs_c + 0.65 PPI_c + 0.35 aPPI_c\n"
     ]
    }
   ],
   "source": [
    "met = temp.metabolites.AMP_c\n",
    "for rxn in met.reactions:\n",
    "    if round(rxn.flux,3)!=0:\n",
    "        print(rxn.id+\"\\t\"+str(rxn.flux*rxn.metabolites[met]))\n",
    "        print(rxn.reaction)"
   ]
  },
  {
   "cell_type": "code",
   "execution_count": 9,
   "metadata": {},
   "outputs": [
    {
     "name": "stdout",
     "output_type": "stream",
     "text": [
      "H_pc\n",
      "3.0862525287925693\n",
      "HS_pc\n",
      "0.006960486288226175\n",
      "DHAP_Pi_pc\n",
      "-0.09646003527038118\n",
      "H2O_pc\n",
      "-0.03762704564244449\n",
      "GAP_Pi_pc\n",
      "-0.325946251063818\n",
      "GAP_3PGA_pc\n",
      "-4.2896158169396985\n",
      "CO2_pc\n",
      "0.8184685260492158\n",
      "NH3_pc\n",
      "-7.800810835579782\n",
      "LEU_pc\n",
      "0.05825601927571971\n",
      "LYS_pc\n",
      "0.43277522124203405\n",
      "L_ASPARTATE_pc\n",
      "-0.5714138508367267\n",
      "O2_pc\n",
      "4.253049999999999\n",
      "TRP_pc\n",
      "0.0005631452711384152\n",
      "ILE_pc\n",
      "0.03344741447359172\n",
      "GLT_MAL_pc\n",
      "6.245512523476583\n",
      "THR_pc\n",
      "0.07270256306772768\n",
      "OAA_MAL_pc\n",
      "-0.03139393878984693\n",
      "HOMO_CYS_pc\n",
      "0.03248865205337482\n",
      "PEP_Pi_pc\n",
      "-0.9304017094273132\n",
      "TYR_pc\n",
      "0.051258503544314236\n",
      "VAL_pc\n",
      "0.050914913087714134\n",
      "GLN_GLU_pc\n",
      "0.7846224753719453\n",
      "ACET_pc\n",
      "0.03248865205337483\n",
      "2KG_MAL_pc\n",
      "-6.245512523476584\n",
      "PHE_pc\n",
      "0.04224841879944381\n",
      "SO4_pc\n",
      "-0.039449138341601006\n",
      "SER_pc\n",
      "0.13409647023975074\n"
     ]
    }
   ],
   "source": [
    "for rxn in temp.reactions:\n",
    "    compSet = set()\n",
    "    for met in rxn.metabolites.keys():\n",
    "        compSet.add(met.compartment)\n",
    "    if compSet == {\"c\",\"p\"}:\n",
    "        if round(rxn.flux,3)!=0:\n",
    "            print(rxn.id)\n",
    "            print(rxn.flux)"
   ]
  },
  {
   "cell_type": "code",
   "execution_count": 10,
   "metadata": {},
   "outputs": [
    {
     "data": {
      "image/png": "[encoded data removed]",
      "text/plain": [
       "<Figure size 216x288 with 1 Axes>"
      ]
     },
     "metadata": {
      "needs_background": "light"
     },
     "output_type": "display_data"
    }
   ],
   "source": [
    "from sweetlovegroup.analysis import generateATPbudget\n",
    "generateATPbudget(temp,sol.fluxes,day_or_night_tag=\"\",outfile=\"temp.csv\")"
   ]
  },
  {
   "cell_type": "code",
   "execution_count": 11,
   "metadata": {},
   "outputs": [],
   "source": [
    "production ={\"ATP synthesis\":116.0612}\n",
    "consumption={\"Photosynthesis1\":69.39673+37.04026,\n",
    "             \"Starch\":1.334341+0.01226785,\n",
    "             \"Photorespiration\":4.673303,\n",
    "             \"FBA\":3.6166}"
   ]
  },
  {
   "cell_type": "code",
   "execution_count": 12,
   "metadata": {},
   "outputs": [
    {
     "data": {
      "text/plain": [
       "-0.01230185000001427"
      ]
     },
     "execution_count": 12,
     "metadata": {},
     "output_type": "execute_result"
    }
   ],
   "source": [
    "sum(production.values())-sum(consumption.values())"
   ]
  },
  {
   "cell_type": "code",
   "execution_count": 13,
   "metadata": {},
   "outputs": [
    {
     "data": {
      "text/plain": [
       "106.43699000000001"
      ]
     },
     "execution_count": 13,
     "metadata": {},
     "output_type": "execute_result"
    }
   ],
   "source": [
    "(69.39673+37.04026)"
   ]
  },
  {
   "cell_type": "code",
   "execution_count": 14,
   "metadata": {},
   "outputs": [
    {
     "data": {
      "text/plain": [
       "38.68706666666667"
      ]
     },
     "execution_count": 14,
     "metadata": {},
     "output_type": "execute_result"
    }
   ],
   "source": [
    "sum(production.values())/3"
   ]
  },
  {
   "cell_type": "code",
   "execution_count": 15,
   "metadata": {},
   "outputs": [
    {
     "name": "stdout",
     "output_type": "stream",
     "text": [
      "ALANINE_TRNA_LIGASE_RXN_c\t-0.0722593085979313\n",
      "ATP_ADP_mc\t12.929369375700412\n",
      "ASNSYNA_RXN_c\t-0.003448687583036928\n",
      "ISOLEUCINE_TRNA_LIGASE_RXN_c\t-0.03344706457230101\n",
      "LYSINE_TRNA_LIGASE_RXN_c\t-0.43277518073071825\n",
      "GLURS_RXN_c\t-0.0672076464861037\n",
      "VALINE_TRNA_LIGASE_RXN_c\t-0.05091445342047341\n",
      "PHENYLALANINE_TRNA_LIGASE_RXN_c\t-0.04224808516232554\n",
      "Protein_Translocation_c\t-2.8153677311356415\n",
      "AMP_ATP_xc\t-0.039449138341601006\n",
      "GLYCINE_TRNA_LIGASE_RXN_c\t-0.07069456222278112\n",
      "ATP_CITRATE_PRO_S_LYASE_RXN_c\t-0.006960486288226173\n",
      "SERINE_TRNA_LIGASE_RXN_c\t-0.05581790131410726\n",
      "TYROSINE_TRNA_LIGASE_RXN_c\t-0.0512573726074952\n",
      "PHOSGLYPHOS_RXN_c\t0.1671783639080043\n",
      "GDPKIN_RXN_c\t-3.896702742056251\n",
      "Protein_Processing_c\t-0.5961955195346064\n",
      "METHIONINE_TRNA_LIGASE_RXN_c\t-0.03248808771432658\n",
      "ASPARAGINE_TRNA_LIGASE_RXN_c\t-0.003448687583036928\n",
      "PRO_TRNA_LIGASE_RXN_c\t-0.046148881338205446\n",
      "CYS_TRNA_LIGASE_RXN_c\t-0.0069575407112718824\n",
      "GLUTAMINE_TRNA_LIGASE_RXN_c\t-0.7846224753719453\n",
      "ATP_AMP_mc\t1.9912491969527617\n",
      "ATPase_tx\t-7.685099999999999\n",
      "UDPKIN_RXN_c\t-0.06978738596864845\n",
      "PEPDEPHOS_RXN_c\t2.0197158040273426\n",
      "LEUCINE_TRNA_LIGASE_RXN_c\t-0.058254093441056636\n",
      "THREONINE_TRNA_LIGASE_RXN_c\t-0.0727012691000647\n",
      "TRP_TRNA_LIGASE_RXN_c\t-0.0005631452711384152\n",
      "ASPARTATE_TRNA_LIGASE_RXN_c\t-0.06654561538284288\n",
      "GLUTKIN_RXN_c\t-0.046149678652383036\n"
     ]
    }
   ],
   "source": [
    "met=temp.metabolites.get_by_id(\"ATP_c\")\n",
    "met2 = temp.metabolites.get_by_id(\"aATP_c\")\n",
    "for rxn in met.reactions:\n",
    "    if round(sol.fluxes[rxn.id],3)!=0:\n",
    "        print(rxn.id+\"\\t\"+str(sol.fluxes[rxn.id]*(rxn.metabolites[met]+\n",
    "                                        rxn.metabolites[met2])))\n",
    "        #print(rxn.reaction)"
   ]
  },
  {
   "cell_type": "code",
   "execution_count": 16,
   "metadata": {},
   "outputs": [
    {
     "data": {
      "text/plain": [
       "7.081561280559074"
      ]
     },
     "execution_count": 16,
     "metadata": {},
     "output_type": "execute_result"
    }
   ],
   "source": [
    "2.2887831957756637+4.792778084783411"
   ]
  },
  {
   "cell_type": "code",
   "execution_count": 17,
   "metadata": {},
   "outputs": [
    {
     "name": "stdout",
     "output_type": "stream",
     "text": [
      "NH3_pc\t-7.800810835579782\n",
      "ASNSYNA_RXN_c\t-0.003448687583036928\n",
      "NH3_mc\t4.634472281966107\n",
      "NH4_ec\t3.1697872411967114\n"
     ]
    }
   ],
   "source": [
    "met=temp.metabolites.get_by_id(\"AMMONIUM_c\")\n",
    "for rxn in met.reactions:\n",
    "    if round(rxn.flux,3)!=0:\n",
    "        print(rxn.id+\"\\t\"+str(rxn.flux*rxn.metabolites[met]))\n",
    "        #print(rxn.reaction)"
   ]
  },
  {
   "cell_type": "code",
   "execution_count": 18,
   "metadata": {},
   "outputs": [
    {
     "name": "stdout",
     "output_type": "stream",
     "text": [
      "Pi_PROTON_mc\t16.911867769605937\n",
      "SUCCCOASYN_RXN_m\t-1.1177098177317635\n",
      "Mitochondrial_ATP_Synthase_m\t-15.794157951874173\n"
     ]
    }
   ],
   "source": [
    "met=temp.metabolites.get_by_id(\"Pi_m\")\n",
    "for rxn in met.reactions:\n",
    "    if round(rxn.flux,3)!=0:\n",
    "        print(rxn.id+\"\\t\"+str(rxn.flux*rxn.metabolites[met]))\n",
    "        #print(rxn.reaction+\"\\n\")"
   ]
  },
  {
   "cell_type": "code",
   "execution_count": 19,
   "metadata": {},
   "outputs": [
    {
     "name": "stdout",
     "output_type": "stream",
     "text": [
      "H_tx\t14.96947987350696\n",
      "H2O_tx\t-8.67918026696577\n",
      "CO2_tx\t-9.077312695305142\n",
      "O2_tx\t4.130051583895217\n",
      "Pi_tx\t-5.029275762843921\n",
      "SO4_tx\t0.03944913834160101\n",
      "NH4_tx\t3.169787241196712\n",
      "unlProtHYPO_c\t16.78495476110227\n",
      "GAP_tx\t5.0188\n",
      "G3P_tx\t0.010476\n",
      "GLYCOLATE_tx\t9.3466\n",
      "GLYCERATE_tx\t4.6733\n",
      "Biomass_leaf_tx\t0.018069911029468047\n",
      "MAL_v_accumulation\t0.09240203005434648\n",
      "CIT_v_accumulation\t-0.0752066799860259\n"
     ]
    }
   ],
   "source": [
    "for rxn in temp.reactions:\n",
    "    if len(rxn.reactants)==0 or len(rxn.products)==0:\n",
    "        if round(rxn.flux,2)!=0:\n",
    "            print(rxn.id+\"\\t\"+str(rxn.flux))"
   ]
  },
  {
   "cell_type": "code",
   "execution_count": 20,
   "metadata": {},
   "outputs": [
    {
     "data": {
      "text/plain": [
       "'2.4 ADP_p + 14.0 PROTON_l + 3.0 Pi_p + 0.6 aADP_p --> 2.7 ATP_p + 11.3 PROTON_p + 3.0 WATER_p + 0.3 aATP_p'"
      ]
     },
     "execution_count": 20,
     "metadata": {},
     "output_type": "execute_result"
    }
   ],
   "source": [
    "temp.reactions.Plastidial_ATP_Synthase_p.reaction"
   ]
  },
  {
   "cell_type": "code",
   "execution_count": 21,
   "metadata": {},
   "outputs": [],
   "source": [
    "rxn = Reaction(\"ATP source from ODE\")\n",
    "rxn.add_metabolites({temp.metabolites.get_by_id(\"ADP_p\"):-0.8,\n",
    "                     temp.metabolites.get_by_id(\"aADP_p\"):-0.2,\n",
    "                     temp.metabolites.get_by_id(\"Pi_p\"):-1,\n",
    "                     temp.metabolites.get_by_id(\"PROTON_p\"):-0.9,\n",
    "                     temp.metabolites.get_by_id(\"ATP_p\"):0.9,\n",
    "                     temp.metabolites.get_by_id(\"aATP_p\"):0.1,\n",
    "                     temp.metabolites.get_by_id(\"WATER_p\"):1})\n"
   ]
  },
  {
   "cell_type": "code",
   "execution_count": 22,
   "metadata": {},
   "outputs": [
    {
     "data": {
      "text/plain": [
       "{'charge': 6.661338147750939e-16,\n",
       " 'H': -8.881784197001252e-16,\n",
       " 'O': 1.1102230246251565e-15,\n",
       " 'P': 2.220446049250313e-16}"
      ]
     },
     "execution_count": 22,
     "metadata": {},
     "output_type": "execute_result"
    }
   ],
   "source": [
    "rxn.check_mass_balance()"
   ]
  },
  {
   "cell_type": "code",
   "execution_count": 23,
   "metadata": {},
   "outputs": [
    {
     "name": "stdout",
     "output_type": "stream",
     "text": [
      "RXN_8873_c\t-0.0\n",
      "0.42 CPD_7616_c + 0.2 PROTON_c + S_ADENOSYLMETHIONINE_c + 0.58 aCPD_7616_c --> ADENOSYL_HOMO_CYS_c + 0.62 VANILLIN_c + 0.38 aVANILLIN_c\n",
      "RXN_5643_c\t-0.0\n",
      "0.88 CPD_5441_c + S_ADENOSYLMETHIONINE_c + 0.12 aCPD_5441_c --> ADENOSYL_HOMO_CYS_c + 0.94 PHOSPHORYL_CHOLINE_c + 0.06 PROTON_c + 0.06 aPHOSPHORYL_CHOLINE_c\n",
      "S_ADENMETSYN_RXN_c\t0.0\n",
      "0.65 ATP_c + MET_c + WATER_c + 0.35 aATP_c --> 0.65 PPI_c + 0.7 PROTON_c + 0.7 Pi_c + S_ADENOSYLMETHIONINE_c + 0.35 aPPI_c + 0.3 aPi_c\n",
      "RXN_5642_c\t-0.0\n",
      "0.88 CPD_406_c + S_ADENOSYLMETHIONINE_c + 0.12 aCPD_406_c --> ADENOSYL_HOMO_CYS_c + 0.88 CPD_5441_c + 0.12 aCPD_5441_c\n",
      "ACETOSYRINGONE_BIOSYNTHESIS_c\t-0.0\n",
      "0.88 5_HYDROXY_ACETOVANILLONE_c + S_ADENOSYLMETHIONINE_c + 0.12 a5_HYDROXY_ACETOVANILLONE_c --> 0.56 ACETOSYRINGONE_c + ADENOSYL_HOMO_CYS_c + 0.32 PROTON_c + 0.44 aACETOSYRINGONE_c\n",
      "RXN_3422_c\t-0.0\n",
      "5_HYDROXY_FERULIC_ACID_c + S_ADENOSYLMETHIONINE_c --> ADENOSYL_HOMO_CYS_c + SINAPATE_c\n",
      "RXN_1104_c\t-0.0\n",
      "CPD_676_c + S_ADENOSYLMETHIONINE_c --> ADENOSYL_HOMO_CYS_c + FERULIC_ACID_c + PROTON_c\n",
      "2_PERIOD_1_PERIOD_1_PERIOD_103_RXN_c\t-0.0\n",
      "0.87 PHOSPHORYL_ETHANOLAMINE_c + S_ADENOSYLMETHIONINE_c + 0.13 aPHOSPHORYL_ETHANOLAMINE_c --> ADENOSYL_HOMO_CYS_c + 0.88 CPD_406_c + 0.01 PROTON_c + 0.12 aCPD_406_c\n"
     ]
    }
   ],
   "source": [
    "met=temp.metabolites.get_by_id(\"S_ADENOSYLMETHIONINE_c\")\n",
    "for rxn in met.reactions:\n",
    "    print(rxn.id+\"\\t\"+str(rxn.flux*rxn.metabolites[met]))\n",
    "    print(rxn.reaction)"
   ]
  },
  {
   "cell_type": "code",
   "execution_count": 9,
   "metadata": {},
   "outputs": [],
   "source": [
    "fout = open(\"TC_FBAfluxes_GROWINGFig5B.csv\",\"w\")\n",
    "for rxn in temp.reactions:\n",
    "    fout.write(rxn.id+\"\\t\"+rxn.reaction+\"\\t\"+str(rxn.flux)+\"\\n\")\n",
    "fout.close()"
   ]
  },
  {
   "cell_type": "code",
   "execution_count": 11,
   "metadata": {},
   "outputs": [],
   "source": [
    "df3 = pd.DataFrame(data={\"Light intensity\":[1000],\n",
    "                        \"Vc\":[27.6936],\n",
    "                        \"Vo\":[9.3466],\n",
    "                        \"VPGA\":[0.010476],\n",
    "                        \"VT3P\":[5.0188],\n",
    "                        \"Vstarch\":[1.3205],\n",
    "                        \"Vt_glycerate\":[4.6733],\n",
    "                        \"Vt_glycolate\":[9.3466]})"
   ]
  },
  {
   "cell_type": "code",
   "execution_count": 12,
   "metadata": {},
   "outputs": [
    {
     "name": "stdout",
     "output_type": "stream",
     "text": [
      "Read LP format model from file C:\\Users\\sanus\\AppData\\Local\\Temp\\tmp6ymnsgp6.lp\n",
      "Reading time = 0.02 seconds\n",
      ": 859 rows, 1802 columns, 9054 nonzeros\n",
      "Biomass C accumulation rate =4.355153531174932\n"
     ]
    }
   ],
   "source": [
    "temp = cobra_model.copy()\n",
    "\n",
    "PPFD = df3[\"Light intensity\"][0]\n",
    "#constrain maintenace\n",
    "ATPase = (0.0049*1000) + 2.7851\n",
    "temp.reactions.get_by_id(\"ATPase_tx\").lower_bound = ATPase\n",
    "temp.reactions.get_by_id(\"ATPase_tx\").upper_bound = ATPase\n",
    "temp.reactions.get_by_id(\"NADPHoxc_tx\").lower_bound = ATPase/9\n",
    "temp.reactions.get_by_id(\"NADPHoxc_tx\").upper_bound = ATPase/9\n",
    "temp.reactions.get_by_id(\"NADPHoxp_tx\").lower_bound = ATPase/9\n",
    "temp.reactions.get_by_id(\"NADPHoxp_tx\").upper_bound = ATPase/9\n",
    "temp.reactions.get_by_id(\"NADPHoxm_tx\").lower_bound = ATPase/9\n",
    "temp.reactions.get_by_id(\"NADPHoxm_tx\").upper_bound = ATPase/9\n",
    "\n",
    "#constraint TP flux\n",
    "temp.reactions.get_by_id(\"GAP_tx\").lower_bound = 0\n",
    "temp.reactions.get_by_id(\"GAP_tx\").upper_bound = 0\n",
    "temp.reactions.get_by_id(\"G3P_tx\").lower_bound = 0\n",
    "temp.reactions.get_by_id(\"G3P_tx\").upper_bound = 0\n",
    "\n",
    "#constraint glycollate and glycerate fluxes flux\n",
    "temp.reactions.get_by_id(\"GLYCOLATE_tx\").lower_bound = 0\n",
    "temp.reactions.get_by_id(\"GLYCOLATE_tx\").upper_bound = 0\n",
    "temp.reactions.get_by_id(\"GLYCERATE_tx\").lower_bound = 0\n",
    "temp.reactions.get_by_id(\"GLYCERATE_tx\").upper_bound = 0\n",
    "\n",
    "temp.reactions.get_by_id(\"2PGADEHYDRAT_RXN_p\").lower_bound = 0\n",
    "temp.reactions.get_by_id(\"2PGADEHYDRAT_RXN_p\").upper_bound = 0\n",
    "\n",
    "temp.reactions.get_by_id(\"G6P_Pi_pc\").lower_bound=0\n",
    "temp.reactions.get_by_id(\"G6P_Pi_pc\").upper_bound=0\n",
    "\n",
    "temp.reactions.get_by_id(\"G6P_Pi_pc\").lower_bound=0\n",
    "temp.reactions.get_by_id(\"G6P_Pi_pc\").upper_bound=0\n",
    "\n",
    "temp.metabolites.get_by_id(\"Starch_b\").remove_from_model()\n",
    "temp.reactions.get_by_id(\"Starch_biomass\").lower_bound = df3[\"Vstarch\"][0]\n",
    "temp.reactions.get_by_id(\"Starch_biomass\").upper_bound = df3[\"Vstarch\"][0]\n",
    "\n",
    "temp.reactions.get_by_id(\"MAL_v_accumulation\").lower_bound = -0.0698903487288*df3[\"Vstarch\"][0]\n",
    "temp.reactions.get_by_id(\"MAL_v_accumulation\").upper_bound = -0.0698903487288*df3[\"Vstarch\"][0]\n",
    "\n",
    "temp.reactions.get_by_id(\"CIT_v_accumulation\").lower_bound = 0.056884259879*df3[\"Vstarch\"][0]\n",
    "temp.reactions.get_by_id(\"CIT_v_accumulation\").upper_bound = 0.056884259879*df3[\"Vstarch\"][0]\n",
    "\n",
    "for rxn in cobra_model.reactions:\n",
    "    if rxn.lower_bound == -1000:\n",
    "        rxn.lower_boudn = -3000\n",
    "    if rxn.upper_bound == 1000:\n",
    "        rxn.upper_bound = 3000\n",
    "\n",
    "temp.reactions.Phloem_output_tx.lower_bound = 0\n",
    "temp.reactions.Phloem_output_tx.upper_bound = 0\n",
    "\n",
    "#check if model works\n",
    "temp.solver=\"glpk\"\n",
    "#sol = custom_pFBA(temp)\n",
    "#sol = flux_analysis.parsimonious.optimize_minimal_flux(temp)\n",
    "try:\n",
    "    sol = flux_analysis.parsimonious.optimize_minimal_flux(temp)\n",
    "except:\n",
    "    sol = custom_pFBA(temp)\n",
    "rxn =  temp.reactions.get_by_id(\"Biomass_leaf_tx\")\n",
    "print(\"Biomass C accumulation rate =\"+str(sol.fluxes[rxn.id]*574.2739836645953))"
   ]
  },
  {
   "cell_type": "code",
   "execution_count": 27,
   "metadata": {},
   "outputs": [
    {
     "name": "stdout",
     "output_type": "stream",
     "text": [
      "NH3_pc\t-1.3312324149353445\n",
      "AMMONIUM_p <=> AMMONIUM_c\n",
      "ASNSYNA_RXN_c\t-0.0014499411928911331\n",
      "AMMONIUM_c + 0.65 ATP_c + L_ASPARTATE_c + 0.35 aATP_c --> AMP_c + ASN_c + 0.65 PPI_c + PROTON_c + 0.35 aPPI_c\n",
      "NH4_ec\t1.3326823561282355\n",
      "AMMONIUM_e --> AMMONIUM_c\n"
     ]
    }
   ],
   "source": [
    "met = temp.metabolites.get_by_id(\"AMMONIUM_c\")\n",
    "for rxn in met.reactions:\n",
    "    if round(sol.fluxes[rxn.id],5)!=0:\n",
    "        print(rxn.id+\"\\t\"+str(sol.fluxes[rxn.id]*rxn.metabolites[met]))\n",
    "        print(rxn.reaction)"
   ]
  },
  {
   "cell_type": "code",
   "execution_count": 28,
   "metadata": {},
   "outputs": [
    {
     "data": {
      "text/plain": [
       "-0.4556764468878092"
      ]
     },
     "execution_count": 28,
     "metadata": {},
     "output_type": "execute_result"
    }
   ],
   "source": [
    "-0.2185699629206924-0.15897272150244515-0.07813376246467162"
   ]
  },
  {
   "cell_type": "code",
   "execution_count": 29,
   "metadata": {},
   "outputs": [
    {
     "name": "stdout",
     "output_type": "stream",
     "text": [
      "Mitochondrial_ATP_Synthase_m\t11.985627182856742\n",
      "2.4 ADP_m + 10.0 PROTON_i + 3.0 Pi_m + 0.6 aADP_m --> 2.7 ATP_m + 7.3 PROTON_m + 3.0 WATER_m + 0.3 aATP_m\n",
      "ATP_ADP_mc\t-10.946584481639768\n",
      "0.5 ADP_c + 0.9 ATP_m + 0.1 PROTON_m + 0.5 aADP_c + 0.1 aATP_m <=> 0.8 ADP_m + 0.65 ATP_c + 0.15 PROTON_c + 0.2 aADP_m + 0.35 aATP_c\n",
      "ADENYL_KIN_RXN_m\t-0.8371863691481419\n",
      "AMP_m + 0.9 ATP_m + 0.3 PROTON_m + 0.1 aATP_m <=> 1.6 ADP_m + 0.4 aADP_m\n",
      "ATP_AMP_mc\t-0.8371863691481419\n",
      "AMP_c + 0.9 ATP_m + 0.35 PROTON_c + 0.1 aATP_m <=> AMP_m + 0.65 ATP_c + 0.1 PROTON_m + 0.35 aATP_c\n",
      "SUCCCOASYN_RXN_m\t0.6353300370793076\n",
      "0.8 ADP_m + Pi_m + SUC_COA_m + 0.2 aADP_m --> 0.9 ATP_m + CO_A_m + 0.1 PROTON_m + SUC_m + 0.1 aATP_m\n"
     ]
    }
   ],
   "source": [
    "met1 = temp.metabolites.get_by_id(\"ATP_m\")\n",
    "met2 = temp.metabolites.get_by_id(\"aATP_m\")\n",
    "for rxn in met1.reactions:\n",
    "    if round(sol.fluxes[rxn.id],5)!=0:\n",
    "        print(rxn.id+\"\\t\"+str(sol.fluxes[rxn.id]*(rxn.metabolites[met1]+rxn.metabolites[met2])))\n",
    "        print(rxn.reaction)"
   ]
  },
  {
   "cell_type": "code",
   "execution_count": 30,
   "metadata": {},
   "outputs": [],
   "source": [
    "fout = open(\"TC_FBAfluxes_GROWINGFig5D.csv\",\"w\")\n",
    "for rxn in temp.reactions:\n",
    "    fout.write(rxn.id+\"\\t\"+rxn.reaction+\"\\t\"+str(rxn.flux)+\"\\n\")\n",
    "fout.close()"
   ]
  },
  {
   "cell_type": "code",
   "execution_count": null,
   "metadata": {},
   "outputs": [],
   "source": []
  }
 ],
 "metadata": {
  "kernelspec": {
   "display_name": "Python 3",
   "language": "python",
   "name": "python3"
  },
  "language_info": {
   "codemirror_mode": {
    "name": "ipython",
    "version": 3
   },
   "file_extension": ".py",
   "mimetype": "text/x-python",
   "name": "python",
   "nbconvert_exporter": "python",
   "pygments_lexer": "ipython3",
   "version": "3.8.3"
  }
 },
 "nbformat": 4,
 "nbformat_minor": 4
}
