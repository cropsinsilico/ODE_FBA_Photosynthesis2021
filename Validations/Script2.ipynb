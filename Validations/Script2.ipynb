{
 "cells": [
  {
   "cell_type": "markdown",
   "metadata": {},
   "source": [
    "# Script 1 : Generate Figure 2B"
   ]
  },
  {
   "cell_type": "markdown",
   "metadata": {},
   "source": [
    "### Organize e-photosynthesis (ODE) model assimilation rate"
   ]
  },
  {
   "cell_type": "code",
   "execution_count": 11,
   "metadata": {},
   "outputs": [],
   "source": [
    "import glob\n",
    "\n",
    "ODE_Vc_dict=dict()\n",
    "ODE_Vo_dict=dict()\n",
    "for fname in glob.glob(\"ODEonly_fluxes_Fig2B*\"):\n",
    "    fin = open(fname)\n",
    "    for line in fin:\n",
    "        if \"vc\" in line:\n",
    "            ODE_Vc_dict[int(fname.split(\"_\")[3].split(\".\")[0])]=float(line.replace(\" \",\"\").split(\"vc\")[1])\n",
    "        if \"vo\" in line:\n",
    "            ODE_Vo_dict[int(fname.split(\"_\")[3].split(\".\")[0])]=float(line.replace(\" \",\"\").split(\"vo\")[1])\n",
    "\n",
    "\n",
    "ODE_A_dict=dict()\n",
    "for k in ODE_Vc_dict.keys():\n",
    "    ODE_A_dict[k] = ODE_Vc_dict[k] - (0.5*ODE_Vo_dict[k])"
   ]
  },
  {
   "cell_type": "markdown",
   "metadata": {},
   "source": [
    "### Organize lightly-coupled (LC) model assimilation rate"
   ]
  },
  {
   "cell_type": "code",
   "execution_count": 2,
   "metadata": {},
   "outputs": [],
   "source": [
    "import glob\n",
    "\n",
    "\n",
    "LC_FBA_A_dict=dict()\n",
    "for fname in glob.glob(\"LC_FBAfluxes_Fig2B*\"):\n",
    "    fin = open(fname)\n",
    "    for line in fin:\n",
    "        if \"CO2_tx1\" in line:\n",
    "            LC_FBA_A_dict[int(fname.split(\"_\")[3].split(\".\")[0])] = float(line.split(\",\")[2])"
   ]
  },
  {
   "cell_type": "markdown",
   "metadata": {},
   "source": [
    "### Organize tightly-coupled (TC) model assimilation rate"
   ]
  },
  {
   "cell_type": "code",
   "execution_count": 3,
   "metadata": {},
   "outputs": [],
   "source": [
    "import glob\n",
    "\n",
    "TC_ODE_A_dict=dict()\n",
    "for fname in glob.glob(\"TC_ODEfluxes_Fig2B*\"):\n",
    "    fin = open(fname)\n",
    "    for line in fin:\n",
    "        if \"vc\" in line:\n",
    "            TC_ODE_A_dict[int(fname.split(\"_\")[3].split(\".\")[0])]=float(line.replace(\" \",\"\").split(\"vc\")[1])\n",
    "\n",
    "\n",
    "TC_FBA_A_dict=dict()\n",
    "for fname in glob.glob(\"TC_FBAfluxes_Fig2B*\"):\n",
    "    fin = open(fname)\n",
    "    for line in fin:\n",
    "        if \"CO2_tx\" in line:\n",
    "            TC_FBA_A_dict[int(fname.split(\"_\")[3].split(\".\")[0])] = float(line.split(\",\")[2])\n",
    "\n",
    "\n",
    "TC_A_dict=dict()\n",
    "for k in TC_ODE_A_dict.keys():\n",
    "    TC_A_dict[k] = TC_ODE_A_dict[k] + TC_FBA_A_dict[k]"
   ]
  },
  {
   "cell_type": "markdown",
   "metadata": {},
   "source": [
    "### Data from litterature"
   ]
  },
  {
   "cell_type": "markdown",
   "metadata": {},
   "source": [
    "Zhang et al 2011 data"
   ]
  },
  {
   "cell_type": "code",
   "execution_count": 4,
   "metadata": {},
   "outputs": [],
   "source": [
    "Zhang = dict()\n",
    "Zhang[0]=6.7\n",
    "Zhang[100]=-0.76\n",
    "Zhang[200]=3.1\n",
    "Zhang[300]=6.2\n",
    "Zhang[500]=11.7\n",
    "Zhang[800]=16.4\n",
    "Zhang[1200]=20.5\n",
    "Zhang[1500]=21.8\n",
    "Zhang[1800]=23.2\n",
    "Zhang[2000]=23.5"
   ]
  },
  {
   "cell_type": "markdown",
   "metadata": {},
   "source": [
    "Yao et al data"
   ]
  },
  {
   "cell_type": "code",
   "execution_count": 5,
   "metadata": {},
   "outputs": [],
   "source": [
    "Yao = dict()\n",
    "Yao[20]=-2.7\n",
    "Yao[45]=-0.7\n",
    "Yao[80]=1\n",
    "Yao[100]=2\n",
    "Yao[200]=6.2\n",
    "Yao[400]=12.8\n",
    "Yao[600]=17.3\n",
    "Yao[800]=20.1\n",
    "Yao[1000]=22.1\n",
    "Yao[1200]=23.6\n",
    "Yao[1500]=25.1\n",
    "\n"
   ]
  },
  {
   "cell_type": "markdown",
   "metadata": {},
   "source": [
    "Haile et al data"
   ]
  },
  {
   "cell_type": "code",
   "execution_count": 6,
   "metadata": {},
   "outputs": [],
   "source": [
    "Haile = dict()\n",
    "Haile[10]=-0.1\n",
    "Haile[50]=2\n",
    "Haile[100]=4\n",
    "Haile[200]=8.9\n",
    "Haile[500]=16.7\n",
    "Haile[1000]=23.5\n",
    "Haile[1300]=25\n",
    "Haile[1600]=26.7\n",
    "Haile[10]=-3.8\n",
    "Haile[50]=-0.9\n",
    "Haile[100]=2\n",
    "Haile[200]=6.9\n",
    "Haile[500]=15.7\n",
    "Haile[1000]=21.3\n",
    "Haile[1300]=23.9\n",
    "Haile[1600]=23.8\n",
    "\n",
    "\n"
   ]
  },
  {
   "cell_type": "code",
   "execution_count": 14,
   "metadata": {},
   "outputs": [
    {
     "data": {
      "image/png": "[encoded data removed]",
      "text/plain": [
       "<Figure size 360x288 with 1 Axes>"
      ]
     },
     "metadata": {
      "needs_background": "light"
     },
     "output_type": "display_data"
    }
   ],
   "source": [
    "import matplotlib.pyplot as plt\n",
    "plt.figure(figsize=(5,4))\n",
    "\n",
    "# Clist1 = list()\n",
    "# Alist1 = list()\n",
    "# for k in sorted(TC_A_dict.keys()):\n",
    "#     Clist1.append(k*0.70)\n",
    "#     Alist1.append(TC_A_dict[k])\n",
    "# plt.plot(Clist1,Alist1,label=\"TC\",color=\"blue\")\n",
    "\n",
    "Clist2 = list()\n",
    "Alist2 = list()\n",
    "for k in sorted(ODE_A_dict.keys()):\n",
    "    Clist2.append(k)\n",
    "    Alist2.append(ODE_A_dict[k])\n",
    "plt.plot(Clist2,Alist2,label=\"ODE only\",color=\"red\")\n",
    "\n",
    "# Clist3 = list()\n",
    "# Alist3 = list()\n",
    "# for k in sorted(LC_FBA_A_dict.keys()):\n",
    "#     Clist3.append(k*0.70)\n",
    "#     Alist3.append(LC_FBA_A_dict[k])\n",
    "# plt.plot(Clist3,Alist3,label=\"LC\",color=\"green\")\n",
    "\n",
    "# Clist4 = list()\n",
    "# Alist4 = list()\n",
    "# for k in sorted(ODE_A_dict.keys()):\n",
    "#     Clist4.append(k*0.70)\n",
    "#     Alist4.append(85.33896)\n",
    "# plt.plot(Clist4,Alist4,label=\"FBA\",color=\"black\")\n",
    "\n",
    "ClistD1 = list()\n",
    "AlistD1 = list()\n",
    "for k in sorted(Zhang.keys()):\n",
    "    ClistD1.append(k)\n",
    "    AlistD1.append(Zhang[k])\n",
    "plt.scatter(ClistD1,AlistD1,label=\"Zhang et al 2011\",marker='s',edgecolor=\"grey\",facecolor=\"white\")\n",
    "\n",
    "ClistD2 = list()\n",
    "AlistD2 = list()\n",
    "for k in sorted(Yao.keys()):\n",
    "    ClistD2.append(k)\n",
    "    AlistD2.append(Yao[k])\n",
    "plt.scatter(ClistD2,AlistD2,label=\"Yao et al\",marker='o',edgecolor=\"grey\",facecolor=\"white\")\n",
    "\n",
    "ClistD3 = list()\n",
    "AlistD3 = list()\n",
    "for k in sorted(Haile.keys()):\n",
    "    ClistD3.append(k)\n",
    "    AlistD3.append(Haile[k])\n",
    "plt.scatter(ClistD3,AlistD3,label=\"Haile et al\",marker='^',edgecolor=\"grey\",facecolor=\"white\")\n",
    "\n",
    "plt.xlim(0,2000)\n",
    "plt.ylim(-10,120)\n",
    "\n",
    "plt.legend()\n",
    "plt.show()"
   ]
  },
  {
   "cell_type": "code",
   "execution_count": 13,
   "metadata": {},
   "outputs": [
    {
     "data": {
      "text/plain": [
       "{100: 4.3600515,\n",
       " 1000: 23.041718000000003,\n",
       " 1200: 23.105883,\n",
       " 1500: 23.184809,\n",
       " 200: 8.489664,\n",
       " 2000: 23.2904525,\n",
       " 300: 12.373588,\n",
       " 400: 15.988204000000001,\n",
       " 50: 2.22492295,\n",
       " 500: 19.168940999999997,\n",
       " 600: 21.4630005,\n",
       " 800: 22.912383000000002}"
      ]
     },
     "execution_count": 13,
     "metadata": {},
     "output_type": "execute_result"
    }
   ],
   "source": [
    "ODE_A_dict"
   ]
  },
  {
   "cell_type": "code",
   "execution_count": null,
   "metadata": {},
   "outputs": [],
   "source": []
  }
 ],
 "metadata": {
  "kernelspec": {
   "display_name": "Python 3",
   "language": "python",
   "name": "python3"
  },
  "language_info": {
   "codemirror_mode": {
    "name": "ipython",
    "version": 3
   },
   "file_extension": ".py",
   "mimetype": "text/x-python",
   "name": "python",
   "nbconvert_exporter": "python",
   "pygments_lexer": "ipython3",
   "version": "3.8.3"
  }
 },
 "nbformat": 4,
 "nbformat_minor": 4
}
