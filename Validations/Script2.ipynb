{
 "cells": [
  {
   "cell_type": "markdown",
   "metadata": {},
   "source": [
    "# Script 1 : Generate Figure 2B"
   ]
  },
  {
   "cell_type": "markdown",
   "metadata": {},
   "source": [
    "### Organize e-photosynthesis (ODE) model assimilation rate"
   ]
  },
  {
   "cell_type": "code",
   "execution_count": 1,
   "metadata": {},
   "outputs": [],
   "source": [
    "import glob\n",
    "\n",
    "ODE_Vc_dict=dict()\n",
    "ODE_Vo_dict=dict()\n",
    "for fname in glob.glob(\"LC_ODEfluxes_Fig2B*\"):\n",
    "    fin = open(fname)\n",
    "    for line in fin:\n",
    "        if \"vc\" in line:\n",
    "            ODE_Vc_dict[int(fname.split(\"_\")[3].split(\".\")[0])]=float(line.replace(\" \",\"\").split(\"vc\")[1])\n",
    "        if \"vo\" in line:\n",
    "            ODE_Vo_dict[int(fname.split(\"_\")[3].split(\".\")[0])]=float(line.replace(\" \",\"\").split(\"vo\")[1])\n",
    "\n",
    "\n",
    "ODE_A_dict=dict()\n",
    "for k in ODE_Vc_dict.keys():\n",
    "    ODE_A_dict[k] = ODE_Vc_dict[k] - (0.5*ODE_Vo_dict[k])"
   ]
  },
  {
   "cell_type": "markdown",
   "metadata": {},
   "source": [
    "### Organize FBA model assimilation rate"
   ]
  },
  {
   "cell_type": "code",
   "execution_count": 2,
   "metadata": {},
   "outputs": [],
   "source": [
    "import glob\n",
    "\n",
    "FBA_A_dict=dict()\n",
    "for fname in glob.glob(\"FBAfluxes_Fig2B*\"):\n",
    "    fin = open(fname)\n",
    "    for line in fin:\n",
    "        if \"CO2_tx1\" in line:\n",
    "            FBA_A_dict[int(fname.split(\"_\")[2].split(\".\")[0])] = float(line.split(\",\")[2])\n"
   ]
  },
  {
   "cell_type": "markdown",
   "metadata": {},
   "source": [
    "### Organize lightly-coupled (LC) model assimilation rate"
   ]
  },
  {
   "cell_type": "code",
   "execution_count": 3,
   "metadata": {},
   "outputs": [],
   "source": [
    "import glob\n",
    "\n",
    "\n",
    "LC_FBA_A_dict=dict()\n",
    "for fname in glob.glob(\"LC_FBAfluxes_Fig2B*\"):\n",
    "    fin = open(fname)\n",
    "    for line in fin:\n",
    "        if \"CO2_tx1\" in line:\n",
    "            LC_FBA_A_dict[int(fname.split(\"_\")[3].split(\".\")[0])] = float(line.split(\",\")[2])"
   ]
  },
  {
   "cell_type": "markdown",
   "metadata": {},
   "source": [
    "### Organize tightly-coupled (TC) model assimilation rate"
   ]
  },
  {
   "cell_type": "code",
   "execution_count": 4,
   "metadata": {},
   "outputs": [],
   "source": [
    "import glob\n",
    "\n",
    "TC_ODE_A_dict=dict()\n",
    "for fname in glob.glob(\"TC_ODEfluxes_Fig2B*\"):\n",
    "    fin = open(fname)\n",
    "    for line in fin:\n",
    "        if \"vc\" in line:\n",
    "            TC_ODE_A_dict[int(fname.split(\"_\")[3].split(\".\")[0])]=float(line.replace(\" \",\"\").split(\"vc\")[1])\n",
    "\n",
    "\n",
    "TC_FBA_A_dict=dict()\n",
    "for fname in glob.glob(\"TC_FBAfluxes_Fig2B*\"):\n",
    "    fin = open(fname)\n",
    "    for line in fin:\n",
    "        if \"CO2_tx\" in line:\n",
    "            TC_FBA_A_dict[int(fname.split(\"_\")[3].split(\".\")[0])] = float(line.split(\",\")[2])\n",
    "\n",
    "\n",
    "TC_A_dict=dict()\n",
    "for k in TC_ODE_A_dict.keys():\n",
    "    TC_A_dict[k] = TC_ODE_A_dict[k] + TC_FBA_A_dict[k]"
   ]
  },
  {
   "cell_type": "markdown",
   "metadata": {},
   "source": [
    "### Data from litterature"
   ]
  },
  {
   "cell_type": "markdown",
   "metadata": {},
   "source": [
    "Zhang et al 2011 data"
   ]
  },
  {
   "cell_type": "code",
   "execution_count": 5,
   "metadata": {},
   "outputs": [],
   "source": [
    "Zhang = dict()\n",
    "Zhang[0]=6.7\n",
    "Zhang[100]=-0.76\n",
    "Zhang[200]=3.1\n",
    "Zhang[300]=6.2\n",
    "Zhang[500]=11.7\n",
    "Zhang[800]=16.4\n",
    "Zhang[1200]=20.5\n",
    "Zhang[1500]=21.8\n",
    "Zhang[1800]=23.2\n",
    "Zhang[2000]=23.5"
   ]
  },
  {
   "cell_type": "markdown",
   "metadata": {},
   "source": [
    "Yao et al data"
   ]
  },
  {
   "cell_type": "code",
   "execution_count": 6,
   "metadata": {},
   "outputs": [],
   "source": [
    "Yao = dict()\n",
    "Yao[20]=-2.7\n",
    "Yao[45]=-0.7\n",
    "Yao[80]=1\n",
    "Yao[100]=2\n",
    "Yao[200]=6.2\n",
    "Yao[400]=12.8\n",
    "Yao[600]=17.3\n",
    "Yao[800]=20.1\n",
    "Yao[1000]=22.1\n",
    "Yao[1200]=23.6\n",
    "Yao[1500]=25.1\n",
    "\n"
   ]
  },
  {
   "cell_type": "markdown",
   "metadata": {},
   "source": [
    "Haile et al data"
   ]
  },
  {
   "cell_type": "code",
   "execution_count": 7,
   "metadata": {},
   "outputs": [],
   "source": [
    "Haile = dict()\n",
    "Haile[10]=-0.1\n",
    "Haile[50]=2\n",
    "Haile[100]=4\n",
    "Haile[200]=8.9\n",
    "Haile[500]=16.7\n",
    "Haile[1000]=23.5\n",
    "Haile[1300]=25\n",
    "Haile[1600]=26.7\n",
    "Haile[10]=-3.8\n",
    "Haile[50]=-0.9\n",
    "Haile[100]=2\n",
    "Haile[200]=6.9\n",
    "Haile[500]=15.7\n",
    "Haile[1000]=21.3\n",
    "Haile[1300]=23.9\n",
    "Haile[1600]=23.8\n",
    "\n",
    "\n"
   ]
  },
  {
   "cell_type": "code",
   "execution_count": 8,
   "metadata": {},
   "outputs": [
    {
     "data": {
      "text/plain": [
       "<matplotlib.legend.Legend at 0x21a5e778280>"
      ]
     },
     "execution_count": 8,
     "metadata": {},
     "output_type": "execute_result"
    },
    {
     "data": {
      "image/png": "[encoded data removed]",
      "text/plain": [
       "<Figure size 360x288 with 1 Axes>"
      ]
     },
     "metadata": {
      "needs_background": "light"
     },
     "output_type": "display_data"
    }
   ],
   "source": [
    "import matplotlib.pyplot as plt\n",
    "plt.figure(figsize=(5,4))\n",
    "plt.rcParams.update({'font.size': 12})\n",
    "\n",
    "Clist1 = list()\n",
    "Alist1 = list()\n",
    "for k in sorted(TC_A_dict.keys()):\n",
    "    Clist1.append(k)\n",
    "    Alist1.append(TC_A_dict[k])\n",
    "plt.plot(Clist1,Alist1,label=\"TC\",linestyle=\":\",color=\"blue\")\n",
    "\n",
    "Clist2 = list()\n",
    "Alist2 = list()\n",
    "for k in sorted(ODE_A_dict.keys()):\n",
    "    Clist2.append(k)\n",
    "    Alist2.append(ODE_A_dict[k])\n",
    "plt.plot(Clist2,Alist2,label=\"ODE only\",linestyle=\"--\",color=\"gold\")\n",
    "\n",
    "Clist3 = list()\n",
    "Alist3 = list()\n",
    "for k in sorted(LC_FBA_A_dict.keys()):\n",
    "    Clist3.append(k)\n",
    "    Alist3.append(LC_FBA_A_dict[k])\n",
    "plt.plot(Clist3,Alist3,label=\"LC\",linestyle=\"-.\",color=\"green\")\n",
    "\n",
    "Clist4 = list()\n",
    "Alist4 = list()\n",
    "for k in sorted(FBA_A_dict.keys()):\n",
    "    Clist4.append(k)\n",
    "    Alist4.append(FBA_A_dict[k])\n",
    "plt.plot(Clist4,Alist4,label=\"FBA\",color=\"black\")\n",
    "\n",
    "ClistD1 = list()\n",
    "AlistD1 = list()\n",
    "for k in sorted(Zhang.keys()):\n",
    "    ClistD1.append(k)\n",
    "    AlistD1.append(Zhang[k])\n",
    "plt.scatter(ClistD1,AlistD1,label=\"Zhang et al 2011\",marker='s',edgecolor=\"grey\",facecolor=\"white\")\n",
    "\n",
    "ClistD2 = list()\n",
    "AlistD2 = list()\n",
    "for k in sorted(Yao.keys()):\n",
    "    ClistD2.append(k)\n",
    "    AlistD2.append(Yao[k])\n",
    "plt.scatter(ClistD2,AlistD2,label=\"Yao et al 2017\",marker='o',edgecolor=\"grey\",facecolor=\"white\")\n",
    "\n",
    "ClistD3 = list()\n",
    "AlistD3 = list()\n",
    "for k in sorted(Haile.keys()):\n",
    "    ClistD3.append(k)\n",
    "    AlistD3.append(Haile[k])\n",
    "plt.scatter(ClistD3,AlistD3,label=\"Haile et al 2003\",marker='^',edgecolor=\"grey\",facecolor=\"white\")\n",
    "\n",
    "plt.xlim(0,2000)\n",
    "plt.ylim(-10,120)\n",
    "plt.xlabel(r'$\\mathrm{PAR\\/(\\mu mol\\/m^{-2}\\/s^{-1})}$')\n",
    "plt.ylabel(r'$A\\/\\mathrm{(\\mu mol\\/m^{-2}\\/s^{-1})}$')\n",
    "\n",
    "plt.legend()\n",
    "#plt.show()\n",
    "#plt.savefig(\"Fig3B_14Jun.svg\",format=\"svg\")"
   ]
  },
  {
   "cell_type": "code",
   "execution_count": 9,
   "metadata": {},
   "outputs": [
    {
     "data": {
      "text/plain": [
       "[50, 100, 200, 300, 400, 500, 600, 800, 1000, 1200, 1500, 2000]"
      ]
     },
     "execution_count": 9,
     "metadata": {},
     "output_type": "execute_result"
    }
   ],
   "source": [
    "Clist3"
   ]
  },
  {
   "cell_type": "code",
   "execution_count": 10,
   "metadata": {},
   "outputs": [
    {
     "data": {
      "text/plain": [
       "[1.751485073467314,\n",
       " 3.673246274067841,\n",
       " 7.4365469669165,\n",
       " 10.855780207086202,\n",
       " 14.06243617106176,\n",
       " 16.80473104791913,\n",
       " 17.806797048504567,\n",
       " 20.062569231246137,\n",
       " 19.29220278899903,\n",
       " 19.226249066575583,\n",
       " 19.708134583927777,\n",
       " 19.086183408718203]"
      ]
     },
     "execution_count": 10,
     "metadata": {},
     "output_type": "execute_result"
    }
   ],
   "source": [
    "Alist3"
   ]
  },
  {
   "cell_type": "code",
   "execution_count": 11,
   "metadata": {},
   "outputs": [
    {
     "data": {
      "text/plain": [
       "[1.2753114167922441,\n",
       " 3.227286087362387,\n",
       " 7.00014232063342,\n",
       " 10.579783403654822,\n",
       " 13.873448621621222,\n",
       " 16.81992174622064,\n",
       " 18.939614748987985,\n",
       " 20.330682896270787,\n",
       " 20.176612258709785,\n",
       " 19.945700607567403,\n",
       " 19.57874976619251,\n",
       " 18.933153762030173]"
      ]
     },
     "execution_count": 11,
     "metadata": {},
     "output_type": "execute_result"
    }
   ],
   "source": [
    "Alist1"
   ]
  },
  {
   "cell_type": "code",
   "execution_count": null,
   "metadata": {},
   "outputs": [],
   "source": []
  },
  {
   "cell_type": "code",
   "execution_count": 14,
   "metadata": {},
   "outputs": [
    {
     "data": {
      "image/png": "[encoded data removed]",
      "text/plain": [
       "<Figure size 360x288 with 1 Axes>"
      ]
     },
     "metadata": {
      "needs_background": "light"
     },
     "output_type": "display_data"
    }
   ],
   "source": [
    "import matplotlib.pyplot as plt\n",
    "plt.figure(figsize=(5,4))\n",
    "plt.rcParams.update({'font.size': 12})\n",
    "\n",
    "Clist1 = list()\n",
    "Alist1 = list()\n",
    "for k in sorted(TC_A_dict.keys()):\n",
    "    Clist1.append(k)\n",
    "    Alist1.append(TC_A_dict[k])\n",
    "#plt.plot(Clist1,Alist1,label=\"TC\",linestyle=\":\",color=\"blue\")\n",
    "\n",
    "Clist2 = list()\n",
    "Alist2 = list()\n",
    "for k in sorted(ODE_A_dict.keys()):\n",
    "    Clist2.append(k)\n",
    "    Alist2.append(ODE_A_dict[k])\n",
    "#plt.plot(Clist2,Alist2,label=\"ODE only\",linestyle=\"--\",color=\"gold\")\n",
    "\n",
    "Clist3 = list()\n",
    "Alist3 = list()\n",
    "for k in sorted(LC_FBA_A_dict.keys()):\n",
    "    Clist3.append(k)\n",
    "    Alist3.append(LC_FBA_A_dict[k])\n",
    "#plt.plot(Clist3,Alist3,label=\"LC\",linestyle=\"-.\",color=\"green\")\n",
    "\n",
    "Clist4 = list()\n",
    "Alist4 = list()\n",
    "for k in sorted(FBA_A_dict.keys()):\n",
    "    Clist4.append(k)\n",
    "    Alist4.append(FBA_A_dict[k])\n",
    "#plt.plot(Clist4,Alist4,label=\"FBA\",color=\"black\")\n",
    "\n",
    "ClistD1 = list()\n",
    "AlistD1 = list()\n",
    "for k in sorted(Zhang.keys()):\n",
    "    ClistD1.append(k)\n",
    "    AlistD1.append(Zhang[k])\n",
    "plt.scatter(ClistD1,AlistD1,label=\"Zhang et al 2011\",marker='s',edgecolor=\"grey\",facecolor=\"white\")\n",
    "\n",
    "ClistD2 = list()\n",
    "AlistD2 = list()\n",
    "for k in sorted(Yao.keys()):\n",
    "    ClistD2.append(k)\n",
    "    AlistD2.append(Yao[k])\n",
    "plt.scatter(ClistD2,AlistD2,label=\"Yao et al 2017\",marker='o',edgecolor=\"grey\",facecolor=\"white\")\n",
    "\n",
    "ClistD3 = list()\n",
    "AlistD3 = list()\n",
    "for k in sorted(Haile.keys()):\n",
    "    ClistD3.append(k)\n",
    "    AlistD3.append(Haile[k])\n",
    "plt.scatter(ClistD3,AlistD3,label=\"Haile et al 2003\",marker='^',edgecolor=\"grey\",facecolor=\"white\")\n",
    "\n",
    "plt.xlim(0,2000)\n",
    "#plt.ylim(-10,120)\n",
    "plt.xlabel(r'$\\mathrm{PAR\\/(\\mu mol\\/m^{-2}\\/s^{-1})}$')\n",
    "plt.ylabel(r'$A\\/\\mathrm{(\\mu mol\\/m^{-2}\\/s^{-1})}$')\n",
    "\n",
    "plt.legend()\n",
    "plt.show()\n",
    "#plt.savefig(\"Fig3B_14Jun.svg\",format=\"svg\")"
   ]
  },
  {
   "cell_type": "markdown",
   "metadata": {},
   "source": [
    "## "
   ]
  }
 ],
 "metadata": {
  "kernelspec": {
   "display_name": "Python 3",
   "language": "python",
   "name": "python3"
  },
  "language_info": {
   "codemirror_mode": {
    "name": "ipython",
    "version": 3
   },
   "file_extension": ".py",
   "mimetype": "text/x-python",
   "name": "python",
   "nbconvert_exporter": "python",
   "pygments_lexer": "ipython3",
   "version": "3.8.3"
  }
 },
 "nbformat": 4,
 "nbformat_minor": 4
}
