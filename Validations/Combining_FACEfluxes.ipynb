{
 "cells": [
  {
   "cell_type": "code",
   "execution_count": 1,
   "metadata": {},
   "outputs": [],
   "source": [
    "Day_list = [164, 176, 191, 205, 215, 233]\n",
    "Day_dict = {164:list(range(1,16)),\n",
    "            176:list(range(1,15)),\n",
    "            191:list(range(1,16)),\n",
    "            205:list(range(1,14)),\n",
    "            215:list(range(1,14)),\n",
    "            233:list(range(1,13)),\n",
    "            254:list(range(1,14))}\n",
    "CO2_list = [372,552]"
   ]
  },
  {
   "cell_type": "code",
   "execution_count": 2,
   "metadata": {},
   "outputs": [
    {
     "name": "stderr",
     "output_type": "stream",
     "text": [
      "C:\\ProgramData\\Anaconda3\\lib\\site-packages\\pandas\\compat\\_optional.py:106: UserWarning: Pandas requires version '1.2.1' or newer of 'bottleneck' (version '0+unknown' currently installed).\n",
      "  warnings.warn(msg, UserWarning)\n"
     ]
    }
   ],
   "source": [
    "import pandas as pd\n",
    "\n",
    "Day = Day_list[0]\n",
    "CO2 = CO2_list[0]\n",
    "Hour = Day_dict[Day][0]\n",
    "\n",
    "for Day in Day_list:\n",
    "    for CO2 in CO2_list:\n",
    "        for Hour in Day_dict[Day]:\n",
    "            fin = \"./../../ODE_FBA_Photosynthesis2021/Validations/ODE_only_OutputFluxT_FACE\"+str(Day)+\"_\"+str(CO2)+\"_\"+str(Hour)+\".csv\"\n",
    "            df = pd.read_csv(fin,header=None)\n",
    "            valueList = list()\n",
    "            keyList = list()\n",
    "\n",
    "            for i in range(0,len(df)):\n",
    "                keyList.append(df[0].str.split()[i][0])\n",
    "                valueList.append(float(df[0].str.split()[i][1]))\n",
    "            if Hour == 1:\n",
    "                df2 = pd.DataFrame()\n",
    "                df2[\"Reaction\"]=keyList\n",
    "                df2[\"Hour 1\"]=valueList\n",
    "            else:\n",
    "                df2[\"Hour \"+str(Hour)]=valueList\n",
    "        df2.to_csv(\"./../../ODE_FBA_Photosynthesis2021/Validations/Combined_ODE_only_OutputFluxT_FACE\"+str(Day)+\"_\"+str(CO2)+\"_28Jun21.csv\")\n",
    "\n"
   ]
  },
  {
   "cell_type": "code",
   "execution_count": 3,
   "metadata": {},
   "outputs": [],
   "source": [
    "import pandas as pd\n",
    "\n",
    "Day = Day_list[0]\n",
    "CO2 = CO2_list[0]\n",
    "Hour = Day_dict[Day][0]\n",
    "\n",
    "for Day in Day_list:\n",
    "    for CO2 in CO2_list:\n",
    "        #Day = 233\n",
    "        #CO2 = 372\n",
    "        for Hour in Day_dict[Day]:\n",
    "            fin = \"./../../ODE_FBA_Photosynthesis2021/Validations/Diel_flux_FACE\"+str(Day)+\"_\"+str(CO2)+\"_\"+str(Hour)+\".csv\"\n",
    "            df = pd.read_csv(fin,header=None)\n",
    "            \n",
    "            if Hour == 1:\n",
    "                df2 = pd.DataFrame()\n",
    "                df2[\"Reaction ID\"]=df[0]\n",
    "                df2[\"Reaction\"]=df[1]\n",
    "                df2[\"Hour 1\"]=df[2]\n",
    "            else:\n",
    "                templist = list()\n",
    "                for rxn in df2[\"Reaction ID\"]:\n",
    "                    templist.append(float(df[df[0]==rxn][2]))\n",
    "                df2[\"Hour \"+str(Hour)]=templist\n",
    "        df2.to_csv(\"./../../ODE_FBA_Photosynthesis2021/Validations/Combined_Diel_flux_flux_FACE\"+str(Day)+\"_\"+str(CO2)+\"_28Jun21.csv\")\n",
    "\n"
   ]
  },
  {
   "cell_type": "code",
   "execution_count": 4,
   "metadata": {},
   "outputs": [],
   "source": [
    "import pandas as pd\n",
    "\n",
    "Day = Day_list[0]\n",
    "CO2 = CO2_list[0]\n",
    "Hour = Day_dict[Day][0]\n",
    "\n",
    "for Day in Day_list:\n",
    "    for CO2 in CO2_list:\n",
    "        for Hour in Day_dict[Day]:\n",
    "            fin = \"./../../ODE_FBA_Photosynthesis2021/Validations/OutputFluxT_FACE\"+str(Day)+\"_\"+str(CO2)+\"_\"+str(Hour)+\".csv\"\n",
    "            df = pd.read_csv(fin,header=None)\n",
    "            valueList = list()\n",
    "            keyList = list()\n",
    "\n",
    "            for i in range(0,len(df)):\n",
    "                keyList.append(df[0].str.split()[i][0])\n",
    "                valueList.append(float(df[0].str.split()[i][1]))\n",
    "            if Hour == 1:\n",
    "                df2 = pd.DataFrame()\n",
    "                df2[\"Reaction\"]=keyList\n",
    "                df2[\"Hour 1\"]=valueList\n",
    "            else:\n",
    "                df2[\"Hour \"+str(Hour)]=valueList\n",
    "        df2.to_csv(\"./../../ODE_FBA_Photosynthesis2021/Validations/Combined_TC_ODE_FACE\"+str(Day)+\"_\"+str(CO2)+\"_28Jun21.csv\")\n",
    "\n"
   ]
  },
  {
   "cell_type": "code",
   "execution_count": 5,
   "metadata": {},
   "outputs": [],
   "source": [
    "import pandas as pd\n",
    "\n",
    "Day = Day_list[0]\n",
    "CO2 = CO2_list[0]\n",
    "Hour = Day_dict[Day][0]\n",
    "\n",
    "for Day in Day_list:\n",
    "    for CO2 in CO2_list:\n",
    "        #Day = 233\n",
    "        #CO2 = 372\n",
    "        for Hour in Day_dict[Day]:\n",
    "            fin = \"./../../ODE_FBA_Photosynthesis2021/Validations/Daytime_flux_FACE\"+str(Day)+\"_\"+str(CO2)+\"_\"+str(Hour)+\".csv\"\n",
    "            df = pd.read_csv(fin,header=None)\n",
    "            \n",
    "            if Hour == 1:\n",
    "                df2 = pd.DataFrame()\n",
    "                df2[\"Reaction ID\"]=df[0]\n",
    "                df2[\"Reaction\"]=df[1]\n",
    "                df2[\"Hour 1\"]=df[2]\n",
    "            else:\n",
    "                templist = list()\n",
    "                for rxn in df2[\"Reaction ID\"]:\n",
    "                    templist.append(float(df[df[0]==rxn][2]))\n",
    "                df2[\"Hour \"+str(Hour)]=templist\n",
    "        df2.to_csv(\"./../../ODE_FBA_Photosynthesis2021/Validations/Combined_TC_Daytime_FACE\"+str(Day)+\"_\"+str(CO2)+\"_28Jun21.csv\")\n",
    "\n"
   ]
  }
 ],
 "metadata": {
  "kernelspec": {
   "display_name": "Python 3",
   "language": "python",
   "name": "python3"
  },
  "language_info": {
   "codemirror_mode": {
    "name": "ipython",
    "version": 3
   },
   "file_extension": ".py",
   "mimetype": "text/x-python",
   "name": "python",
   "nbconvert_exporter": "python",
   "pygments_lexer": "ipython3",
   "version": "3.8.3"
  }
 },
 "nbformat": 4,
 "nbformat_minor": 4
}
