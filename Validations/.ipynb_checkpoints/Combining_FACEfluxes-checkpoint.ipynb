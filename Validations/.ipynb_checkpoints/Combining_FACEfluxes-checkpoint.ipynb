{
 "cells": [
  {
   "cell_type": "code",
   "execution_count": 1,
   "metadata": {},
   "outputs": [],
   "source": [
    "Day_list = [164, 176, 191, 205, 215, 233]\n",
    "Day_dict = {164:list(range(1,16)),\n",
    "            176:list(range(1,15)),\n",
    "            191:list(range(1,16)),\n",
    "            205:list(range(1,14)),\n",
    "            215:list(range(1,14)),\n",
    "            233:list(range(1,13)),\n",
    "            254:list(range(1,14))}\n",
    "CO2_list = [372,552]"
   ]
  },
  {
   "cell_type": "code",
   "execution_count": 2,
   "metadata": {},
   "outputs": [
    {
     "name": "stderr",
     "output_type": "stream",
     "text": [
      "C:\\ProgramData\\Anaconda3\\lib\\site-packages\\pandas\\compat\\_optional.py:106: UserWarning: Pandas requires version '1.2.1' or newer of 'bottleneck' (version '0+unknown' currently installed).\n",
      "  warnings.warn(msg, UserWarning)\n"
     ]
    }
   ],
   "source": [
    "import pandas as pd\n",
    "\n",
    "Day = Day_list[0]\n",
    "CO2 = CO2_list[0]\n",
    "Hour = Day_dict[Day][0]\n",
    "\n",
    "for Day in Day_list:\n",
    "    for CO2 in CO2_list:\n",
    "        for Hour in Day_dict[Day]:\n",
    "            fin = \"./../../ODE_FBA_Photosynthesis2021/Validations/OutputFluxT_FACE\"+str(Day)+\"_\"+str(CO2)+\"_\"+str(Hour)+\".csv\"\n",
    "            df = pd.read_csv(fin,header=None)\n",
    "            valueList = list()\n",
    "            keyList = list()\n",
    "\n",
    "            for i in range(0,len(df)):\n",
    "                keyList.append(df[0].str.split()[i][0])\n",
    "                valueList.append(float(df[0].str.split()[i][1]))\n",
    "            if Hour == 1:\n",
    "                df2 = pd.DataFrame()\n",
    "                df2[\"Reaction\"]=keyList\n",
    "                df2[\"Hour 1\"]=valueList\n",
    "            else:\n",
    "                df2[\"Hour \"+str(Hour)]=valueList\n",
    "        df2.to_csv(\"./../../ODE_FBA_Photosynthesis2021/Validations/Combined_OutputFluxT_FACE\"+str(Day)+\"_\"+str(CO2)+\"16Jun21.csv\")\n",
    "\n"
   ]
  },
  {
   "cell_type": "code",
   "execution_count": 49,
   "metadata": {},
   "outputs": [],
   "source": [
    "import pandas as pd\n",
    "\n",
    "Day = Day_list[0]\n",
    "CO2 = CO2_list[0]\n",
    "Hour = Day_dict[Day][0]\n",
    "\n",
    "for Day in Day_list:\n",
    "    for CO2 in CO2_list:\n",
    "        #Day = 233\n",
    "        #CO2 = 372\n",
    "        for Hour in Day_dict[Day]:\n",
    "            fin = \"./../../ODE_FBA_Photosynthesis2021/Validations/Diel_flux_FACE\"+str(Day)+\"_\"+str(CO2)+\"_\"+str(Hour)+\".csv\"\n",
    "            df = pd.read_csv(fin,header=None)\n",
    "            \n",
    "            if Hour == 1:\n",
    "                df2 = pd.DataFrame()\n",
    "                df2[\"Reaction ID\"]=df[0]\n",
    "                df2[\"Reaction\"]=df[1]\n",
    "                df2[\"Hour 1\"]=df[2]\n",
    "            else:\n",
    "                templist = list()\n",
    "                for rxn in df2[\"Reaction ID\"]:\n",
    "                    templist.append(float(df[df[0]==rxn][2]))\n",
    "                df2[\"Hour \"+str(Hour)]=templist\n",
    "        df2.to_csv(\"./../../ODE_FBA_Photosynthesis2021/Validations/Combined_Diel_flux_flux_FACE\"+str(Day)+\"_\"+str(CO2)+\"_4June21.csv\")\n",
    "\n"
   ]
  },
  {
   "cell_type": "code",
   "execution_count": 52,
   "metadata": {},
   "outputs": [
    {
     "data": {
      "text/html": [
       "<div>\n",
       "<style scoped>\n",
       "    .dataframe tbody tr th:only-of-type {\n",
       "        vertical-align: middle;\n",
       "    }\n",
       "\n",
       "    .dataframe tbody tr th {\n",
       "        vertical-align: top;\n",
       "    }\n",
       "\n",
       "    .dataframe thead th {\n",
       "        text-align: right;\n",
       "    }\n",
       "</style>\n",
       "<table border=\"1\" class=\"dataframe\">\n",
       "  <thead>\n",
       "    <tr style=\"text-align: right;\">\n",
       "      <th></th>\n",
       "      <th>Reaction ID</th>\n",
       "      <th>Reaction</th>\n",
       "      <th>Hour 1</th>\n",
       "      <th>Hour 2</th>\n",
       "      <th>Hour 3</th>\n",
       "      <th>Hour 4</th>\n",
       "      <th>Hour 5</th>\n",
       "      <th>Hour 6</th>\n",
       "      <th>Hour 7</th>\n",
       "      <th>Hour 8</th>\n",
       "      <th>Hour 9</th>\n",
       "      <th>Hour 10</th>\n",
       "      <th>Hour 11</th>\n",
       "      <th>Hour 12</th>\n",
       "    </tr>\n",
       "  </thead>\n",
       "  <tbody>\n",
       "    <tr>\n",
       "      <th>1799</th>\n",
       "      <td>STARCH_p_dielTransfer</td>\n",
       "      <td>STARCH_p1 &lt;=&gt; STARCH_p2</td>\n",
       "      <td>0.240145</td>\n",
       "      <td>0.326239</td>\n",
       "      <td>0.368436</td>\n",
       "      <td>0.384313</td>\n",
       "      <td>0.389676</td>\n",
       "      <td>0.357408</td>\n",
       "      <td>0.322311</td>\n",
       "      <td>0.357167</td>\n",
       "      <td>0.378068</td>\n",
       "      <td>0.314034</td>\n",
       "      <td>0.243253</td>\n",
       "      <td>0.188579</td>\n",
       "    </tr>\n",
       "  </tbody>\n",
       "</table>\n",
       "</div>"
      ],
      "text/plain": [
       "                Reaction ID                 Reaction    Hour 1    Hour 2  \\\n",
       "1799  STARCH_p_dielTransfer  STARCH_p1 <=> STARCH_p2  0.240145  0.326239   \n",
       "\n",
       "        Hour 3    Hour 4    Hour 5    Hour 6    Hour 7    Hour 8    Hour 9  \\\n",
       "1799  0.368436  0.384313  0.389676  0.357408  0.322311  0.357167  0.378068   \n",
       "\n",
       "       Hour 10   Hour 11   Hour 12  \n",
       "1799  0.314034  0.243253  0.188579  "
      ]
     },
     "execution_count": 52,
     "metadata": {},
     "output_type": "execute_result"
    }
   ],
   "source": [
    "df2[df2[\"Reaction ID\"]==\"STARCH_p_dielTransfer\"]"
   ]
  },
  {
   "cell_type": "code",
   "execution_count": 46,
   "metadata": {},
   "outputs": [
    {
     "data": {
      "text/plain": [
       "233"
      ]
     },
     "execution_count": 46,
     "metadata": {},
     "output_type": "execute_result"
    }
   ],
   "source": [
    "Day"
   ]
  },
  {
   "cell_type": "code",
   "execution_count": 47,
   "metadata": {},
   "outputs": [
    {
     "data": {
      "text/plain": [
       "552"
      ]
     },
     "execution_count": 47,
     "metadata": {},
     "output_type": "execute_result"
    }
   ],
   "source": [
    "CO2"
   ]
  },
  {
   "cell_type": "code",
   "execution_count": 48,
   "metadata": {},
   "outputs": [
    {
     "data": {
      "text/plain": [
       "12"
      ]
     },
     "execution_count": 48,
     "metadata": {},
     "output_type": "execute_result"
    }
   ],
   "source": [
    "Hour"
   ]
  },
  {
   "cell_type": "code",
   "execution_count": 26,
   "metadata": {},
   "outputs": [
    {
     "data": {
      "text/plain": [
       "0               PRO_PROTON_vc1\n",
       "1                       Ca_tx1\n",
       "2                      H2O_xc1\n",
       "3                sCIT_biomass1\n",
       "4         ACETYLGLUTKIN_RXN_p1\n",
       "                 ...          \n",
       "1806    NITRATE_v_dielTransfer\n",
       "1807        SER_v_dielTransfer\n",
       "1808        CIT_v_dielTransfer\n",
       "1809        HIS_v_dielTransfer\n",
       "1810        MAL_v_dielTransfer\n",
       "Name: 0, Length: 1811, dtype: object"
      ]
     },
     "execution_count": 26,
     "metadata": {},
     "output_type": "execute_result"
    }
   ],
   "source": [
    "df[0]"
   ]
  },
  {
   "cell_type": "code",
   "execution_count": 27,
   "metadata": {},
   "outputs": [
    {
     "data": {
      "text/plain": [
       "0               PROTON_v1 + PRO_c1 --> PROTON_c1 + PRO_v1\n",
       "1                                             <=> CAII_e1\n",
       "2                                   WATER_x1 <=> WATER_c1\n",
       "3                                      sCIT_b1 <-- CIT_c1\n",
       "4       ACETYL_GLU_p1 + 0.9 ATP_p1 + 0.1 PROTON_p1 + 0...\n",
       "                              ...                        \n",
       "1806                            NITRATE_v1 <=> NITRATE_v2\n",
       "1807                                    SER_v1 --> SER_v2\n",
       "1808    0.5 CIT_v1 + 0.5 aCIT_v1 <=> 0.5 CIT_v2 + 0.5 ...\n",
       "1809                                  bHIS_v1 --> bHIS_v2\n",
       "1810    0.7 MAL_v1 + 0.3 aMAL_v1 <=> 0.7 MAL_v2 + 0.3 ...\n",
       "Name: 1, Length: 1811, dtype: object"
      ]
     },
     "execution_count": 27,
     "metadata": {},
     "output_type": "execute_result"
    }
   ],
   "source": [
    "df[1]"
   ]
  },
  {
   "cell_type": "code",
   "execution_count": null,
   "metadata": {},
   "outputs": [],
   "source": []
  }
 ],
 "metadata": {
  "kernelspec": {
   "display_name": "Python 3",
   "language": "python",
   "name": "python3"
  },
  "language_info": {
   "codemirror_mode": {
    "name": "ipython",
    "version": 3
   },
   "file_extension": ".py",
   "mimetype": "text/x-python",
   "name": "python",
   "nbconvert_exporter": "python",
   "pygments_lexer": "ipython3",
   "version": "3.8.3"
  }
 },
 "nbformat": 4,
 "nbformat_minor": 4
}
