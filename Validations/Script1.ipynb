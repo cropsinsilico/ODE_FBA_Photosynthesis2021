{
 "cells": [
  {
   "cell_type": "markdown",
   "metadata": {},
   "source": [
    "# Script 1 : Generate Figure 2A"
   ]
  },
  {
   "cell_type": "markdown",
   "metadata": {},
   "source": [
    "### Organize e-photosynthesis (ODE) model assimilation rate"
   ]
  },
  {
   "cell_type": "code",
   "execution_count": 10,
   "metadata": {},
   "outputs": [],
   "source": [
    "import glob\n",
    "\n",
    "ODE_Vc_dict=dict()\n",
    "ODE_Vo_dict=dict()\n",
    "for fname in glob.glob(\"LC_ODEfluxes_Fig2A*\"):\n",
    "    fin = open(fname)\n",
    "    for line in fin:\n",
    "        if \"vc\" in line:\n",
    "            ODE_Vc_dict[int(fname.split(\"_\")[3].split(\".\")[0])]=float(line.replace(\" \",\"\").split(\"vc\")[1])\n",
    "        if \"vo\" in line:\n",
    "            ODE_Vo_dict[int(fname.split(\"_\")[3].split(\".\")[0])]=float(line.replace(\" \",\"\").split(\"vo\")[1])\n",
    "\n",
    "\n",
    "ODE_A_dict=dict()\n",
    "for k in ODE_Vc_dict.keys():\n",
    "    ODE_A_dict[k] = ODE_Vc_dict[k] - (0.5*ODE_Vo_dict[k])"
   ]
  },
  {
   "cell_type": "markdown",
   "metadata": {},
   "source": [
    "### Organize lightly-coupled (LC) model assimilation rate"
   ]
  },
  {
   "cell_type": "code",
   "execution_count": 11,
   "metadata": {},
   "outputs": [],
   "source": [
    "import glob\n",
    "\n",
    "\n",
    "LC_FBA_A_dict=dict()\n",
    "for fname in glob.glob(\"LC_FBAfluxes_Fig2A*\"):\n",
    "    fin = open(fname)\n",
    "    for line in fin:\n",
    "        if \"CO2_tx1\" in line:\n",
    "            LC_FBA_A_dict[int(fname.split(\"_\")[3].split(\".\")[0])] = float(line.split(\",\")[2])"
   ]
  },
  {
   "cell_type": "markdown",
   "metadata": {},
   "source": [
    "### Organize tightly-coupled (TC) model assimilation rate"
   ]
  },
  {
   "cell_type": "code",
   "execution_count": 12,
   "metadata": {},
   "outputs": [],
   "source": [
    "import glob\n",
    "\n",
    "TC_ODE_A_dict=dict()\n",
    "for fname in glob.glob(\"TC_ODEfluxes_Fig2A*\"):\n",
    "    fin = open(fname)\n",
    "    for line in fin:\n",
    "        if \"vc\" in line:\n",
    "            TC_ODE_A_dict[int(fname.split(\"_\")[3].split(\".\")[0])]=float(line.replace(\" \",\"\").split(\"vc\")[1])\n",
    "\n",
    "\n",
    "TC_FBA_A_dict=dict()\n",
    "for fname in glob.glob(\"TC_FBAfluxes_Fig2A*\"):\n",
    "    fin = open(fname)\n",
    "    for line in fin:\n",
    "        if \"CO2_tx\" in line:\n",
    "            TC_FBA_A_dict[int(fname.split(\"_\")[3].split(\".\")[0])] = float(line.split(\",\")[2])\n",
    "\n",
    "\n",
    "TC_A_dict=dict()\n",
    "for k in TC_ODE_A_dict.keys():\n",
    "    TC_A_dict[k] = TC_ODE_A_dict[k] + TC_FBA_A_dict[k]"
   ]
  },
  {
   "cell_type": "markdown",
   "metadata": {},
   "source": [
    "### Data from litterature"
   ]
  },
  {
   "cell_type": "markdown",
   "metadata": {},
   "source": [
    "Morgan et al data"
   ]
  },
  {
   "cell_type": "code",
   "execution_count": 13,
   "metadata": {},
   "outputs": [],
   "source": [
    "Morgan = dict()\n",
    "Morgan[50]=-0.48\n",
    "Morgan[85]=4.3\n",
    "Morgan[148]=14.1\n",
    "Morgan[304]=26\n",
    "Morgan[482]=30.4\n",
    "Morgan[670]=31.6\n",
    "Morgan[863]=30.7\n",
    "Morgan[1051]=31.5\n",
    "Morgan[77]=3\n",
    "Morgan[144]=9.4\n",
    "Morgan[206]=15.7\n",
    "Morgan[273]=21.4\n",
    "Morgan[427]=32.1\n",
    "Morgan[605]=36.3\n",
    "Morgan[787]=38.6\n",
    "Morgan[968]=40.3\n"
   ]
  },
  {
   "cell_type": "markdown",
   "metadata": {},
   "source": [
    "Sun et al data 2014"
   ]
  },
  {
   "cell_type": "code",
   "execution_count": 14,
   "metadata": {},
   "outputs": [],
   "source": [
    "Sun = dict()\n",
    "Sun[267]=22.4\n",
    "Sun[197]=17.3\n",
    "Sun[137]=10.7\n",
    "Sun[76]=3.95\n",
    "Sun[46.2]=0.562\n",
    "Sun[272]=22.7\n",
    "Sun[411]=27.9\n",
    "Sun[583]=30.5\n",
    "Sun[726]=30.7\n",
    "Sun[852]=33.1\n",
    "Sun[1.04E+03]=32.4\n",
    "Sun[229]=22.6\n",
    "Sun[179]=16.7\n",
    "Sun[126]=10.5\n",
    "Sun[72]=3.99\n",
    "Sun[44.4]=-0.214\n",
    "Sun[250]=23.3\n",
    "Sun[380]=30.9\n",
    "Sun[588]=33.1\n",
    "Sun[764]=32.3\n",
    "Sun[904]=34.7\n",
    "Sun[1.16E+03]=35.2\n",
    "Sun[275]=20.2\n",
    "Sun[197]=15\n",
    "Sun[137]=9.28\n",
    "Sun[79.7]=3.1\n",
    "Sun[50.5]=-0.361\n",
    "Sun[273]=21.2\n",
    "Sun[424]=25.7\n",
    "Sun[608]=27.7\n",
    "Sun[709]=29\n",
    "Sun[831]=31.6\n",
    "Sun[1.07E+03]=32.1\n",
    "\n"
   ]
  },
  {
   "cell_type": "markdown",
   "metadata": {},
   "source": [
    "Zhange et al 2011"
   ]
  },
  {
   "cell_type": "code",
   "execution_count": 15,
   "metadata": {},
   "outputs": [],
   "source": [
    "Zhang = dict()\n",
    "Zhang[0]=-6.7\n",
    "Zhang[100]=-0.76\n",
    "Zhang[200]=3.1\n",
    "Zhang[300]=6.2\n",
    "Zhang[500]=11.7\n",
    "Zhang[800]=16.4\n",
    "Zhang[1200]=20.5\n",
    "Zhang[1500]=21.8\n",
    "Zhang[1800]=23.2\n",
    "Zhang[2000]=23.5\n",
    "\n",
    "\n"
   ]
  },
  {
   "cell_type": "code",
   "execution_count": 16,
   "metadata": {
    "scrolled": true
   },
   "outputs": [
    {
     "data": {
      "image/png": "[encoded data removed]",
      "text/plain": [
       "<Figure size 360x288 with 1 Axes>"
      ]
     },
     "metadata": {
      "needs_background": "light"
     },
     "output_type": "display_data"
    }
   ],
   "source": [
    "import matplotlib.pyplot as plt\n",
    "plt.figure(figsize=(5,4))\n",
    "plt.rcParams.update({'font.size': 12})\n",
    "\n",
    "Clist1 = list()\n",
    "Alist1 = list()\n",
    "for k in sorted(TC_A_dict.keys()):\n",
    "    Clist1.append(k*0.70)\n",
    "    Alist1.append(TC_A_dict[k])\n",
    "plt.plot(Clist1,Alist1,label=\"TC\",linestyle=\":\",color=\"blue\")\n",
    "\n",
    "Clist2 = list()\n",
    "Alist2 = list()\n",
    "for k in sorted(ODE_A_dict.keys()):\n",
    "    Clist2.append(k*0.70)\n",
    "    Alist2.append(ODE_A_dict[k])\n",
    "plt.plot(Clist2,Alist2,label=\"ODE only\",linestyle=\"--\",color=\"gold\")\n",
    "\n",
    "Clist3 = list()\n",
    "Alist3 = list()\n",
    "for k in sorted(LC_FBA_A_dict.keys()):\n",
    "    Clist3.append(k*0.70)\n",
    "    Alist3.append(LC_FBA_A_dict[k])\n",
    "plt.plot(Clist3,Alist3,label=\"LC\",linestyle=\"-.\",color=\"green\")\n",
    "\n",
    "Clist4 = list()\n",
    "Alist4 = list()\n",
    "for k in sorted(ODE_A_dict.keys()):\n",
    "    Clist4.append(k*0.70)\n",
    "    Alist4.append(85.33896)\n",
    "plt.plot(Clist4,Alist4,label=\"FBA\",color=\"black\")\n",
    "\n",
    "ClistD1 = list()\n",
    "AlistD1 = list()\n",
    "for k in sorted(Morgan.keys()):\n",
    "    ClistD1.append(k)\n",
    "    AlistD1.append(Morgan[k])\n",
    "plt.scatter(ClistD1,AlistD1,label=\"Morgan et al 2004\",marker='^',edgecolor=\"grey\",facecolor=\"white\")\n",
    "\n",
    "ClistD2 = list()\n",
    "AlistD2 = list()\n",
    "for k in sorted(Sun.keys()):\n",
    "    ClistD2.append(k)\n",
    "    AlistD2.append(Sun[k])\n",
    "plt.scatter(ClistD2,AlistD2,label=\"Sun et al 2014\",marker='o',edgecolor=\"grey\",facecolor=\"white\")\n",
    "\n",
    "plt.xlim(0,1200)\n",
    "plt.ylim(-10,120)\n",
    "plt.xlabel(r'$\\mathrm{C_i\\/(\\mu mol\\/mol^{-1})}$')\n",
    "plt.ylabel(r'$A\\/\\mathrm{(\\mu mol\\/m^{-2}\\/s^{-1})}$')\n",
    "\n",
    "plt.legend()\n",
    "#plt.show()\n",
    "plt.savefig(\"Fig3A_14Jun.svg\",format=\"svg\")"
   ]
  },
  {
   "cell_type": "code",
   "execution_count": 8,
   "metadata": {},
   "outputs": [
    {
     "data": {
      "text/plain": [
       "[0.28401945,\n",
       " 5.933072500000001,\n",
       " 17.237195,\n",
       " 23.105883,\n",
       " 27.4884025,\n",
       " 30.580845500000002,\n",
       " 34.308606499999996,\n",
       " 36.456647,\n",
       " 37.876708,\n",
       " 39.303034499999995,\n",
       " 40.263531]"
      ]
     },
     "execution_count": 8,
     "metadata": {},
     "output_type": "execute_result"
    }
   ],
   "source": [
    "Alist2"
   ]
  },
  {
   "cell_type": "code",
   "execution_count": 9,
   "metadata": {},
   "outputs": [
    {
     "data": {
      "text/plain": [
       "[-3.01223114552139,\n",
       " 3.1531502901041844,\n",
       " 14.210730062373317,\n",
       " 19.945700607567403,\n",
       " 24.21952812399882,\n",
       " 27.23263765011893,\n",
       " 30.869392331648548,\n",
       " 32.97234109187443,\n",
       " 34.36729397937054,\n",
       " 36.0465092754751,\n",
       " 37.00434128250042]"
      ]
     },
     "execution_count": 9,
     "metadata": {},
     "output_type": "execute_result"
    }
   ],
   "source": [
    "Alist1"
   ]
  },
  {
   "cell_type": "code",
   "execution_count": 10,
   "metadata": {},
   "outputs": [
    {
     "data": {
      "text/plain": [
       "[84.0, 140.0, 210.0, 280.0, 350.0, 420.0, 560.0, 700.0, 840.0, 1050.0, 1260.0]"
      ]
     },
     "execution_count": 10,
     "metadata": {},
     "output_type": "execute_result"
    }
   ],
   "source": [
    "Clist1"
   ]
  },
  {
   "cell_type": "markdown",
   "metadata": {},
   "source": [
    "-----------------------------"
   ]
  },
  {
   "cell_type": "code",
   "execution_count": 11,
   "metadata": {},
   "outputs": [
    {
     "ename": "NameError",
     "evalue": "name 'LC_FBA_cyclicE_dict' is not defined",
     "output_type": "error",
     "traceback": [
      "\u001b[1;31m---------------------------------------------------------------------------\u001b[0m",
      "\u001b[1;31mNameError\u001b[0m                                 Traceback (most recent call last)",
      "\u001b[1;32m<ipython-input-11-7197b8971440>\u001b[0m in \u001b[0;36m<module>\u001b[1;34m\u001b[0m\n\u001b[1;32m----> 1\u001b[1;33m \u001b[1;32mfor\u001b[0m \u001b[0mx\u001b[0m \u001b[1;32min\u001b[0m \u001b[0msorted\u001b[0m\u001b[1;33m(\u001b[0m\u001b[0mLC_FBA_cyclicE_dict\u001b[0m\u001b[1;33m.\u001b[0m\u001b[0mkeys\u001b[0m\u001b[1;33m(\u001b[0m\u001b[1;33m)\u001b[0m\u001b[1;33m)\u001b[0m\u001b[1;33m:\u001b[0m\u001b[1;33m\u001b[0m\u001b[1;33m\u001b[0m\u001b[0m\n\u001b[0m\u001b[0;32m      2\u001b[0m     \u001b[0mprint\u001b[0m\u001b[1;33m(\u001b[0m\u001b[0mx\u001b[0m\u001b[1;33m)\u001b[0m\u001b[1;33m\u001b[0m\u001b[1;33m\u001b[0m\u001b[0m\n\u001b[0;32m      3\u001b[0m     \u001b[0mprint\u001b[0m\u001b[1;33m(\u001b[0m\u001b[0mstr\u001b[0m\u001b[1;33m(\u001b[0m\u001b[0mLC_FBA_PSI_dict\u001b[0m\u001b[1;33m[\u001b[0m\u001b[0mx\u001b[0m\u001b[1;33m]\u001b[0m\u001b[1;33m-\u001b[0m\u001b[0mLC_FBA_PSII_dict\u001b[0m\u001b[1;33m[\u001b[0m\u001b[0mx\u001b[0m\u001b[1;33m]\u001b[0m\u001b[1;33m)\u001b[0m\u001b[1;33m+\u001b[0m\u001b[1;34m\"\\t\"\u001b[0m\u001b[1;33m+\u001b[0m\u001b[0mstr\u001b[0m\u001b[1;33m(\u001b[0m\u001b[0mTC_ODE_PSI_dict\u001b[0m\u001b[1;33m[\u001b[0m\u001b[0mx\u001b[0m\u001b[1;33m]\u001b[0m\u001b[1;33m-\u001b[0m\u001b[0mTC_ODE_PSII_dict\u001b[0m\u001b[1;33m[\u001b[0m\u001b[0mx\u001b[0m\u001b[1;33m]\u001b[0m\u001b[1;33m)\u001b[0m\u001b[1;33m)\u001b[0m\u001b[1;33m\u001b[0m\u001b[1;33m\u001b[0m\u001b[0m\n",
      "\u001b[1;31mNameError\u001b[0m: name 'LC_FBA_cyclicE_dict' is not defined"
     ]
    }
   ],
   "source": [
    "for x in sorted(LC_FBA_cyclicE_dict.keys()):\n",
    "    print(x)\n",
    "    print(str(LC_FBA_PSI_dict[x]-LC_FBA_PSII_dict[x])+\"\\t\"+str(TC_ODE_PSI_dict[x]-TC_ODE_PSII_dict[x]))"
   ]
  },
  {
   "cell_type": "code",
   "execution_count": null,
   "metadata": {},
   "outputs": [],
   "source": [
    "for x in sorted(TC_ODE_PSII_dict.keys()):\n",
    "    print(TC_ODE_PSI_dict[x]-TC_ODE_PSII_dict[x])"
   ]
  },
  {
   "cell_type": "code",
   "execution_count": null,
   "metadata": {},
   "outputs": [],
   "source": []
  }
 ],
 "metadata": {
  "kernelspec": {
   "display_name": "Python 3",
   "language": "python",
   "name": "python3"
  },
  "language_info": {
   "codemirror_mode": {
    "name": "ipython",
    "version": 3
   },
   "file_extension": ".py",
   "mimetype": "text/x-python",
   "name": "python",
   "nbconvert_exporter": "python",
   "pygments_lexer": "ipython3",
   "version": "3.8.3"
  }
 },
 "nbformat": 4,
 "nbformat_minor": 4
}
