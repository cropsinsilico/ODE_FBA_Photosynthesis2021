{
 "cells": [
  {
   "cell_type": "markdown",
   "metadata": {},
   "source": [
    "# Script 1 : Generate Figure 2A"
   ]
  },
  {
   "cell_type": "markdown",
   "metadata": {},
   "source": [
    "### Organize e-photosynthesis (ODE) model assimilation rate"
   ]
  },
  {
   "cell_type": "code",
   "execution_count": 1,
   "metadata": {},
   "outputs": [],
   "source": [
    "import glob\n",
    "\n",
    "ODE_Vc_dict=dict()\n",
    "ODE_Vo_dict=dict()\n",
    "for fname in glob.glob(\"ODEonly_fluxes_Fig2A*\"):\n",
    "    fin = open(fname)\n",
    "    for line in fin:\n",
    "        if \"vc\" in line:\n",
    "            ODE_Vc_dict[int(fname.split(\"_\")[3].split(\".\")[0])]=float(line.replace(\" \",\"\").split(\"vc\")[1])\n",
    "        if \"vo\" in line:\n",
    "            ODE_Vo_dict[int(fname.split(\"_\")[3].split(\".\")[0])]=float(line.replace(\" \",\"\").split(\"vo\")[1])\n",
    "\n",
    "\n",
    "ODE_A_dict=dict()\n",
    "for k in ODE_Vc_dict.keys():\n",
    "    ODE_A_dict[k] = ODE_Vc_dict[k] - (0.5*ODE_Vo_dict[k])"
   ]
  },
  {
   "cell_type": "markdown",
   "metadata": {},
   "source": [
    "### Organize lightly-coupled (LC) model assimilation rate"
   ]
  },
  {
   "cell_type": "code",
   "execution_count": 2,
   "metadata": {},
   "outputs": [],
   "source": [
    "import glob\n",
    "\n",
    "\n",
    "LC_FBA_A_dict=dict()\n",
    "for fname in glob.glob(\"LC_FBAfluxes_Fig2A*\"):\n",
    "    fin = open(fname)\n",
    "    for line in fin:\n",
    "        if \"CO2_tx1\" in line:\n",
    "            LC_FBA_A_dict[int(fname.split(\"_\")[3].split(\".\")[0])] = float(line.split(\",\")[2])"
   ]
  },
  {
   "cell_type": "markdown",
   "metadata": {},
   "source": [
    "### Organize tightly-coupled (TC) model assimilation rate"
   ]
  },
  {
   "cell_type": "code",
   "execution_count": 3,
   "metadata": {},
   "outputs": [],
   "source": [
    "import glob\n",
    "\n",
    "TC_ODE_A_dict=dict()\n",
    "for fname in glob.glob(\"TC_ODEfluxes_Fig2A*\"):\n",
    "    fin = open(fname)\n",
    "    for line in fin:\n",
    "        if \"vc\" in line:\n",
    "            TC_ODE_A_dict[int(fname.split(\"_\")[3].split(\".\")[0])]=float(line.replace(\" \",\"\").split(\"vc\")[1])\n",
    "\n",
    "\n",
    "TC_FBA_A_dict=dict()\n",
    "for fname in glob.glob(\"TC_FBAfluxes_Fig2A*\"):\n",
    "    fin = open(fname)\n",
    "    for line in fin:\n",
    "        if \"CO2_tx\" in line:\n",
    "            TC_FBA_A_dict[int(fname.split(\"_\")[3].split(\".\")[0])] = float(line.split(\",\")[2])\n",
    "\n",
    "\n",
    "TC_A_dict=dict()\n",
    "for k in TC_ODE_A_dict.keys():\n",
    "    TC_A_dict[k] = TC_ODE_A_dict[k] + TC_FBA_A_dict[k]"
   ]
  },
  {
   "cell_type": "markdown",
   "metadata": {},
   "source": [
    "### Data from litterature"
   ]
  },
  {
   "cell_type": "markdown",
   "metadata": {},
   "source": [
    "Morgan et al data"
   ]
  },
  {
   "cell_type": "code",
   "execution_count": 4,
   "metadata": {},
   "outputs": [],
   "source": [
    "Morgan = dict()\n",
    "Morgan[50]=-0.48\n",
    "Morgan[85]=4.3\n",
    "Morgan[148]=14.1\n",
    "Morgan[304]=26\n",
    "Morgan[482]=30.4\n",
    "Morgan[670]=31.6\n",
    "Morgan[863]=30.7\n",
    "Morgan[1051]=31.5\n",
    "Morgan[77]=3\n",
    "Morgan[144]=9.4\n",
    "Morgan[206]=15.7\n",
    "Morgan[273]=21.4\n",
    "Morgan[427]=32.1\n",
    "Morgan[605]=36.3\n",
    "Morgan[787]=38.6\n",
    "Morgan[968]=40.3\n"
   ]
  },
  {
   "cell_type": "markdown",
   "metadata": {},
   "source": [
    "Sun et al data 2014"
   ]
  },
  {
   "cell_type": "code",
   "execution_count": 5,
   "metadata": {},
   "outputs": [],
   "source": [
    "Sun = dict()\n",
    "Sun[267]=22.4\n",
    "Sun[197]=17.3\n",
    "Sun[137]=10.7\n",
    "Sun[76]=3.95\n",
    "Sun[46.2]=0.562\n",
    "Sun[272]=22.7\n",
    "Sun[411]=27.9\n",
    "Sun[583]=30.5\n",
    "Sun[726]=30.7\n",
    "Sun[852]=33.1\n",
    "Sun[1.04E+03]=32.4\n",
    "Sun[229]=22.6\n",
    "Sun[179]=16.7\n",
    "Sun[126]=10.5\n",
    "Sun[72]=3.99\n",
    "Sun[44.4]=-0.214\n",
    "Sun[250]=23.3\n",
    "Sun[380]=30.9\n",
    "Sun[588]=33.1\n",
    "Sun[764]=32.3\n",
    "Sun[904]=34.7\n",
    "Sun[1.16E+03]=35.2\n",
    "Sun[275]=20.2\n",
    "Sun[197]=15\n",
    "Sun[137]=9.28\n",
    "Sun[79.7]=3.1\n",
    "Sun[50.5]=-0.361\n",
    "Sun[273]=21.2\n",
    "Sun[424]=25.7\n",
    "Sun[608]=27.7\n",
    "Sun[709]=29\n",
    "Sun[831]=31.6\n",
    "Sun[1.07E+03]=32.1\n",
    "\n"
   ]
  },
  {
   "cell_type": "markdown",
   "metadata": {},
   "source": [
    "Zhange et al 2011"
   ]
  },
  {
   "cell_type": "code",
   "execution_count": 6,
   "metadata": {},
   "outputs": [],
   "source": [
    "Zhang = dict()\n",
    "Zhang[0]=-6.7\n",
    "Zhang[100]=-0.76\n",
    "Zhang[200]=3.1\n",
    "Zhang[300]=6.2\n",
    "Zhang[500]=11.7\n",
    "Zhang[800]=16.4\n",
    "Zhang[1200]=20.5\n",
    "Zhang[1500]=21.8\n",
    "Zhang[1800]=23.2\n",
    "Zhang[2000]=23.5\n",
    "\n",
    "\n"
   ]
  },
  {
   "cell_type": "code",
   "execution_count": 19,
   "metadata": {},
   "outputs": [
    {
     "data": {
      "image/png": "[encoded data removed]",
      "text/plain": [
       "<Figure size 360x288 with 1 Axes>"
      ]
     },
     "metadata": {
      "needs_background": "light"
     },
     "output_type": "display_data"
    }
   ],
   "source": [
    "import matplotlib.pyplot as plt\n",
    "plt.figure(figsize=(5,4))\n",
    "\n",
    "Clist1 = list()\n",
    "Alist1 = list()\n",
    "for k in sorted(TC_A_dict.keys()):\n",
    "    Clist1.append(k*0.70)\n",
    "    Alist1.append(TC_A_dict[k])\n",
    "plt.plot(Clist1,Alist1,label=\"TC\",color=\"blue\")\n",
    "\n",
    "Clist2 = list()\n",
    "Alist2 = list()\n",
    "for k in sorted(ODE_A_dict.keys()):\n",
    "    Clist2.append(k*0.70)\n",
    "    Alist2.append(ODE_A_dict[k])\n",
    "plt.plot(Clist2,Alist2,label=\"ODE only\",color=\"red\")\n",
    "\n",
    "Clist3 = list()\n",
    "Alist3 = list()\n",
    "for k in sorted(LC_FBA_A_dict.keys()):\n",
    "    Clist3.append(k*0.70)\n",
    "    Alist3.append(LC_FBA_A_dict[k])\n",
    "plt.plot(Clist3,Alist3,label=\"LC\",color=\"green\")\n",
    "\n",
    "Clist4 = list()\n",
    "Alist4 = list()\n",
    "for k in sorted(ODE_A_dict.keys()):\n",
    "    Clist4.append(k*0.70)\n",
    "    Alist4.append(85.33896)\n",
    "plt.plot(Clist4,Alist4,label=\"FBA\",color=\"black\")\n",
    "\n",
    "ClistD1 = list()\n",
    "AlistD1 = list()\n",
    "for k in sorted(Morgan.keys()):\n",
    "    ClistD1.append(k)\n",
    "    AlistD1.append(Morgan[k])\n",
    "plt.scatter(ClistD1,AlistD1,label=\"Morgan et al 2004\",marker='^',edgecolor=\"grey\",facecolor=\"white\")\n",
    "\n",
    "ClistD2 = list()\n",
    "AlistD2 = list()\n",
    "for k in sorted(Sun.keys()):\n",
    "    ClistD2.append(k)\n",
    "    AlistD2.append(Sun[k])\n",
    "plt.scatter(ClistD2,AlistD2,label=\"Sun et al 2014\",marker='o',edgecolor=\"grey\",facecolor=\"white\")\n",
    "\n",
    "plt.xlim(0,1200)\n",
    "plt.ylim(-10,120)\n",
    "\n",
    "plt.legend()\n",
    "plt.show()"
   ]
  },
  {
   "cell_type": "code",
   "execution_count": null,
   "metadata": {},
   "outputs": [],
   "source": []
  }
 ],
 "metadata": {
  "kernelspec": {
   "display_name": "Python 3",
   "language": "python",
   "name": "python3"
  },
  "language_info": {
   "codemirror_mode": {
    "name": "ipython",
    "version": 3
   },
   "file_extension": ".py",
   "mimetype": "text/x-python",
   "name": "python",
   "nbconvert_exporter": "python",
   "pygments_lexer": "ipython3",
   "version": "3.8.3"
  }
 },
 "nbformat": 4,
 "nbformat_minor": 4
}
