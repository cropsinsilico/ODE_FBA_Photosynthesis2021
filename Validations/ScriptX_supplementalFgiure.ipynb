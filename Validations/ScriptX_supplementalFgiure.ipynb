{
 "cells": [
  {
   "cell_type": "markdown",
   "metadata": {},
   "source": [
    "### Organize lightly-coupled (LC) model assimilation rate"
   ]
  },
  {
   "cell_type": "code",
   "execution_count": 1,
   "metadata": {},
   "outputs": [],
   "source": [
    "import glob\n",
    "\n",
    "\n",
    "LC_FBA_cyclicE_dict=dict()\n",
    "for fname in glob.glob(\"LC_FBAfluxes_Fig2A*\"):\n",
    "    fin = open(fname)\n",
    "    for line in fin:\n",
    "        if \"Ferredoxin_Plastoquinone_Reductase_p1\" in line:\n",
    "            LC_FBA_cyclicE_dict[int(fname.split(\"_\")[3].split(\".\")[0])] = float(line.split(\",\")[2])*2"
   ]
  },
  {
   "cell_type": "code",
   "execution_count": 2,
   "metadata": {},
   "outputs": [],
   "source": [
    "LC_FBA_PSI_dict=dict()\n",
    "for fname in glob.glob(\"LC_FBAfluxes_Fig2A*\"):\n",
    "    fin = open(fname)\n",
    "    for line in fin:\n",
    "        if \"RXN490_3650_p1\" in line:\n",
    "            LC_FBA_PSI_dict[int(fname.split(\"_\")[3].split(\".\")[0])] = float(line.split(\",\")[2])"
   ]
  },
  {
   "cell_type": "code",
   "execution_count": 3,
   "metadata": {},
   "outputs": [],
   "source": [
    "LC_FBA_PSII_dict=dict()\n",
    "for fname in glob.glob(\"LC_FBAfluxes_Fig2A*\"):\n",
    "    fin = open(fname)\n",
    "    for line in fin:\n",
    "        if \"PSII_RXN_p1\" in line:\n",
    "            LC_FBA_PSII_dict[int(fname.split(\"_\")[3].split(\".\")[0])] = float(line.split(\",\")[2])*4"
   ]
  },
  {
   "cell_type": "code",
   "execution_count": 4,
   "metadata": {},
   "outputs": [],
   "source": [
    "import glob\n",
    "\n",
    "LC_ODE_PSII_dict=dict()\n",
    "for fname in glob.glob(\"LC_ODEfluxes_Fig2A*\"):\n",
    "    fin = open(fname)\n",
    "    for line in fin:\n",
    "        if \"vz_2\" in line:\n",
    "            LC_ODE_PSII_dict[int(fname.split(\"_\")[3].split(\".\")[0])] = float(line.replace(\" \",\"\").split(\"vz_2\")[1])\n",
    "\n"
   ]
  },
  {
   "cell_type": "code",
   "execution_count": 5,
   "metadata": {},
   "outputs": [],
   "source": [
    "import glob\n",
    "\n",
    "LC_FBA_ATP_dict=dict()\n",
    "for fname in glob.glob(\"LC_FBAfluxes_Fig2A*\"):\n",
    "    fin = open(fname)\n",
    "    for line in fin:\n",
    "        if \"Plastidial_ATP_Synthase_p1\" in line:\n",
    "            LC_FBA_ATP_dict[int(fname.split(\"_\")[3].split(\".\")[0])] = float(line.split(\",\")[2])*3"
   ]
  },
  {
   "cell_type": "code",
   "execution_count": 6,
   "metadata": {},
   "outputs": [],
   "source": [
    "import glob\n",
    "\n",
    "LC_FBA_NADPH_dict=dict()\n",
    "for fname in glob.glob(\"LC_FBAfluxes_Fig2A*\"):\n",
    "    fin = open(fname)\n",
    "    for line in fin:\n",
    "        if \"1_PERIOD_18_PERIOD_1_PERIOD_2_RXN_p1\" in line:\n",
    "            LC_FBA_NADPH_dict[int(fname.split(\"_\")[3].split(\".\")[0])] = float(line.split(\",\")[2])"
   ]
  },
  {
   "cell_type": "code",
   "execution_count": 7,
   "metadata": {},
   "outputs": [],
   "source": [
    "import glob\n",
    "\n",
    "LC_FBA_Photon_dict=dict()\n",
    "for fname in glob.glob(\"LC_FBAfluxes_Fig2A*\"):\n",
    "    fin = open(fname)\n",
    "    for line in fin:\n",
    "        if \"Photon_tx1\" in line:\n",
    "            LC_FBA_Photon_dict[int(fname.split(\"_\")[3].split(\".\")[0])] = float(line.split(\",\")[2])"
   ]
  },
  {
   "cell_type": "markdown",
   "metadata": {},
   "source": [
    "### Organize tightly-coupled (TC) model assimilation rate"
   ]
  },
  {
   "cell_type": "code",
   "execution_count": 8,
   "metadata": {},
   "outputs": [],
   "source": [
    "import glob\n",
    "\n",
    "TC_ODE_cyclicE_dict=dict()\n",
    "for fname in glob.glob(\"TC_ODEfluxes_Fig2A*\"):\n",
    "    fin = open(fname)\n",
    "    for line in fin:\n",
    "        if \"vbfn2\" in line:\n",
    "            TC_ODE_cyclicE_dict[int(fname.split(\"_\")[3].split(\".\")[0])] = float(line.replace(\" \",\"\").split(\"vbfn2\")[1])\n",
    "\n"
   ]
  },
  {
   "cell_type": "code",
   "execution_count": 9,
   "metadata": {},
   "outputs": [],
   "source": [
    "import glob\n",
    "\n",
    "TC_ODE_PSI_dict=dict()\n",
    "for fname in glob.glob(\"TC_ODEfluxes_Fig2A*\"):\n",
    "    fin = open(fname)\n",
    "    for line in fin:\n",
    "        if \"Vbf16\" in line:\n",
    "            TC_ODE_PSI_dict[int(fname.split(\"_\")[3].split(\".\")[0])] = float(line.replace(\" \",\"\").split(\"Vbf16\")[1])\n",
    "\n"
   ]
  },
  {
   "cell_type": "code",
   "execution_count": 10,
   "metadata": {},
   "outputs": [],
   "source": [
    "import glob\n",
    "\n",
    "TC_ODE_PSII_dict=dict()\n",
    "for fname in glob.glob(\"TC_ODEfluxes_Fig2A*\"):\n",
    "    fin = open(fname)\n",
    "    for line in fin:\n",
    "        if \"vz_2\" in line:\n",
    "            TC_ODE_PSII_dict[int(fname.split(\"_\")[3].split(\".\")[0])] = float(line.replace(\" \",\"\").split(\"vz_2\")[1])\n",
    "\n"
   ]
  },
  {
   "cell_type": "code",
   "execution_count": 11,
   "metadata": {},
   "outputs": [],
   "source": [
    "import glob\n",
    "\n",
    "TC_ODE_ATP_dict=dict()\n",
    "for fname in glob.glob(\"TC_ODEfluxes_Fig2A*\"):\n",
    "    fin = open(fname)\n",
    "    for line in fin:\n",
    "        if \"Vbf11\" in line:\n",
    "            TC_ODE_ATP_dict[int(fname.split(\"_\")[3].split(\".\")[0])] = float(line.replace(\" \",\"\").split(\"Vbf11\")[1])\n",
    "\n"
   ]
  },
  {
   "cell_type": "code",
   "execution_count": 12,
   "metadata": {},
   "outputs": [],
   "source": [
    "import glob\n",
    "\n",
    "TC_ODE_NADPH_dict=dict()\n",
    "for fname in glob.glob(\"TC_ODEfluxes_Fig2A*\"):\n",
    "    fin = open(fname)\n",
    "    for line in fin:\n",
    "        if \"vbfn2\" in line:\n",
    "            TC_ODE_NADPH_dict[int(fname.split(\"_\")[3].split(\".\")[0])] = float(line.replace(\" \",\"\").split(\"vbfn2\")[1])\n",
    "\n"
   ]
  },
  {
   "cell_type": "code",
   "execution_count": 13,
   "metadata": {},
   "outputs": [
    {
     "ename": "IndexError",
     "evalue": "list index out of range",
     "output_type": "error",
     "traceback": [
      "\u001b[1;31m---------------------------------------------------------------------------\u001b[0m",
      "\u001b[1;31mIndexError\u001b[0m                                Traceback (most recent call last)",
      "\u001b[1;32m<ipython-input-13-74837734d9a3>\u001b[0m in \u001b[0;36m<module>\u001b[1;34m\u001b[0m\n\u001b[0;32m      6\u001b[0m     \u001b[1;32mfor\u001b[0m \u001b[0mline\u001b[0m \u001b[1;32min\u001b[0m \u001b[0mfin\u001b[0m\u001b[1;33m:\u001b[0m\u001b[1;33m\u001b[0m\u001b[1;33m\u001b[0m\u001b[0m\n\u001b[0;32m      7\u001b[0m         \u001b[1;32mif\u001b[0m \u001b[1;34m\"\"\u001b[0m \u001b[1;32min\u001b[0m \u001b[0mline\u001b[0m\u001b[1;33m:\u001b[0m\u001b[1;33m\u001b[0m\u001b[1;33m\u001b[0m\u001b[0m\n\u001b[1;32m----> 8\u001b[1;33m             \u001b[0mTC_ODE_Photon_dict\u001b[0m\u001b[1;33m[\u001b[0m\u001b[0mint\u001b[0m\u001b[1;33m(\u001b[0m\u001b[0mfname\u001b[0m\u001b[1;33m.\u001b[0m\u001b[0msplit\u001b[0m\u001b[1;33m(\u001b[0m\u001b[1;34m\"_\"\u001b[0m\u001b[1;33m)\u001b[0m\u001b[1;33m[\u001b[0m\u001b[1;36m3\u001b[0m\u001b[1;33m]\u001b[0m\u001b[1;33m.\u001b[0m\u001b[0msplit\u001b[0m\u001b[1;33m(\u001b[0m\u001b[1;34m\".\"\u001b[0m\u001b[1;33m)\u001b[0m\u001b[1;33m[\u001b[0m\u001b[1;36m0\u001b[0m\u001b[1;33m]\u001b[0m\u001b[1;33m)\u001b[0m\u001b[1;33m]\u001b[0m \u001b[1;33m=\u001b[0m \u001b[0mfloat\u001b[0m\u001b[1;33m(\u001b[0m\u001b[0mline\u001b[0m\u001b[1;33m.\u001b[0m\u001b[0mreplace\u001b[0m\u001b[1;33m(\u001b[0m\u001b[1;34m\" \"\u001b[0m\u001b[1;33m,\u001b[0m\u001b[1;34m\"\"\u001b[0m\u001b[1;33m)\u001b[0m\u001b[1;33m.\u001b[0m\u001b[0msplit\u001b[0m\u001b[1;33m(\u001b[0m\u001b[1;34m\"vbfn2\"\u001b[0m\u001b[1;33m)\u001b[0m\u001b[1;33m[\u001b[0m\u001b[1;36m1\u001b[0m\u001b[1;33m]\u001b[0m\u001b[1;33m)\u001b[0m\u001b[1;33m\u001b[0m\u001b[1;33m\u001b[0m\u001b[0m\n\u001b[0m\u001b[0;32m      9\u001b[0m \u001b[1;33m\u001b[0m\u001b[0m\n",
      "\u001b[1;31mIndexError\u001b[0m: list index out of range"
     ]
    }
   ],
   "source": [
    "import glob\n",
    "\n",
    "TC_ODE_Photon_dict=dict()\n",
    "for fname in glob.glob(\"TC_ODEfluxes_Fig2A*\"):\n",
    "    fin = open(fname)\n",
    "    for line in fin:\n",
    "        if \"\" in line:\n",
    "            TC_ODE_Photon_dict[int(fname.split(\"_\")[3].split(\".\")[0])] = float(line.replace(\" \",\"\").split(\"vbfn2\")[1])\n",
    "\n"
   ]
  },
  {
   "cell_type": "markdown",
   "metadata": {},
   "source": [
    "### Plotting"
   ]
  },
  {
   "cell_type": "code",
   "execution_count": 15,
   "metadata": {},
   "outputs": [
    {
     "data": {
      "image/png": "[encoded data removed]",
      "text/plain": [
       "<Figure size 432x288 with 1 Axes>"
      ]
     },
     "metadata": {
      "needs_background": "light"
     },
     "output_type": "display_data"
    }
   ],
   "source": [
    "import matplotlib.pyplot as plt\n",
    "\n",
    "xlist1 = sorted(LC_FBA_cyclicE_dict.keys())\n",
    "ylist1_c = list()\n",
    "ylist1_n = list()\n",
    "for x in xlist1:\n",
    "    ylist1_c.append(LC_FBA_PSI_dict[x]-LC_FBA_PSII_dict[x])\n",
    "    ylist1_n.append(LC_FBA_PSII_dict[x])\n",
    "\n",
    "xlist2 = sorted(TC_ODE_PSII_dict.keys())\n",
    "ylist2_c = list()\n",
    "ylist2_n = list()\n",
    "for x in xlist2[1:]:\n",
    "    ylist2_c.append(TC_ODE_PSI_dict[x]-TC_ODE_PSII_dict[x])\n",
    "    ylist2_n.append(TC_ODE_PSII_dict[x])\n",
    "\n",
    "plt.plot(xlist1,ylist1_c,\"b-\")\n",
    "plt.plot(xlist1,ylist1_n,\"r-\")\n",
    "plt.plot(xlist2[1:],ylist2_c,\"b--\")\n",
    "plt.plot(xlist2[1:],ylist2_n,\"r--\")\n",
    "plt.show()"
   ]
  },
  {
   "cell_type": "code",
   "execution_count": 16,
   "metadata": {},
   "outputs": [
    {
     "data": {
      "image/png": "[encoded data removed]",
      "text/plain": [
       "<Figure size 432x288 with 1 Axes>"
      ]
     },
     "metadata": {
      "needs_background": "light"
     },
     "output_type": "display_data"
    }
   ],
   "source": [
    "import matplotlib.pyplot as plt\n",
    "\n",
    "xlist1 = sorted(LC_FBA_cyclicE_dict.keys())\n",
    "ylist1_A = list()\n",
    "ylist1_N = list()\n",
    "for x in xlist1:\n",
    "    ylist1_A.append(LC_FBA_ATP_dict[x])\n",
    "    ylist1_N.append(LC_FBA_NADPH_dict[x])\n",
    "\n",
    "xlist2 = sorted(TC_ODE_PSII_dict.keys())\n",
    "ylist2_A = list()\n",
    "ylist2_N = list()\n",
    "for x in xlist2[1:]:\n",
    "    ylist2_A.append(TC_ODE_ATP_dict[x])\n",
    "    ylist2_N.append(TC_ODE_NADPH_dict[x])\n",
    "\n",
    "plt.plot(xlist1,ylist1_A,\"b-\",label=\"LC ATP\")\n",
    "plt.plot(xlist1,ylist1_N,\"r-\",label=\"LC NADPH\")\n",
    "plt.plot(xlist2[1:],ylist2_A,\"b--\",label=\"TC ATP\")\n",
    "plt.plot(xlist2[1:],ylist2_N,\"r--\",label=\"TC NADPH\")\n",
    "plt.legend()\n",
    "plt.show()"
   ]
  },
  {
   "cell_type": "code",
   "execution_count": 20,
   "metadata": {},
   "outputs": [
    {
     "name": "stdout",
     "output_type": "stream",
     "text": [
      "30.50954841418557\t30.17873\n",
      "51.778571794523096\t64.64118\n",
      "57.17291232624234\t74.45226\n",
      "61.510419999384304\t80.79933\n",
      "62.960801535760645\t84.47372\n",
      "64.86917593797283\t88.36717\n",
      "64.83225108268871\t89.71902\n",
      "65.14209073074005\t90.00573\n",
      "64.98618417600534\t89.91661\n",
      "65.32427275887261\t90.52281\n"
     ]
    }
   ],
   "source": [
    "for x in xlist1:\n",
    "    print(str(LC_FBA_cyclicE_dict[x])+\"\\t\"+str(TC_ODE_cyclicE_dict[x]))"
   ]
  },
  {
   "cell_type": "code",
   "execution_count": null,
   "metadata": {},
   "outputs": [],
   "source": []
  }
 ],
 "metadata": {
  "kernelspec": {
   "display_name": "Python 3",
   "language": "python",
   "name": "python3"
  },
  "language_info": {
   "codemirror_mode": {
    "name": "ipython",
    "version": 3
   },
   "file_extension": ".py",
   "mimetype": "text/x-python",
   "name": "python",
   "nbconvert_exporter": "python",
   "pygments_lexer": "ipython3",
   "version": "3.8.3"
  }
 },
 "nbformat": 4,
 "nbformat_minor": 4
}
