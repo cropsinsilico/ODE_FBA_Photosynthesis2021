{
 "cells": [
  {
   "cell_type": "markdown",
   "metadata": {},
   "source": [
    "## ODE-FBA work\n",
    "\n",
    "Malate:starch accumulation rate is estimated from diel FBA model"
   ]
  },
  {
   "cell_type": "code",
   "execution_count": 1,
   "metadata": {},
   "outputs": [],
   "source": [
    "def estimateMaintenance(PPFD):\n",
    "    ATPase = (PPFD*0.0049)+2.7851 #Equation form : y=mx+c\n",
    "    return ATPase"
   ]
  },
  {
   "cell_type": "code",
   "execution_count": 2,
   "metadata": {},
   "outputs": [
    {
     "name": "stdout",
     "output_type": "stream",
     "text": [
      "0.7 MAL_v1 + 0.3 aMAL_v1 <=> 0.7 MAL_v2 + 0.3 aMAL_v2\n",
      "0.5 CIT_v1 + 0.5 aCIT_v1 <=> 0.5 CIT_v2 + 0.5 aCIT_v2\n",
      "bHIS_v1 --> bHIS_v2\n"
     ]
    }
   ],
   "source": [
    "from cobra.flux_analysis import pfba\n",
    "from cobra import io\n",
    "from sweetlovegroup import transform\n",
    "\n",
    "model = io.read_sbml_model(\"/home/sanu/Documents/Scripts/git/plantcoremetabolism-model/PlantCoreMetabolism_v1_2_3.xml\")\n",
    "\n",
    "diel_model = transform.setupC3DielModel(model,\"MetabolitesToTransfer.txt\",starch_sucrose_ratio=5)\n",
    "\n",
    "PPFD=400\n",
    "diel_model.reactions.Photon_tx1.lower_bound = PPFD\n",
    "diel_model.reactions.Photon_tx1.upper_bound = PPFD\n",
    "diel_model.reactions.ATPase_tx1.lower_bound = estimateMaintenance(PPFD)\n",
    "diel_model.reactions.ATPase_tx1.upper_bound = estimateMaintenance(PPFD)\n",
    "#diel_model.metabolites.sucrose_starch_bal_c.remove_from_model()\n",
    "#diel_model.reactions.SUCROSE_v_dielTransfer.upper_bound = 0\n",
    "#diel_model.reactions.SUCROSE_v_dielTransfer.lower_bound = 0\n",
    "\n",
    "sol = pfba(diel_model)"
   ]
  },
  {
   "cell_type": "markdown",
   "metadata": {},
   "source": [
    "Import data and constrain model"
   ]
  },
  {
   "cell_type": "code",
   "execution_count": 3,
   "metadata": {},
   "outputs": [],
   "source": [
    "for rxn in diel_model.reactions:\n",
    "    if rxn.lower_bound == -1000:\n",
    "        rxn.lower_bound = -3000\n",
    "    if rxn.upper_bound == 1000:\n",
    "        rxn.upper_bound = 3000\n",
    "\n",
    "\n",
    "import pandas as pd\n",
    "from sweetlovegroup import analysis\n",
    "\n",
    "df = pd.read_csv(\"Data/CO2_400.csv\")\n",
    "\n",
    "PPFD = df[\"Light intensity\"].mean()\n",
    "diel_model.reactions.Photon_tx1.lower_bound = PPFD\n",
    "diel_model.reactions.Photon_tx1.upper_bound = PPFD\n",
    "diel_model.reactions.ATPase_tx1.lower_bound = estimateMaintenance(PPFD)\n",
    "diel_model.reactions.ATPase_tx1.upper_bound = estimateMaintenance(PPFD)\n",
    "\n",
    "output = analysis.estimateOutputFromVc(diel_model,df[\"Vc\"].mean())\n",
    "# Note: Directly constraining Vc resulted in Mal accumulating at night and citrate accumulating during the day.\n",
    "\n",
    "diel_model.reactions.diel_biomass.lower_bound = output\n",
    "diel_model.reactions.diel_biomass.upper_bound = output\n",
    "\n",
    "sol = pfba(diel_model)"
   ]
  },
  {
   "cell_type": "code",
   "execution_count": 4,
   "metadata": {},
   "outputs": [
    {
     "name": "stdout",
     "output_type": "stream",
     "text": [
      "LEU_v1 --> LEU_v2\t0.000715875578249\n",
      "GLY_v1 --> GLY_v2\t0.00300117072953\n",
      "VAL_v1 --> VAL_v2\t0.000963678672386\n",
      "ASN_v1 --> ASN_v2\t0.000523139857676\n",
      "LYS_v1 --> LYS_v2\t0.000770942951813\n",
      "THR_v1 --> THR_v2\t0.00239542986364\n",
      "ILE_v1 --> ILE_v2\t0.000605740900642\n",
      "SUCROSE_v1 + 5 sucrose_starch_bal_c <=> SUCROSE_v2\t0.148445022793\n",
      "L_ASPARTATE_v1 --> L_ASPARTATE_v2\t0.0239267650018\n",
      "STARCH_p1 <=> STARCH_p2 + sucrose_starch_bal_c\t0.742225113967\n",
      "NITRATE_v1 <=> NITRATE_v2\t-0.0609139325318\n",
      "PHE_v1 --> PHE_v2\t0.00198242471834\n",
      "0.7 MAL_v1 + 0.3 aMAL_v1 <=> 0.7 MAL_v2 + 0.3 aMAL_v2\t0.0518743720504\n",
      "0.5 CIT_v1 + 0.5 aCIT_v1 <=> 0.5 CIT_v2 + 0.5 aCIT_v2\t-0.0422209262716\n"
     ]
    }
   ],
   "source": [
    "for rxn in diel_model.reactions.query(\"dielTransfer\"):\n",
    "    if round(abs(rxn.flux),3)!=0:\n",
    "        print rxn.reaction+\"\\t\"+str(rxn.flux)"
   ]
  },
  {
   "cell_type": "code",
   "execution_count": 12,
   "metadata": {},
   "outputs": [
    {
     "name": "stdout",
     "output_type": "stream",
     "text": [
      "Malate:starch accumulation rate =0.0698903487288\n",
      "Citrate:starch accumulation rate =-0.056884259879\n"
     ]
    }
   ],
   "source": [
    "print(\"Malate:starch accumulation rate =\"+str(diel_model.reactions.MAL_v_dielTransfer.flux/\n",
    "                                              diel_model.reactions.STARCH_p_dielTransfer.flux))\n",
    "print(\"Citrate:starch accumulation rate =\"+str(diel_model.reactions.CIT_v_dielTransfer.flux/\n",
    "                                              diel_model.reactions.STARCH_p_dielTransfer.flux))"
   ]
  }
 ],
 "metadata": {
  "kernelspec": {
   "display_name": "Python 3",
   "language": "python",
   "name": "python3"
  },
  "language_info": {
   "codemirror_mode": {
    "name": "ipython",
    "version": 3
   },
   "file_extension": ".py",
   "mimetype": "text/x-python",
   "name": "python",
   "nbconvert_exporter": "python",
   "pygments_lexer": "ipython3",
   "version": "3.8.3"
  }
 },
 "nbformat": 4,
 "nbformat_minor": 2
}
